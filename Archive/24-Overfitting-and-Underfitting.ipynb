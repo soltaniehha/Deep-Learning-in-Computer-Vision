{
  "nbformat": 4,
  "nbformat_minor": 0,
  "metadata": {
    "kernelspec": {
      "display_name": "Python 3",
      "language": "python",
      "name": "python3"
    },
    "language_info": {
      "codemirror_mode": {
        "name": "ipython",
        "version": 3
      },
      "file_extension": ".py",
      "mimetype": "text/x-python",
      "name": "python",
      "nbconvert_exporter": "python",
      "pygments_lexer": "ipython3",
      "version": "3.5.2"
    },
    "colab": {
      "name": "24-Overfitting-and-Underfitting.ipynb",
      "provenance": []
    },
    "accelerator": "GPU"
  },
  "cells": [
    {
      "cell_type": "code",
      "metadata": {
        "id": "bCl9YJKUf_N8",
        "colab_type": "code",
        "colab": {
          "base_uri": "https://localhost:8080/",
          "height": 53
        },
        "outputId": "fd2137f5-41f6-42dd-b244-bf05c6e871d3"
      },
      "source": [
        "import keras\n",
        "keras.__version__"
      ],
      "execution_count": 1,
      "outputs": [
        {
          "output_type": "stream",
          "text": [
            "Using TensorFlow backend.\n"
          ],
          "name": "stderr"
        },
        {
          "output_type": "execute_result",
          "data": {
            "application/vnd.google.colaboratory.intrinsic": {
              "type": "string"
            },
            "text/plain": [
              "'2.3.1'"
            ]
          },
          "metadata": {
            "tags": []
          },
          "execution_count": 1
        }
      ]
    },
    {
      "cell_type": "code",
      "metadata": {
        "id": "Ga8T0fBdgDMu",
        "colab_type": "code",
        "colab": {
          "base_uri": "https://localhost:8080/",
          "height": 35
        },
        "outputId": "f3a20d63-4524-4956-a262-4f0a08635bef"
      },
      "source": [
        "import tensorflow as tf\n",
        "print(\"GPU Available: \", tf.config.list_physical_devices('GPU'))"
      ],
      "execution_count": 2,
      "outputs": [
        {
          "output_type": "stream",
          "text": [
            "GPU Available:  [PhysicalDevice(name='/physical_device:GPU:0', device_type='GPU')]\n"
          ],
          "name": "stdout"
        }
      ]
    },
    {
      "cell_type": "markdown",
      "metadata": {
        "id": "Z_kXJq5Hf_OA",
        "colab_type": "text"
      },
      "source": [
        "# Overfitting and underfitting\n",
        "\n",
        "This notebook contains the code samples found in Chapter 3, Section 6 of [Deep Learning with Python](https://www.manning.com/books/deep-learning-with-python?a_aid=keras&a_bid=76564dff). Note that the original text features far more content, in particular further explanations and figures: in this notebook, you will only find source code and related comments.\n",
        "\n",
        "----\n",
        "\n",
        "\n",
        "In all the examples we saw in the previous chapter -- movie review sentiment prediction, topic classification, and house price regression -- \n",
        "we could notice that the performance of our model on the held-out validation data would always peak after a few epochs and would then start \n",
        "degrading, i.e. our model would quickly start to _overfit_ to the training data. Overfitting happens in every single machine learning \n",
        "problem. Learning how to deal with overfitting is essential to mastering machine learning.\n",
        "\n",
        "The fundamental issue in machine learning is the tension between optimization and generalization. \"Optimization\" refers to the process of \n",
        "adjusting a model to get the best performance possible on the training data (the \"learning\" in \"machine learning\"), while \"generalization\" \n",
        "refers to how well the trained model would perform on data it has never seen before. The goal of the game is to get good generalization, of \n",
        "course, but you do not control generalization; you can only adjust the model based on its training data.\n",
        "\n",
        "At the beginning of training, optimization and generalization are correlated: the lower your loss on training data, the lower your loss on \n",
        "test data. While this is happening, your model is said to be _under-fit_: there is still progress to be made; the network hasn't yet \n",
        "modeled all relevant patterns in the training data. But after a certain number of iterations on the training data, generalization stops \n",
        "improving, validation metrics stall then start degrading: the model is then starting to over-fit, i.e. is it starting to learn patterns \n",
        "that are specific to the training data but that are misleading or irrelevant when it comes to new data.\n",
        "\n",
        "To prevent a model from learning misleading or irrelevant patterns found in the training data, _the best solution is of course to get \n",
        "more training data_. A model trained on more data will naturally generalize better. When that is no longer possible, the next best solution \n",
        "is to modulate the quantity of information that your model is allowed to store, or to add constraints on what information it is allowed to \n",
        "store. If a network can only afford to memorize a small number of patterns, the optimization process will force it to focus on the most \n",
        "prominent patterns, which have a better chance of generalizing well.\n",
        "\n",
        "The processing of fighting overfitting in this way is called _regularization_. Let's review some of the most common regularization \n",
        "techniques, and let's apply them in practice to improve our movie classification model from  the previous chapter."
      ]
    },
    {
      "cell_type": "markdown",
      "metadata": {
        "id": "ylsRUmksf_OB",
        "colab_type": "text"
      },
      "source": [
        "Note: in this notebook we will be using the IMDB test set as our validation set. It doesn't matter in this context.\n",
        "\n",
        "Let's prepare the data using the code from Chapter 3, Section 5:"
      ]
    },
    {
      "cell_type": "code",
      "metadata": {
        "id": "oibyG42rf_OB",
        "colab_type": "code",
        "colab": {
          "base_uri": "https://localhost:8080/",
          "height": 52
        },
        "outputId": "9a53796d-ec2a-4e53-e806-6a902271dc11"
      },
      "source": [
        "from keras.datasets import imdb\n",
        "import numpy as np\n",
        "\n",
        "(train_data, train_labels), (test_data, test_labels) = imdb.load_data(num_words=10000)\n",
        "\n",
        "def vectorize_sequences(sequences, dimension=10000):\n",
        "    # Create an all-zero matrix of shape (len(sequences), dimension)\n",
        "    results = np.zeros((len(sequences), dimension))\n",
        "    for i, sequence in enumerate(sequences):\n",
        "        results[i, sequence] = 1.  # set specific indices of results[i] to 1s\n",
        "    return results\n",
        "\n",
        "# Our vectorized training data\n",
        "x_train = vectorize_sequences(train_data)\n",
        "# Our vectorized test data\n",
        "x_test = vectorize_sequences(test_data)\n",
        "# Our vectorized labels\n",
        "y_train = np.asarray(train_labels).astype('float32')\n",
        "y_test = np.asarray(test_labels).astype('float32')"
      ],
      "execution_count": 3,
      "outputs": [
        {
          "output_type": "stream",
          "text": [
            "Downloading data from https://s3.amazonaws.com/text-datasets/imdb.npz\n",
            "17465344/17464789 [==============================] - 1s 0us/step\n"
          ],
          "name": "stdout"
        }
      ]
    },
    {
      "cell_type": "markdown",
      "metadata": {
        "id": "xuXu1UXFf_OD",
        "colab_type": "text"
      },
      "source": [
        "# Fighting overfitting\n",
        "\n",
        "## Reducing the network's size\n",
        "\n",
        "\n",
        "The simplest way to prevent overfitting is to reduce the size of the model, i.e. the number of learnable parameters in the model (which is \n",
        "determined by the number of layers and the number of units per layer). In deep learning, the number of learnable parameters in a model is \n",
        "often referred to as the model's \"capacity\". Intuitively, a model with more parameters will have more \"memorization capacity\" and therefore \n",
        "will be able to easily learn a perfect dictionary-like mapping between training samples and their targets, a mapping without any \n",
        "generalization power. For instance, a model with 500,000 binary parameters could easily be made to learn the class of every digits in the \n",
        "MNIST training set: we would only need 10 binary parameters for each of the 50,000 digits. Such a model would be useless for classifying \n",
        "new digit samples. Always keep this in mind: deep learning models tend to be good at fitting to the training data, but the real challenge \n",
        "is generalization, not fitting.\n",
        "\n",
        "On the other hand, if the network has limited memorization resources, it will not be able to learn this mapping as easily, and thus, in \n",
        "order to minimize its loss, it will have to resort to learning compressed representations that have predictive power regarding the targets \n",
        "-- precisely the type of representations that we are interested in. At the same time, keep in mind that you should be using models that have \n",
        "enough parameters that they won't be underfitting: your model shouldn't be starved for memorization resources. There is a compromise to be \n",
        "found between \"too much capacity\" and \"not enough capacity\".\n",
        "\n",
        "Unfortunately, there is no magical formula to determine what the right number of layers is, or what the right size for each layer is. You \n",
        "will have to evaluate an array of different architectures (on your validation set, not on your test set, of course) in order to find the \n",
        "right model size for your data. The general workflow to find an appropriate model size is to start with relatively few layers and \n",
        "parameters, and start increasing the size of the layers or adding new layers until you see diminishing returns with regard to the \n",
        "validation loss.\n",
        "\n",
        "Let's try this on our movie review classification network. Our original network was as such:"
      ]
    },
    {
      "cell_type": "code",
      "metadata": {
        "id": "yEgj0YAJf_OE",
        "colab_type": "code",
        "colab": {}
      },
      "source": [
        "from keras import models\n",
        "from keras import layers\n",
        "\n",
        "original_model = models.Sequential()\n",
        "original_model.add(layers.Dense(16, activation='relu', input_shape=(10000,)))\n",
        "original_model.add(layers.Dense(16, activation='relu'))\n",
        "original_model.add(layers.Dense(1, activation='sigmoid'))\n",
        "\n",
        "original_model.compile(optimizer='rmsprop',\n",
        "                       loss='binary_crossentropy',\n",
        "                       metrics=['acc'])"
      ],
      "execution_count": 4,
      "outputs": []
    },
    {
      "cell_type": "markdown",
      "metadata": {
        "id": "olXHDH7Wf_OG",
        "colab_type": "text"
      },
      "source": [
        "Now let's try to replace it with this smaller network:"
      ]
    },
    {
      "cell_type": "code",
      "metadata": {
        "id": "mFhzzmMLf_OG",
        "colab_type": "code",
        "colab": {}
      },
      "source": [
        "smaller_model = models.Sequential()\n",
        "smaller_model.add(layers.Dense(4, activation='relu', input_shape=(10000,)))\n",
        "smaller_model.add(layers.Dense(4, activation='relu'))\n",
        "smaller_model.add(layers.Dense(1, activation='sigmoid'))\n",
        "\n",
        "smaller_model.compile(optimizer='rmsprop',\n",
        "                      loss='binary_crossentropy',\n",
        "                      metrics=['acc'])"
      ],
      "execution_count": 5,
      "outputs": []
    },
    {
      "cell_type": "markdown",
      "metadata": {
        "id": "ihkLXiyCf_OI",
        "colab_type": "text"
      },
      "source": [
        "\n",
        "Here's a comparison of the validation losses of the original network and the smaller network. The dots are the validation loss values of \n",
        "the smaller network, and the crosses are the initial network (remember: a lower validation loss signals a better model)."
      ]
    },
    {
      "cell_type": "code",
      "metadata": {
        "id": "2gBNIFYif_OI",
        "colab_type": "code",
        "colab": {
          "base_uri": "https://localhost:8080/",
          "height": 725
        },
        "outputId": "87a1e4fb-f8bb-454a-ea91-e9092c73f8d0"
      },
      "source": [
        "original_hist = original_model.fit(x_train, y_train,\n",
        "                                   epochs=20,\n",
        "                                   batch_size=512,\n",
        "                                   validation_data=(x_test, y_test))"
      ],
      "execution_count": 6,
      "outputs": [
        {
          "output_type": "stream",
          "text": [
            "Train on 25000 samples, validate on 25000 samples\n",
            "Epoch 1/20\n",
            "25000/25000 [==============================] - 4s 151us/step - loss: 0.4553 - acc: 0.8276 - val_loss: 0.3482 - val_acc: 0.8697\n",
            "Epoch 2/20\n",
            "25000/25000 [==============================] - 2s 80us/step - loss: 0.2607 - acc: 0.9089 - val_loss: 0.2896 - val_acc: 0.8855\n",
            "Epoch 3/20\n",
            "25000/25000 [==============================] - 2s 80us/step - loss: 0.2018 - acc: 0.9274 - val_loss: 0.2797 - val_acc: 0.8890\n",
            "Epoch 4/20\n",
            "25000/25000 [==============================] - 2s 82us/step - loss: 0.1708 - acc: 0.9397 - val_loss: 0.2951 - val_acc: 0.8835\n",
            "Epoch 5/20\n",
            "25000/25000 [==============================] - 2s 80us/step - loss: 0.1473 - acc: 0.9487 - val_loss: 0.3059 - val_acc: 0.8818\n",
            "Epoch 6/20\n",
            "25000/25000 [==============================] - 2s 80us/step - loss: 0.1314 - acc: 0.9540 - val_loss: 0.3289 - val_acc: 0.8773\n",
            "Epoch 7/20\n",
            "25000/25000 [==============================] - 2s 81us/step - loss: 0.1148 - acc: 0.9601 - val_loss: 0.3544 - val_acc: 0.8728\n",
            "Epoch 8/20\n",
            "25000/25000 [==============================] - 2s 80us/step - loss: 0.1040 - acc: 0.9650 - val_loss: 0.3908 - val_acc: 0.8658\n",
            "Epoch 9/20\n",
            "25000/25000 [==============================] - 2s 80us/step - loss: 0.0924 - acc: 0.9687 - val_loss: 0.4223 - val_acc: 0.8606\n",
            "Epoch 10/20\n",
            "25000/25000 [==============================] - 2s 81us/step - loss: 0.0820 - acc: 0.9731 - val_loss: 0.4626 - val_acc: 0.8561\n",
            "Epoch 11/20\n",
            "25000/25000 [==============================] - 2s 80us/step - loss: 0.0748 - acc: 0.9759 - val_loss: 0.4609 - val_acc: 0.8613\n",
            "Epoch 12/20\n",
            "25000/25000 [==============================] - 2s 80us/step - loss: 0.0643 - acc: 0.9800 - val_loss: 0.4909 - val_acc: 0.8584\n",
            "Epoch 13/20\n",
            "25000/25000 [==============================] - 2s 80us/step - loss: 0.0588 - acc: 0.9813 - val_loss: 0.5154 - val_acc: 0.8600\n",
            "Epoch 14/20\n",
            "25000/25000 [==============================] - 2s 80us/step - loss: 0.0518 - acc: 0.9834 - val_loss: 0.5652 - val_acc: 0.8522\n",
            "Epoch 15/20\n",
            "25000/25000 [==============================] - 2s 80us/step - loss: 0.0445 - acc: 0.9871 - val_loss: 0.5837 - val_acc: 0.8543\n",
            "Epoch 16/20\n",
            "25000/25000 [==============================] - 2s 80us/step - loss: 0.0412 - acc: 0.9876 - val_loss: 0.6200 - val_acc: 0.8532\n",
            "Epoch 17/20\n",
            "25000/25000 [==============================] - 2s 80us/step - loss: 0.0331 - acc: 0.9912 - val_loss: 0.6530 - val_acc: 0.8528\n",
            "Epoch 18/20\n",
            "25000/25000 [==============================] - 2s 80us/step - loss: 0.0289 - acc: 0.9921 - val_loss: 0.7488 - val_acc: 0.8407\n",
            "Epoch 19/20\n",
            "25000/25000 [==============================] - 2s 80us/step - loss: 0.0253 - acc: 0.9932 - val_loss: 0.7271 - val_acc: 0.8485\n",
            "Epoch 20/20\n",
            "25000/25000 [==============================] - 2s 81us/step - loss: 0.0224 - acc: 0.9942 - val_loss: 0.7732 - val_acc: 0.8473\n"
          ],
          "name": "stdout"
        }
      ]
    },
    {
      "cell_type": "code",
      "metadata": {
        "id": "aufHqW4_f_OL",
        "colab_type": "code",
        "colab": {
          "base_uri": "https://localhost:8080/",
          "height": 725
        },
        "outputId": "eed4c349-e577-4d8a-ff27-009d8e58e822"
      },
      "source": [
        "smaller_model_hist = smaller_model.fit(x_train, y_train,\n",
        "                                       epochs=20,\n",
        "                                       batch_size=512,\n",
        "                                       validation_data=(x_test, y_test))"
      ],
      "execution_count": 7,
      "outputs": [
        {
          "output_type": "stream",
          "text": [
            "Train on 25000 samples, validate on 25000 samples\n",
            "Epoch 1/20\n",
            "25000/25000 [==============================] - 2s 83us/step - loss: 0.6070 - acc: 0.7018 - val_loss: 0.5582 - val_acc: 0.7826\n",
            "Epoch 2/20\n",
            "25000/25000 [==============================] - 2s 81us/step - loss: 0.5117 - acc: 0.8246 - val_loss: 0.5085 - val_acc: 0.8352\n",
            "Epoch 3/20\n",
            "25000/25000 [==============================] - 2s 80us/step - loss: 0.4623 - acc: 0.8742 - val_loss: 0.4798 - val_acc: 0.8629\n",
            "Epoch 4/20\n",
            "25000/25000 [==============================] - 2s 80us/step - loss: 0.4273 - acc: 0.9018 - val_loss: 0.4623 - val_acc: 0.8683\n",
            "Epoch 5/20\n",
            "25000/25000 [==============================] - 2s 80us/step - loss: 0.3993 - acc: 0.9187 - val_loss: 0.4504 - val_acc: 0.8730\n",
            "Epoch 6/20\n",
            "25000/25000 [==============================] - 2s 80us/step - loss: 0.3756 - acc: 0.9318 - val_loss: 0.4442 - val_acc: 0.8756\n",
            "Epoch 7/20\n",
            "25000/25000 [==============================] - 2s 81us/step - loss: 0.3542 - acc: 0.9435 - val_loss: 0.4426 - val_acc: 0.8741\n",
            "Epoch 8/20\n",
            "25000/25000 [==============================] - 2s 80us/step - loss: 0.3348 - acc: 0.9520 - val_loss: 0.4536 - val_acc: 0.8653\n",
            "Epoch 9/20\n",
            "25000/25000 [==============================] - 2s 81us/step - loss: 0.3172 - acc: 0.9578 - val_loss: 0.4390 - val_acc: 0.8744\n",
            "Epoch 10/20\n",
            "25000/25000 [==============================] - 2s 81us/step - loss: 0.3013 - acc: 0.9638 - val_loss: 0.4453 - val_acc: 0.8718\n",
            "Epoch 11/20\n",
            "25000/25000 [==============================] - 2s 81us/step - loss: 0.2863 - acc: 0.9677 - val_loss: 0.4367 - val_acc: 0.8708\n",
            "Epoch 12/20\n",
            "25000/25000 [==============================] - 2s 81us/step - loss: 0.2717 - acc: 0.9722 - val_loss: 0.4864 - val_acc: 0.8635\n",
            "Epoch 13/20\n",
            "25000/25000 [==============================] - 2s 80us/step - loss: 0.2585 - acc: 0.9748 - val_loss: 0.4781 - val_acc: 0.8650\n",
            "Epoch 14/20\n",
            "25000/25000 [==============================] - 2s 82us/step - loss: 0.2455 - acc: 0.9784 - val_loss: 0.4943 - val_acc: 0.8626\n",
            "Epoch 15/20\n",
            "25000/25000 [==============================] - 2s 82us/step - loss: 0.2341 - acc: 0.9798 - val_loss: 0.5292 - val_acc: 0.8595\n",
            "Epoch 16/20\n",
            "25000/25000 [==============================] - 2s 81us/step - loss: 0.2225 - acc: 0.9826 - val_loss: 0.5304 - val_acc: 0.8599\n",
            "Epoch 17/20\n",
            "25000/25000 [==============================] - 2s 82us/step - loss: 0.2130 - acc: 0.9840 - val_loss: 0.5375 - val_acc: 0.8582\n",
            "Epoch 18/20\n",
            "25000/25000 [==============================] - 2s 81us/step - loss: 0.2029 - acc: 0.9856 - val_loss: 0.5936 - val_acc: 0.8548\n",
            "Epoch 19/20\n",
            "25000/25000 [==============================] - 2s 81us/step - loss: 0.1941 - acc: 0.9863 - val_loss: 0.5890 - val_acc: 0.8552\n",
            "Epoch 20/20\n",
            "25000/25000 [==============================] - 2s 83us/step - loss: 0.1862 - acc: 0.9872 - val_loss: 0.5919 - val_acc: 0.8544\n"
          ],
          "name": "stdout"
        }
      ]
    },
    {
      "cell_type": "code",
      "metadata": {
        "id": "SaymaRlMf_ON",
        "colab_type": "code",
        "colab": {}
      },
      "source": [
        "epochs = range(1, 21)\n",
        "original_val_loss = original_hist.history['val_loss']\n",
        "smaller_model_val_loss = smaller_model_hist.history['val_loss']"
      ],
      "execution_count": 8,
      "outputs": []
    },
    {
      "cell_type": "code",
      "metadata": {
        "id": "auylnv_sf_OP",
        "colab_type": "code",
        "colab": {
          "base_uri": "https://localhost:8080/",
          "height": 279
        },
        "outputId": "aa86185a-dbbe-42a1-be66-b4ca78d90a87"
      },
      "source": [
        "import matplotlib.pyplot as plt\n",
        "\n",
        "# b+ is for \"blue cross\"\n",
        "plt.plot(epochs, original_val_loss, 'b+', label='Original model')\n",
        "# \"bo\" is for \"blue dot\"\n",
        "plt.plot(epochs, smaller_model_val_loss, 'bo', label='Smaller model')\n",
        "plt.xlabel('Epochs')\n",
        "plt.ylabel('Validation loss')\n",
        "plt.legend()\n",
        "\n",
        "plt.show()"
      ],
      "execution_count": 9,
      "outputs": [
        {
          "output_type": "display_data",
          "data": {
            "image/png": "[encoded data removed]",
            "text/plain": [
              "<Figure size 432x288 with 1 Axes>"
            ]
          },
          "metadata": {
            "tags": [],
            "needs_background": "light"
          }
        }
      ]
    },
    {
      "cell_type": "markdown",
      "metadata": {
        "id": "IM-tckaTf_OR",
        "colab_type": "text"
      },
      "source": [
        "\n",
        "As you can see, the smaller network starts overfitting later than the reference one (after 6 epochs rather than 4) and its performance \n",
        "degrades much more slowly once it starts overfitting.\n",
        "\n",
        "Now, for kicks, let's add to this benchmark a network that has much more capacity, far more than the problem would warrant:"
      ]
    },
    {
      "cell_type": "code",
      "metadata": {
        "id": "i9EG9oyXf_OR",
        "colab_type": "code",
        "colab": {}
      },
      "source": [
        "bigger_model = models.Sequential()\n",
        "bigger_model.add(layers.Dense(512, activation='relu', input_shape=(10000,)))\n",
        "bigger_model.add(layers.Dense(512, activation='relu'))\n",
        "bigger_model.add(layers.Dense(1, activation='sigmoid'))\n",
        "\n",
        "bigger_model.compile(optimizer='rmsprop',\n",
        "                     loss='binary_crossentropy',\n",
        "                     metrics=['acc'])"
      ],
      "execution_count": 10,
      "outputs": []
    },
    {
      "cell_type": "code",
      "metadata": {
        "id": "sDVE626hf_OT",
        "colab_type": "code",
        "colab": {
          "base_uri": "https://localhost:8080/",
          "height": 725
        },
        "outputId": "71c907c8-15ad-496d-aaed-345c3fc782db"
      },
      "source": [
        "bigger_model_hist = bigger_model.fit(x_train, y_train,\n",
        "                                     epochs=20,\n",
        "                                     batch_size=512,\n",
        "                                     validation_data=(x_test, y_test))"
      ],
      "execution_count": 11,
      "outputs": [
        {
          "output_type": "stream",
          "text": [
            "Train on 25000 samples, validate on 25000 samples\n",
            "Epoch 1/20\n",
            "25000/25000 [==============================] - 3s 101us/step - loss: 0.4442 - acc: 0.7961 - val_loss: 0.3179 - val_acc: 0.8692\n",
            "Epoch 2/20\n",
            "25000/25000 [==============================] - 2s 97us/step - loss: 0.2232 - acc: 0.9116 - val_loss: 0.3820 - val_acc: 0.8510\n",
            "Epoch 3/20\n",
            "25000/25000 [==============================] - 2s 96us/step - loss: 0.1297 - acc: 0.9520 - val_loss: 0.5851 - val_acc: 0.8123\n",
            "Epoch 4/20\n",
            "25000/25000 [==============================] - 2s 96us/step - loss: 0.0645 - acc: 0.9795 - val_loss: 0.4344 - val_acc: 0.8844\n",
            "Epoch 5/20\n",
            "25000/25000 [==============================] - 2s 96us/step - loss: 0.0813 - acc: 0.9869 - val_loss: 0.4930 - val_acc: 0.8811\n",
            "Epoch 6/20\n",
            "25000/25000 [==============================] - 2s 96us/step - loss: 0.0016 - acc: 0.9998 - val_loss: 0.7187 - val_acc: 0.8818\n",
            "Epoch 7/20\n",
            "25000/25000 [==============================] - 2s 97us/step - loss: 0.1273 - acc: 0.9880 - val_loss: 0.5818 - val_acc: 0.8810\n",
            "Epoch 8/20\n",
            "25000/25000 [==============================] - 2s 97us/step - loss: 2.9278e-04 - acc: 1.0000 - val_loss: 0.7402 - val_acc: 0.8818\n",
            "Epoch 9/20\n",
            "25000/25000 [==============================] - 2s 96us/step - loss: 5.5975e-05 - acc: 1.0000 - val_loss: 0.9454 - val_acc: 0.8790\n",
            "Epoch 10/20\n",
            "25000/25000 [==============================] - 2s 96us/step - loss: 6.8360e-06 - acc: 1.0000 - val_loss: 1.0973 - val_acc: 0.8796\n",
            "Epoch 11/20\n",
            "25000/25000 [==============================] - 2s 96us/step - loss: 8.8139e-07 - acc: 1.0000 - val_loss: 1.2404 - val_acc: 0.8794\n",
            "Epoch 12/20\n",
            "25000/25000 [==============================] - 2s 98us/step - loss: 1.5270e-07 - acc: 1.0000 - val_loss: 1.3707 - val_acc: 0.8792\n",
            "Epoch 13/20\n",
            "25000/25000 [==============================] - 2s 97us/step - loss: 4.2520e-08 - acc: 1.0000 - val_loss: 1.4486 - val_acc: 0.8794\n",
            "Epoch 14/20\n",
            "25000/25000 [==============================] - 2s 97us/step - loss: 2.0148e-08 - acc: 1.0000 - val_loss: 1.4935 - val_acc: 0.8788\n",
            "Epoch 15/20\n",
            "25000/25000 [==============================] - 2s 96us/step - loss: 1.3120e-08 - acc: 1.0000 - val_loss: 1.5212 - val_acc: 0.8788\n",
            "Epoch 16/20\n",
            "25000/25000 [==============================] - 2s 96us/step - loss: 9.7101e-09 - acc: 1.0000 - val_loss: 1.5419 - val_acc: 0.8789\n",
            "Epoch 17/20\n",
            "25000/25000 [==============================] - 2s 97us/step - loss: 7.7369e-09 - acc: 1.0000 - val_loss: 1.5592 - val_acc: 0.8786\n",
            "Epoch 18/20\n",
            "25000/25000 [==============================] - 2s 100us/step - loss: 6.4403e-09 - acc: 1.0000 - val_loss: 1.5725 - val_acc: 0.8784\n",
            "Epoch 19/20\n",
            "25000/25000 [==============================] - 2s 99us/step - loss: 5.5439e-09 - acc: 1.0000 - val_loss: 1.5836 - val_acc: 0.8788\n",
            "Epoch 20/20\n",
            "25000/25000 [==============================] - 2s 98us/step - loss: 4.8611e-09 - acc: 1.0000 - val_loss: 1.5928 - val_acc: 0.8791\n"
          ],
          "name": "stdout"
        }
      ]
    },
    {
      "cell_type": "markdown",
      "metadata": {
        "id": "JlmCKfK9f_OV",
        "colab_type": "text"
      },
      "source": [
        "Here's how the bigger network fares compared to the reference one. The dots are the validation loss values of the bigger network, and the \n",
        "crosses are the initial network."
      ]
    },
    {
      "cell_type": "code",
      "metadata": {
        "id": "TDGMIFeBf_OV",
        "colab_type": "code",
        "colab": {
          "base_uri": "https://localhost:8080/",
          "height": 279
        },
        "outputId": "7cf8cb51-aec8-4ebc-df7f-390404d2743a"
      },
      "source": [
        "bigger_model_val_loss = bigger_model_hist.history['val_loss']\n",
        "\n",
        "plt.plot(epochs, original_val_loss, 'b+', label='Original model')\n",
        "plt.plot(epochs, bigger_model_val_loss, 'bo', label='Bigger model')\n",
        "plt.xlabel('Epochs')\n",
        "plt.ylabel('Validation loss')\n",
        "plt.legend()\n",
        "\n",
        "plt.show()"
      ],
      "execution_count": 12,
      "outputs": [
        {
          "output_type": "display_data",
          "data": {
            "image/png": "[encoded data removed]",
            "text/plain": [
              "<Figure size 432x288 with 1 Axes>"
            ]
          },
          "metadata": {
            "tags": [],
            "needs_background": "light"
          }
        }
      ]
    },
    {
      "cell_type": "markdown",
      "metadata": {
        "id": "N1LYBrFxf_OX",
        "colab_type": "text"
      },
      "source": [
        "\n",
        "The bigger network starts overfitting almost right away, after just one epoch, and overfits much more severely. Its validation loss is also \n",
        "more noisy.\n",
        "\n",
        "Meanwhile, here are the training losses for our two networks:"
      ]
    },
    {
      "cell_type": "code",
      "metadata": {
        "id": "46_yGO3vf_OX",
        "colab_type": "code",
        "colab": {
          "base_uri": "https://localhost:8080/",
          "height": 279
        },
        "outputId": "0f6a230f-1b46-4464-e33b-8c02c313a6b2"
      },
      "source": [
        "original_train_loss = original_hist.history['loss']\n",
        "bigger_model_train_loss = bigger_model_hist.history['loss']\n",
        "\n",
        "plt.plot(epochs, original_train_loss, 'b+', label='Original model')\n",
        "plt.plot(epochs, bigger_model_train_loss, 'bo', label='Bigger model')\n",
        "plt.xlabel('Epochs')\n",
        "plt.ylabel('Training loss')\n",
        "plt.legend()\n",
        "\n",
        "plt.show()"
      ],
      "execution_count": 13,
      "outputs": [
        {
          "output_type": "display_data",
          "data": {
            "image/png": "[encoded data removed]",
            "text/plain": [
              "<Figure size 432x288 with 1 Axes>"
            ]
          },
          "metadata": {
            "tags": [],
            "needs_background": "light"
          }
        }
      ]
    },
    {
      "cell_type": "markdown",
      "metadata": {
        "id": "2pgiv3Sbf_OZ",
        "colab_type": "text"
      },
      "source": [
        "As you can see, the bigger network gets its training loss near zero very quickly. The more capacity the network has, the quicker it will be \n",
        "able to model the training data (resulting in a low training loss), but the more susceptible it is to overfitting (resulting in a large \n",
        "difference between the training and validation loss)."
      ]
    },
    {
      "cell_type": "markdown",
      "metadata": {
        "id": "fXcGumxrf_Oa",
        "colab_type": "text"
      },
      "source": [
        "## Adding weight regularization\n",
        "\n",
        "\n",
        "You may be familiar with _Occam's Razor_ principle: given two explanations for something, the explanation most likely to be correct is the \n",
        "\"simplest\" one, the one that makes the least amount of assumptions. This also applies to the models learned by neural networks: given some \n",
        "training data and a network architecture, there are multiple sets of weights values (multiple _models_) that could explain the data, and \n",
        "simpler models are less likely to overfit than complex ones.\n",
        "\n",
        "A \"simple model\" in this context is a model where the distribution of parameter values has less entropy (or a model with fewer \n",
        "parameters altogether, as we saw in the section above). Thus a common way to mitigate overfitting is to put constraints on the complexity \n",
        "of a network by forcing its weights to only take small values, which makes the distribution of weight values more \"regular\". This is called \n",
        "\"weight regularization\", and it is done by adding to the loss function of the network a _cost_ associated with having large weights. This \n",
        "cost comes in two flavors:\n",
        "\n",
        "* L1 regularization, where the cost added is proportional to the _absolute value of the weights coefficients_ (i.e. to what is called the \n",
        "\"L1 norm\" of the weights).\n",
        "* L2 regularization, where the cost added is proportional to the _square of the value of the weights coefficients_ (i.e. to what is called \n",
        "the \"L2 norm\" of the weights). L2 regularization is also called _weight decay_ in the context of neural networks. Don't let the different \n",
        "name confuse you: weight decay is mathematically the exact same as L2 regularization.\n",
        "\n",
        "In Keras, weight regularization is added by passing _weight regularizer instances_ to layers as keyword arguments. Let's add L2 weight \n",
        "regularization to our movie review classification network:"
      ]
    },
    {
      "cell_type": "code",
      "metadata": {
        "id": "IdN3CE6Zf_Oa",
        "colab_type": "code",
        "colab": {}
      },
      "source": [
        "from keras import regularizers\n",
        "\n",
        "l2_model = models.Sequential()\n",
        "l2_model.add(layers.Dense(16, kernel_regularizer=regularizers.l2(0.001),\n",
        "                          activation='relu', input_shape=(10000,)))\n",
        "l2_model.add(layers.Dense(16, kernel_regularizer=regularizers.l2(0.001),\n",
        "                          activation='relu'))\n",
        "l2_model.add(layers.Dense(1, activation='sigmoid'))"
      ],
      "execution_count": 14,
      "outputs": []
    },
    {
      "cell_type": "code",
      "metadata": {
        "id": "eWvTIM31f_Oc",
        "colab_type": "code",
        "colab": {}
      },
      "source": [
        "l2_model.compile(optimizer='rmsprop',\n",
        "                 loss='binary_crossentropy',\n",
        "                 metrics=['acc'])"
      ],
      "execution_count": 15,
      "outputs": []
    },
    {
      "cell_type": "markdown",
      "metadata": {
        "id": "GQRQq8WFf_Oe",
        "colab_type": "text"
      },
      "source": [
        "`l2(0.001)` means that every coefficient in the weight matrix of the layer will add `0.001 * weight_coefficient_value` to the total loss of \n",
        "the network. Note that because this penalty is _only added at training time_, the loss for this network will be much higher at training \n",
        "than at test time.\n",
        "\n",
        "Here's the impact of our L2 regularization penalty:"
      ]
    },
    {
      "cell_type": "code",
      "metadata": {
        "id": "cD1HyxcZf_Oe",
        "colab_type": "code",
        "colab": {
          "base_uri": "https://localhost:8080/",
          "height": 725
        },
        "outputId": "35b4539a-8aff-4a1a-e37d-2d66c4382f8a"
      },
      "source": [
        "l2_model_hist = l2_model.fit(x_train, y_train,\n",
        "                             epochs=20,\n",
        "                             batch_size=512,\n",
        "                             validation_data=(x_test, y_test))"
      ],
      "execution_count": 16,
      "outputs": [
        {
          "output_type": "stream",
          "text": [
            "Train on 25000 samples, validate on 25000 samples\n",
            "Epoch 1/20\n",
            "25000/25000 [==============================] - 2s 88us/step - loss: 0.4785 - acc: 0.8239 - val_loss: 0.3702 - val_acc: 0.8822\n",
            "Epoch 2/20\n",
            "25000/25000 [==============================] - 2s 82us/step - loss: 0.3091 - acc: 0.9052 - val_loss: 0.3478 - val_acc: 0.8795\n",
            "Epoch 3/20\n",
            "25000/25000 [==============================] - 2s 81us/step - loss: 0.2643 - acc: 0.9227 - val_loss: 0.3289 - val_acc: 0.8895\n",
            "Epoch 4/20\n",
            "25000/25000 [==============================] - 2s 82us/step - loss: 0.2462 - acc: 0.9300 - val_loss: 0.3797 - val_acc: 0.8687\n",
            "Epoch 5/20\n",
            "25000/25000 [==============================] - 2s 81us/step - loss: 0.2346 - acc: 0.9343 - val_loss: 0.3435 - val_acc: 0.8843\n",
            "Epoch 6/20\n",
            "25000/25000 [==============================] - 2s 80us/step - loss: 0.2226 - acc: 0.9394 - val_loss: 0.3593 - val_acc: 0.8797\n",
            "Epoch 7/20\n",
            "25000/25000 [==============================] - 2s 81us/step - loss: 0.2219 - acc: 0.9401 - val_loss: 0.3723 - val_acc: 0.8758\n",
            "Epoch 8/20\n",
            "25000/25000 [==============================] - 2s 82us/step - loss: 0.2160 - acc: 0.9422 - val_loss: 0.3766 - val_acc: 0.8748\n",
            "Epoch 9/20\n",
            "25000/25000 [==============================] - 2s 82us/step - loss: 0.2146 - acc: 0.9407 - val_loss: 0.4481 - val_acc: 0.8532\n",
            "Epoch 10/20\n",
            "25000/25000 [==============================] - 2s 81us/step - loss: 0.2085 - acc: 0.9447 - val_loss: 0.4147 - val_acc: 0.8643\n",
            "Epoch 11/20\n",
            "25000/25000 [==============================] - 2s 82us/step - loss: 0.2046 - acc: 0.9454 - val_loss: 0.3964 - val_acc: 0.8716\n",
            "Epoch 12/20\n",
            "25000/25000 [==============================] - 2s 82us/step - loss: 0.1998 - acc: 0.9460 - val_loss: 0.4234 - val_acc: 0.8615\n",
            "Epoch 13/20\n",
            "25000/25000 [==============================] - 2s 82us/step - loss: 0.1991 - acc: 0.9482 - val_loss: 0.3908 - val_acc: 0.8730\n",
            "Epoch 14/20\n",
            "25000/25000 [==============================] - 2s 82us/step - loss: 0.1949 - acc: 0.9504 - val_loss: 0.4325 - val_acc: 0.8619\n",
            "Epoch 15/20\n",
            "25000/25000 [==============================] - 2s 82us/step - loss: 0.1943 - acc: 0.9495 - val_loss: 0.4260 - val_acc: 0.8664\n",
            "Epoch 16/20\n",
            "25000/25000 [==============================] - 2s 82us/step - loss: 0.1909 - acc: 0.9500 - val_loss: 0.4562 - val_acc: 0.8602\n",
            "Epoch 17/20\n",
            "25000/25000 [==============================] - 2s 82us/step - loss: 0.1853 - acc: 0.9530 - val_loss: 0.4189 - val_acc: 0.8677\n",
            "Epoch 18/20\n",
            "25000/25000 [==============================] - 2s 82us/step - loss: 0.1855 - acc: 0.9533 - val_loss: 0.4277 - val_acc: 0.8677\n",
            "Epoch 19/20\n",
            "25000/25000 [==============================] - 2s 82us/step - loss: 0.1790 - acc: 0.9568 - val_loss: 0.4217 - val_acc: 0.8678\n",
            "Epoch 20/20\n",
            "25000/25000 [==============================] - 2s 82us/step - loss: 0.1810 - acc: 0.9552 - val_loss: 0.4280 - val_acc: 0.8674\n"
          ],
          "name": "stdout"
        }
      ]
    },
    {
      "cell_type": "code",
      "metadata": {
        "id": "QZDbc1n6f_Og",
        "colab_type": "code",
        "colab": {
          "base_uri": "https://localhost:8080/",
          "height": 279
        },
        "outputId": "210648e1-48a4-4155-cf5f-6eefa74cd4ff"
      },
      "source": [
        "l2_model_val_loss = l2_model_hist.history['val_loss']\n",
        "\n",
        "plt.plot(epochs, original_val_loss, 'b+', label='Original model')\n",
        "plt.plot(epochs, l2_model_val_loss, 'bo', label='L2-regularized model')\n",
        "plt.xlabel('Epochs')\n",
        "plt.ylabel('Validation loss')\n",
        "plt.legend()\n",
        "\n",
        "plt.show()"
      ],
      "execution_count": 17,
      "outputs": [
        {
          "output_type": "display_data",
          "data": {
            "image/png": "[encoded data removed]",
            "text/plain": [
              "<Figure size 432x288 with 1 Axes>"
            ]
          },
          "metadata": {
            "tags": [],
            "needs_background": "light"
          }
        }
      ]
    },
    {
      "cell_type": "markdown",
      "metadata": {
        "id": "kL2Ak48Cf_Oi",
        "colab_type": "text"
      },
      "source": [
        "\n",
        "\n",
        "As you can see, the model with L2 regularization (dots) has become much more resistant to overfitting than the reference model (crosses), \n",
        "even though both models have the same number of parameters.\n",
        "\n",
        "As alternatives to L2 regularization, you could use one of the following Keras weight regularizers:"
      ]
    },
    {
      "cell_type": "code",
      "metadata": {
        "id": "YdGk3F4Wf_Oj",
        "colab_type": "code",
        "colab": {
          "base_uri": "https://localhost:8080/",
          "height": 35
        },
        "outputId": "db1589d2-767b-44d4-8bb6-76e10141b52a"
      },
      "source": [
        "from keras import regularizers\n",
        "\n",
        "# L1 regularization\n",
        "regularizers.l1(0.001)\n",
        "\n",
        "# L1 and L2 regularization at the same time\n",
        "regularizers.l1_l2(l1=0.001, l2=0.001)"
      ],
      "execution_count": 18,
      "outputs": [
        {
          "output_type": "execute_result",
          "data": {
            "text/plain": [
              "<keras.regularizers.L1L2 at 0x7f7ca3e857b8>"
            ]
          },
          "metadata": {
            "tags": []
          },
          "execution_count": 18
        }
      ]
    },
    {
      "cell_type": "markdown",
      "metadata": {
        "id": "h2ZCMN2lf_Ol",
        "colab_type": "text"
      },
      "source": [
        "## Adding dropout\n",
        "\n",
        "\n",
        "Dropout is one of the most effective and most commonly used regularization techniques for neural networks, developed by Hinton and his \n",
        "students at the University of Toronto. Dropout, applied to a layer, consists of randomly \"dropping out\" (i.e. setting to zero) a number of \n",
        "output features of the layer during training. Let's say a given layer would normally have returned a vector `[0.2, 0.5, 1.3, 0.8, 1.1]` for a \n",
        "given input sample during training; after applying dropout, this vector will have a few zero entries distributed at random, e.g. `[0, 0.5, \n",
        "1.3, 0, 1.1]`. The \"dropout rate\" is the fraction of the features that are being zeroed-out; it is usually set between 0.2 and 0.5. At test \n",
        "time, no units are dropped out, and instead the layer's output values are scaled down by a factor equal to the dropout rate, so as to \n",
        "balance for the fact that more units are active than at training time.\n",
        "\n",
        "Consider a Numpy matrix containing the output of a layer, `layer_output`, of shape `(batch_size, features)`. At training time, we would be \n",
        "zero-ing out at random a fraction of the values in the matrix:\n",
        "\n",
        "```\n",
        "# At training time: we drop out 50% of the units in the output\n",
        "layer_output *= np.randint(0, high=2, size=layer_output.shape)\n",
        "```"
      ]
    },
    {
      "cell_type": "markdown",
      "metadata": {
        "id": "ojowHSv9f_On",
        "colab_type": "text"
      },
      "source": [
        "\n",
        "At test time, we would be scaling the output down by the dropout rate. Here we scale by 0.5 (because we were previous dropping half the \n",
        "units):\n",
        "\n",
        "```\n",
        "# At test time:\n",
        "layer_output *= 0.5\n",
        "```"
      ]
    },
    {
      "cell_type": "markdown",
      "metadata": {
        "id": "Rxx_NnVdf_Op",
        "colab_type": "text"
      },
      "source": [
        "\n",
        "Note that this process can be implemented by doing both operations at training time and leaving the output unchanged at test time, which is \n",
        "often the way it is implemented in practice:\n",
        "\n",
        "```\n",
        "# At training time:\n",
        "layer_output *= np.randint(0, high=2, size=layer_output.shape)\n",
        "# Note that we are scaling *up* rather scaling *down* in this case\n",
        "layer_output /= 0.5\n",
        "```"
      ]
    },
    {
      "cell_type": "markdown",
      "metadata": {
        "id": "XvQwYsYHf_Os",
        "colab_type": "text"
      },
      "source": [
        "\n",
        "This technique may seem strange and arbitrary. Why would this help reduce overfitting? Geoff Hinton has said that he was inspired, among \n",
        "other things, by a fraud prevention mechanism used by banks -- in his own words: _\"I went to my bank. The tellers kept changing and I asked \n",
        "one of them why. He said he didn’t know but they got moved around a lot. I figured it must be because it would require cooperation \n",
        "between employees to successfully defraud the bank. This made me realize that randomly removing a different subset of neurons on each \n",
        "example would prevent conspiracies and thus reduce overfitting\"_.\n",
        "\n",
        "The core idea is that introducing noise in the output values of a layer can break up happenstance patterns that are not significant (what \n",
        "Hinton refers to as \"conspiracies\"), which the network would start memorizing if no noise was present. \n",
        "\n",
        "In Keras you can introduce dropout in a network via the `Dropout` layer, which gets applied to the output of layer right before it, e.g.:\n",
        "\n",
        "```\n",
        "model.add(layers.Dropout(0.5))\n",
        "```"
      ]
    },
    {
      "cell_type": "markdown",
      "metadata": {
        "id": "hZ7cMQ2xf_Ov",
        "colab_type": "text"
      },
      "source": [
        "Let's add two `Dropout` layers in our IMDB network to see how well they do at reducing overfitting:"
      ]
    },
    {
      "cell_type": "code",
      "metadata": {
        "id": "WGlypMs0f_Ov",
        "colab_type": "code",
        "colab": {}
      },
      "source": [
        "dpt_model = models.Sequential()\n",
        "dpt_model.add(layers.Dense(16, activation='relu', input_shape=(10000,)))\n",
        "dpt_model.add(layers.Dropout(0.5))\n",
        "dpt_model.add(layers.Dense(16, activation='relu'))\n",
        "dpt_model.add(layers.Dropout(0.5))\n",
        "dpt_model.add(layers.Dense(1, activation='sigmoid'))\n",
        "\n",
        "dpt_model.compile(optimizer='rmsprop',\n",
        "                  loss='binary_crossentropy',\n",
        "                  metrics=['acc'])"
      ],
      "execution_count": 28,
      "outputs": []
    },
    {
      "cell_type": "code",
      "metadata": {
        "id": "TPlahOENf_Oy",
        "colab_type": "code",
        "colab": {
          "base_uri": "https://localhost:8080/",
          "height": 725
        },
        "outputId": "2b35083a-f0dd-402b-aff2-3ebfbc039c31"
      },
      "source": [
        "dpt_model_hist = dpt_model.fit(x_train, y_train,\n",
        "                               epochs=20,\n",
        "                               batch_size=512,\n",
        "                               validation_data=(x_test, y_test))"
      ],
      "execution_count": 29,
      "outputs": [
        {
          "output_type": "stream",
          "text": [
            "Train on 25000 samples, validate on 25000 samples\n",
            "Epoch 1/20\n",
            "25000/25000 [==============================] - 2s 87us/step - loss: 0.5755 - acc: 0.6972 - val_loss: 0.4208 - val_acc: 0.8672\n",
            "Epoch 2/20\n",
            "25000/25000 [==============================] - 2s 83us/step - loss: 0.4354 - acc: 0.8179 - val_loss: 0.3369 - val_acc: 0.8766\n",
            "Epoch 3/20\n",
            "25000/25000 [==============================] - 2s 82us/step - loss: 0.3580 - acc: 0.8640 - val_loss: 0.2960 - val_acc: 0.8870\n",
            "Epoch 4/20\n",
            "25000/25000 [==============================] - 2s 83us/step - loss: 0.3078 - acc: 0.8912 - val_loss: 0.2850 - val_acc: 0.8847\n",
            "Epoch 5/20\n",
            "25000/25000 [==============================] - 2s 81us/step - loss: 0.2748 - acc: 0.9056 - val_loss: 0.2848 - val_acc: 0.8889\n",
            "Epoch 6/20\n",
            "25000/25000 [==============================] - 2s 82us/step - loss: 0.2415 - acc: 0.9191 - val_loss: 0.2917 - val_acc: 0.8872\n",
            "Epoch 7/20\n",
            "25000/25000 [==============================] - 2s 83us/step - loss: 0.2195 - acc: 0.9278 - val_loss: 0.3086 - val_acc: 0.8823\n",
            "Epoch 8/20\n",
            "25000/25000 [==============================] - 2s 81us/step - loss: 0.2046 - acc: 0.9320 - val_loss: 0.3259 - val_acc: 0.8839\n",
            "Epoch 9/20\n",
            "25000/25000 [==============================] - 2s 83us/step - loss: 0.1852 - acc: 0.9392 - val_loss: 0.3390 - val_acc: 0.8829\n",
            "Epoch 10/20\n",
            "25000/25000 [==============================] - 2s 81us/step - loss: 0.1757 - acc: 0.9433 - val_loss: 0.3715 - val_acc: 0.8829\n",
            "Epoch 11/20\n",
            "25000/25000 [==============================] - 2s 81us/step - loss: 0.1639 - acc: 0.9460 - val_loss: 0.3775 - val_acc: 0.8814\n",
            "Epoch 12/20\n",
            "25000/25000 [==============================] - 2s 81us/step - loss: 0.1555 - acc: 0.9484 - val_loss: 0.4031 - val_acc: 0.8782\n",
            "Epoch 13/20\n",
            "25000/25000 [==============================] - 2s 82us/step - loss: 0.1521 - acc: 0.9489 - val_loss: 0.4184 - val_acc: 0.8797\n",
            "Epoch 14/20\n",
            "25000/25000 [==============================] - 2s 84us/step - loss: 0.1490 - acc: 0.9494 - val_loss: 0.4412 - val_acc: 0.8770\n",
            "Epoch 15/20\n",
            "25000/25000 [==============================] - 2s 82us/step - loss: 0.1381 - acc: 0.9542 - val_loss: 0.4584 - val_acc: 0.8771\n",
            "Epoch 16/20\n",
            "25000/25000 [==============================] - 2s 81us/step - loss: 0.1333 - acc: 0.9550 - val_loss: 0.4748 - val_acc: 0.8781\n",
            "Epoch 17/20\n",
            "25000/25000 [==============================] - 2s 81us/step - loss: 0.1294 - acc: 0.9542 - val_loss: 0.5004 - val_acc: 0.8764\n",
            "Epoch 18/20\n",
            "25000/25000 [==============================] - 2s 82us/step - loss: 0.1274 - acc: 0.9562 - val_loss: 0.5272 - val_acc: 0.8758\n",
            "Epoch 19/20\n",
            "25000/25000 [==============================] - 2s 82us/step - loss: 0.1233 - acc: 0.9557 - val_loss: 0.5426 - val_acc: 0.8763\n",
            "Epoch 20/20\n",
            "25000/25000 [==============================] - 2s 82us/step - loss: 0.1212 - acc: 0.9583 - val_loss: 0.5568 - val_acc: 0.8751\n"
          ],
          "name": "stdout"
        }
      ]
    },
    {
      "cell_type": "markdown",
      "metadata": {
        "id": "-8sayhIRf_Oz",
        "colab_type": "text"
      },
      "source": [
        "Let's plot the results:"
      ]
    },
    {
      "cell_type": "code",
      "metadata": {
        "id": "S3sYyuGjf_O0",
        "colab_type": "code",
        "colab": {
          "base_uri": "https://localhost:8080/",
          "height": 279
        },
        "outputId": "f96ac1f5-bd8f-432a-a1db-6a0f8e329089"
      },
      "source": [
        "dpt_model_val_loss = dpt_model_hist.history['val_loss']\n",
        "\n",
        "plt.plot(epochs, original_val_loss, 'b+', label='Original model')\n",
        "plt.plot(epochs, dpt_model_val_loss, 'bo', label='Dropout-regularized model')\n",
        "plt.xlabel('Epochs')\n",
        "plt.ylabel('Validation loss')\n",
        "plt.legend()\n",
        "\n",
        "plt.show()"
      ],
      "execution_count": 30,
      "outputs": [
        {
          "output_type": "display_data",
          "data": {
            "image/png": "[encoded data removed]",
            "text/plain": [
              "<Figure size 432x288 with 1 Axes>"
            ]
          },
          "metadata": {
            "tags": [],
            "needs_background": "light"
          }
        }
      ]
    },
    {
      "cell_type": "markdown",
      "metadata": {
        "id": "bJ3D1RJRf_O1",
        "colab_type": "text"
      },
      "source": [
        "\n",
        "Again, a clear improvement over the reference network.\n",
        "\n",
        "To recap: here the most common ways to prevent overfitting in neural networks:\n",
        "\n",
        "* Getting more training data.\n",
        "* Reducing the capacity of the network.\n",
        "* Adding weight regularization.\n",
        "* Adding dropout."
      ]
    }
  ]
}