{
  "nbformat": 4,
  "nbformat_minor": 0,
  "metadata": {
    "kernelspec": {
      "display_name": "Python 3",
      "language": "python",
      "name": "python3"
    },
    "language_info": {
      "codemirror_mode": {
        "name": "ipython",
        "version": 3
      },
      "file_extension": ".py",
      "mimetype": "text/x-python",
      "name": "python",
      "nbconvert_exporter": "python",
      "pygments_lexer": "ipython3",
      "version": "3.5.2"
    },
    "colab": {
      "name": "messy-vs-clean-room.ipynb",
      "provenance": [],
      "collapsed_sections": []
    },
    "accelerator": "GPU"
  },
  "cells": [
    {
      "cell_type": "code",
      "metadata": {
        "id": "18pFn7sBWVQL",
        "colab_type": "code",
        "colab": {
          "base_uri": "https://localhost:8080/",
          "height": 53
        },
        "outputId": "06df202a-2e9e-45c7-e92d-e683eaa177d6"
      },
      "source": [
        "import keras\n",
        "keras.__version__"
      ],
      "execution_count": null,
      "outputs": [
        {
          "output_type": "stream",
          "text": [
            "Using TensorFlow backend.\n"
          ],
          "name": "stderr"
        },
        {
          "output_type": "execute_result",
          "data": {
            "application/vnd.google.colaboratory.intrinsic+json": {
              "type": "string"
            },
            "text/plain": [
              "'2.3.1'"
            ]
          },
          "metadata": {
            "tags": []
          },
          "execution_count": 1
        }
      ]
    },
    {
      "cell_type": "code",
      "metadata": {
        "id": "jQWml8rVWWFE",
        "colab_type": "code",
        "colab": {
          "base_uri": "https://localhost:8080/",
          "height": 35
        },
        "outputId": "11916fb0-650c-4319-f565-3f9f43fad45c"
      },
      "source": [
        "import tensorflow as tf\n",
        "print(\"GPU Available: \", tf.config.list_physical_devices('GPU'))"
      ],
      "execution_count": null,
      "outputs": [
        {
          "output_type": "stream",
          "text": [
            "GPU Available:  [PhysicalDevice(name='/physical_device:GPU:0', device_type='GPU')]\n"
          ],
          "name": "stdout"
        }
      ]
    },
    {
      "cell_type": "markdown",
      "metadata": {
        "id": "QL_RnTvoWVQR",
        "colab_type": "text"
      },
      "source": [
        "We download the data"
      ]
    },
    {
      "cell_type": "code",
      "metadata": {
        "id": "RAt38H4Fmghl",
        "colab_type": "code",
        "colab": {
          "base_uri": "https://localhost:8080/",
          "height": 459
        },
        "outputId": "4a3327bd-ca20-44ba-9e67-762a82f591aa"
      },
      "source": [
        "FILEID='17BB2Ufj-9rTnT9cwZR8fu_sKKGdCXLxM'\n",
        "FILENAME='train.zip'\n",
        "!wget --load-cookies /tmp/cookies.txt \"https://docs.google.com/uc?export=download&confirm=$(wget --quiet --save-cookies /tmp/cookies.txt --keep-session-cookies --no-check-certificate 'https://docs.google.com/uc?export=download&id=$FILEID' -O- | sed -rn 's/.*confirm=([0-9A-Za-z_]+).*/\\1\\n/p')&id=$FILEID\" -O $FILENAME && rm -rf /tmp/cookies.txt"
      ],
      "execution_count": null,
      "outputs": [
        {
          "output_type": "stream",
          "text": [
            "--2020-07-23 15:10:32--  https://docs.google.com/uc?export=download&confirm=g5YS&id=17BB2Ufj-9rTnT9cwZR8fu_sKKGdCXLxM\n",
            "Resolving docs.google.com (docs.google.com)... 108.177.13.100, 108.177.13.113, 108.177.13.138, ...\n",
            "Connecting to docs.google.com (docs.google.com)|108.177.13.100|:443... connected.\n",
            "HTTP request sent, awaiting response... 302 Moved Temporarily\n",
            "Location: https://doc-0o-ac-docs.googleusercontent.com/docs/securesc/vfeubb1vrhgbfq7jpgvv0p6000p2nt7i/keg0t33arbdb7udreo93ft7a15r76fbo/1595517000000/12308918870841825745/04025891841376548254Z/17BB2Ufj-9rTnT9cwZR8fu_sKKGdCXLxM?e=download [following]\n",
            "--2020-07-23 15:10:32--  https://doc-0o-ac-docs.googleusercontent.com/docs/securesc/vfeubb1vrhgbfq7jpgvv0p6000p2nt7i/keg0t33arbdb7udreo93ft7a15r76fbo/1595517000000/12308918870841825745/04025891841376548254Z/17BB2Ufj-9rTnT9cwZR8fu_sKKGdCXLxM?e=download\n",
            "Resolving doc-0o-ac-docs.googleusercontent.com (doc-0o-ac-docs.googleusercontent.com)... 172.217.203.132, 2607:f8b0:400c:c07::84\n",
            "Connecting to doc-0o-ac-docs.googleusercontent.com (doc-0o-ac-docs.googleusercontent.com)|172.217.203.132|:443... connected.\n",
            "HTTP request sent, awaiting response... 302 Found\n",
            "Location: https://docs.google.com/nonceSigner?nonce=8mf8cve09qlku&continue=https://doc-0o-ac-docs.googleusercontent.com/docs/securesc/vfeubb1vrhgbfq7jpgvv0p6000p2nt7i/keg0t33arbdb7udreo93ft7a15r76fbo/1595517000000/12308918870841825745/04025891841376548254Z/17BB2Ufj-9rTnT9cwZR8fu_sKKGdCXLxM?e%3Ddownload&hash=e0t9u4nd3tb53ahuj15um8u1eoo9ldn4 [following]\n",
            "--2020-07-23 15:10:32--  https://docs.google.com/nonceSigner?nonce=8mf8cve09qlku&continue=https://doc-0o-ac-docs.googleusercontent.com/docs/securesc/vfeubb1vrhgbfq7jpgvv0p6000p2nt7i/keg0t33arbdb7udreo93ft7a15r76fbo/1595517000000/12308918870841825745/04025891841376548254Z/17BB2Ufj-9rTnT9cwZR8fu_sKKGdCXLxM?e%3Ddownload&hash=e0t9u4nd3tb53ahuj15um8u1eoo9ldn4\n",
            "Connecting to docs.google.com (docs.google.com)|108.177.13.100|:443... connected.\n",
            "HTTP request sent, awaiting response... 302 Found\n",
            "Location: https://doc-0o-ac-docs.googleusercontent.com/docs/securesc/vfeubb1vrhgbfq7jpgvv0p6000p2nt7i/keg0t33arbdb7udreo93ft7a15r76fbo/1595517000000/12308918870841825745/04025891841376548254Z/17BB2Ufj-9rTnT9cwZR8fu_sKKGdCXLxM?e=download&nonce=8mf8cve09qlku&user=04025891841376548254Z&hash=q35jq6urq8hm1jrq1umsli1kgg0gd5av [following]\n",
            "--2020-07-23 15:10:32--  https://doc-0o-ac-docs.googleusercontent.com/docs/securesc/vfeubb1vrhgbfq7jpgvv0p6000p2nt7i/keg0t33arbdb7udreo93ft7a15r76fbo/1595517000000/12308918870841825745/04025891841376548254Z/17BB2Ufj-9rTnT9cwZR8fu_sKKGdCXLxM?e=download&nonce=8mf8cve09qlku&user=04025891841376548254Z&hash=q35jq6urq8hm1jrq1umsli1kgg0gd5av\n",
            "Connecting to doc-0o-ac-docs.googleusercontent.com (doc-0o-ac-docs.googleusercontent.com)|172.217.203.132|:443... connected.\n",
            "HTTP request sent, awaiting response... 200 OK\n",
            "Length: unspecified [application/zip]\n",
            "Saving to: ‘train.zip’\n",
            "\n",
            "\rtrain.zip               [<=>                 ]       0  --.-KB/s               \rtrain.zip               [ <=>                ]   6.16M  30.8MB/s               \rtrain.zip               [  <=>               ]  32.12M  94.9MB/s    in 0.3s    \n",
            "\n",
            "2020-07-23 15:10:33 (94.9 MB/s) - ‘train.zip’ saved [33681249]\n",
            "\n"
          ],
          "name": "stdout"
        }
      ]
    },
    {
      "cell_type": "code",
      "metadata": {
        "id": "6uyKGqmjZR3G",
        "colab_type": "code",
        "colab": {
          "base_uri": "https://localhost:8080/",
          "height": 70
        },
        "outputId": "0a828d65-4ba6-4c7f-e4e9-8dc53bd0478b"
      },
      "source": [
        "ls -lh"
      ],
      "execution_count": null,
      "outputs": [
        {
          "output_type": "stream",
          "text": [
            "total 33M\n",
            "drwxr-xr-x 1 root root 4.0K Jul 10 16:29 \u001b[0m\u001b[01;34msample_data\u001b[0m/\n",
            "-rw-r--r-- 1 root root  33M Jul 23 15:10 train.zip\n"
          ],
          "name": "stdout"
        }
      ]
    },
    {
      "cell_type": "code",
      "metadata": {
        "id": "3_95pNVUZa7x",
        "colab_type": "code",
        "colab": {}
      },
      "source": [
        "!unzip -q train.zip -d kaggle_original_data"
      ],
      "execution_count": null,
      "outputs": []
    },
    {
      "cell_type": "code",
      "metadata": {
        "id": "E-vcDoYMeftP",
        "colab_type": "code",
        "colab": {}
      },
      "source": [
        "!rm -r kaggle_original_data/__MACOSX/"
      ],
      "execution_count": null,
      "outputs": []
    },
    {
      "cell_type": "code",
      "metadata": {
        "id": "u16kusuQeAQ0",
        "colab_type": "code",
        "colab": {
          "base_uri": "https://localhost:8080/",
          "height": 70
        },
        "outputId": "7ae28792-37a5-4030-8e88-0e018a7f1c24"
      },
      "source": [
        "!ls -l kaggle_original_data | head"
      ],
      "execution_count": null,
      "outputs": [
        {
          "output_type": "stream",
          "text": [
            "total 8\n",
            "drwxr-xr-x 2 root root 4096 Jul 22 20:17 clean\n",
            "drwxr-xr-x 2 root root 4096 Jul 22 20:17 messy\n"
          ],
          "name": "stdout"
        }
      ]
    },
    {
      "cell_type": "markdown",
      "metadata": {
        "id": "WciW0r6LKf1Z",
        "colab_type": "text"
      },
      "source": [
        "We now are going to sort the images by separating them into different folders."
      ]
    },
    {
      "cell_type": "code",
      "metadata": {
        "id": "7h2qRQnQWVQR",
        "colab_type": "code",
        "colab": {}
      },
      "source": [
        "from random import shuffle\n",
        "import os, shutil\n",
        "\n",
        "# list all labels\n",
        "label_dirs = ['clean', 'messy']\n",
        "\n",
        "# The path to the directory where the original\n",
        "# dataset was uncompressed\n",
        "original_dataset_dir = '/content/kaggle_original_data'\n",
        "\n",
        "# The directory where we will\n",
        "# store our smaller dataset\n",
        "base_dir = '/content/messy_vs_clean_room'\n",
        "os.mkdir(base_dir)\n",
        "\n",
        "# Directories for our training,\n",
        "# validation and test splits\n",
        "train_dir = os.path.join(base_dir, 'train')\n",
        "os.mkdir(train_dir)\n",
        "validation_dir = os.path.join(base_dir, 'validation')\n",
        "os.mkdir(validation_dir)\n",
        "test_dir = os.path.join(base_dir, 'test')\n",
        "os.mkdir(test_dir)\n",
        "\n",
        "# Directory with our training/validation/test label pictures\n",
        "for target_dir in [train_dir, validation_dir, test_dir]:\n",
        "    for label in label_dirs:\n",
        "        dir = os.path.join(target_dir, label)\n",
        "        os.mkdir(dir)\n",
        "\n",
        "# Copy 70% of each label to train, 15% to valid, and 15% to test directories\n",
        "for label in label_dirs:\n",
        "    fnames = os.listdir(os.path.join(original_dataset_dir, label))\n",
        "    shuffle(fnames)  # shuffling the list\n",
        "    n_img_start_valid = int(len(fnames)*0.7)\n",
        "    n_img_start_test  = int(len(fnames)*0.85)\n",
        "    for fname in fnames[:n_img_start_valid]:  # train\n",
        "        src = os.path.join(original_dataset_dir, label, fname)\n",
        "        dst = os.path.join(train_dir, label, fname)\n",
        "        shutil.copyfile(src, dst)\n",
        "    for fname in fnames[n_img_start_valid:n_img_start_test]:  # valid\n",
        "        src = os.path.join(original_dataset_dir, label, fname)\n",
        "        dst = os.path.join(validation_dir, label, fname)\n",
        "        shutil.copyfile(src, dst)\n",
        "    for fname in fnames[n_img_start_test:]:  # test\n",
        "        src = os.path.join(original_dataset_dir, label, fname)\n",
        "        dst = os.path.join(test_dir, label, fname)\n",
        "        shutil.copyfile(src, dst)"
      ],
      "execution_count": null,
      "outputs": []
    },
    {
      "cell_type": "markdown",
      "metadata": {
        "id": "lz_EVN0jWVQW",
        "colab_type": "text"
      },
      "source": [
        "We check how many images each(train/vali/test) has."
      ]
    },
    {
      "cell_type": "code",
      "metadata": {
        "id": "M5S62youWVQX",
        "colab_type": "code",
        "colab": {
          "base_uri": "https://localhost:8080/",
          "height": 52
        },
        "outputId": "b73b3562-f617-44e8-f3db-1612700ad1f0"
      },
      "source": [
        "total_train_imgs = 0\n",
        "total_valid_imgs = 0\n",
        "for label in label_dirs:\n",
        "    print('total images for label', label, 'in training:', len(os.listdir(os.path.join(train_dir, label))),\n",
        "                                           'in valid:', len(os.listdir(os.path.join(validation_dir, label))),\n",
        "                                            'in test:', len(os.listdir(os.path.join(test_dir, label))))\n",
        "    total_train_imgs += len(os.listdir(os.path.join(train_dir, label)))\n",
        "    total_valid_imgs += len(os.listdir(os.path.join(validation_dir, label)))"
      ],
      "execution_count": null,
      "outputs": [
        {
          "output_type": "stream",
          "text": [
            "total images for label clean in training: 74 in valid: 16 in test: 16\n",
            "total images for label messy in training: 74 in valid: 16 in test: 16\n"
          ],
          "name": "stdout"
        }
      ]
    },
    {
      "cell_type": "code",
      "metadata": {
        "id": "MKRmuMiuN7PK",
        "colab_type": "code",
        "colab": {
          "base_uri": "https://localhost:8080/",
          "height": 52
        },
        "outputId": "220aa7b9-1e15-45ea-d84c-c87a0a265062"
      },
      "source": [
        "print('Total number of training images:', total_train_imgs)\n",
        "print('Total number of validation images:', total_valid_imgs)"
      ],
      "execution_count": null,
      "outputs": [
        {
          "output_type": "stream",
          "text": [
            "Total number of training images: 148\n",
            "Total number of validation images: 32\n"
          ],
          "name": "stdout"
        }
      ]
    },
    {
      "cell_type": "markdown",
      "metadata": {
        "id": "nILJEVrsWVQj",
        "colab_type": "text"
      },
      "source": [
        "We build our model by keras with 4 Conv2D + MaxPooling2D layers and 2 dense layers."
      ]
    },
    {
      "cell_type": "code",
      "metadata": {
        "id": "RWWyLW_GDVKo",
        "colab_type": "code",
        "colab": {}
      },
      "source": [
        "from keras import layers\n",
        "from keras import models\n",
        "\n",
        "model = models.Sequential()\n",
        "model.add(layers.Conv2D(32, (3, 3), activation='relu',\n",
        "                        input_shape=(150, 150, 3)))\n",
        "model.add(layers.MaxPooling2D((2, 2)))\n",
        "model.add(layers.Conv2D(64, (3, 3), activation='relu'))\n",
        "model.add(layers.MaxPooling2D((2, 2)))\n",
        "model.add(layers.Conv2D(128, (3, 3), activation='relu'))\n",
        "model.add(layers.MaxPooling2D((2, 2)))\n",
        "model.add(layers.Conv2D(128, (3, 3), activation='relu'))\n",
        "model.add(layers.MaxPooling2D((2, 2)))\n",
        "model.add(layers.Flatten())\n",
        "model.add(layers.Dense(512, activation='relu'))\n",
        "model.add(layers.Dense(1, activation='sigmoid'))"
      ],
      "execution_count": null,
      "outputs": []
    },
    {
      "cell_type": "code",
      "metadata": {
        "id": "sQUnFlv9EOMM",
        "colab_type": "code",
        "colab": {}
      },
      "source": [
        "model.summary()"
      ],
      "execution_count": null,
      "outputs": []
    },
    {
      "cell_type": "markdown",
      "metadata": {
        "id": "DC5rq8tENU28",
        "colab_type": "text"
      },
      "source": [
        "We compile loss function, optimizer, and metric into the model."
      ]
    },
    {
      "cell_type": "code",
      "metadata": {
        "id": "rRp6ROwoERx1",
        "colab_type": "code",
        "colab": {}
      },
      "source": [
        "from keras import optimizers\n",
        "\n",
        "model.compile(loss='binary_crossentropy',\n",
        "              optimizer=optimizers.RMSprop(lr=1e-4),\n",
        "              metrics=['acc'])"
      ],
      "execution_count": null,
      "outputs": []
    },
    {
      "cell_type": "markdown",
      "metadata": {
        "id": "p5w2e0CdN0sz",
        "colab_type": "text"
      },
      "source": [
        "We change the image into the range [0,1] by ImageDataGenerator. Then we produce the training, testing, validation data."
      ]
    },
    {
      "cell_type": "code",
      "metadata": {
        "id": "ILkVXqSNEVrD",
        "colab_type": "code",
        "colab": {
          "base_uri": "https://localhost:8080/",
          "height": 52
        },
        "outputId": "3cf307cd-fb00-4b04-d135-dbcb82681853"
      },
      "source": [
        "from keras.preprocessing.image import ImageDataGenerator\n",
        "\n",
        "# All images will be rescaled by 1./255\n",
        "train_datagen = ImageDataGenerator(rescale=1./255)\n",
        "test_datagen = ImageDataGenerator(rescale=1./255)\n",
        "\n",
        "train_generator = train_datagen.flow_from_directory(\n",
        "        # This is the target directory\n",
        "        train_dir,\n",
        "        # All images will be resized to 150x150\n",
        "        target_size=(150, 150),\n",
        "        batch_size=20,\n",
        "        # Since we use binary_crossentropy loss, we need binary labels\n",
        "        class_mode='binary')\n",
        "\n",
        "validation_generator = test_datagen.flow_from_directory(\n",
        "        validation_dir,\n",
        "        target_size=(150, 150),\n",
        "        batch_size=20,\n",
        "        class_mode='binary')"
      ],
      "execution_count": null,
      "outputs": [
        {
          "output_type": "stream",
          "text": [
            "Found 148 images belonging to 2 classes.\n",
            "Found 32 images belonging to 2 classes.\n"
          ],
          "name": "stdout"
        }
      ]
    },
    {
      "cell_type": "code",
      "metadata": {
        "id": "kEAuJfIlEfk6",
        "colab_type": "code",
        "colab": {
          "base_uri": "https://localhost:8080/",
          "height": 52
        },
        "outputId": "d724085b-1968-444a-a021-dcfdbf4b8864"
      },
      "source": [
        "for data_batch, labels_batch in train_generator:\n",
        "    print('data batch shape:', data_batch.shape)\n",
        "    print('labels batch shape:', labels_batch.shape)\n",
        "    break"
      ],
      "execution_count": null,
      "outputs": [
        {
          "output_type": "stream",
          "text": [
            "data batch shape: (20, 150, 150, 3)\n",
            "labels batch shape: (20,)\n"
          ],
          "name": "stdout"
        }
      ]
    },
    {
      "cell_type": "markdown",
      "metadata": {
        "id": "-HN-5xmhOqXd",
        "colab_type": "text"
      },
      "source": [
        "Now we begin to train our model."
      ]
    },
    {
      "cell_type": "code",
      "metadata": {
        "id": "d1Io5Tz0EpBg",
        "colab_type": "code",
        "colab": {
          "base_uri": "https://localhost:8080/",
          "height": 1000
        },
        "outputId": "7862aa07-4761-4d0f-cf3a-fb0b4c87fc51"
      },
      "source": [
        "history = model.fit_generator(\n",
        "      train_generator,\n",
        "      steps_per_epoch=100,\n",
        "      epochs=30,\n",
        "      validation_data=validation_generator,\n",
        "      validation_steps=50)"
      ],
      "execution_count": null,
      "outputs": [
        {
          "output_type": "stream",
          "text": [
            "Epoch 1/30\n",
            "100/100 [==============================] - 10s 101ms/step - loss: 0.5283 - acc: 0.7274 - val_loss: 0.4134 - val_acc: 0.7500\n",
            "Epoch 2/30\n",
            "100/100 [==============================] - 11s 107ms/step - loss: 0.3404 - acc: 0.8639 - val_loss: 0.8140 - val_acc: 0.7188\n",
            "Epoch 3/30\n",
            "100/100 [==============================] - 11s 110ms/step - loss: 0.2346 - acc: 0.9143 - val_loss: 0.8827 - val_acc: 0.7500\n",
            "Epoch 4/30\n",
            "100/100 [==============================] - 11s 107ms/step - loss: 0.1304 - acc: 0.9596 - val_loss: 0.8549 - val_acc: 0.7812\n",
            "Epoch 5/30\n",
            "100/100 [==============================] - 11s 105ms/step - loss: 0.0670 - acc: 0.9811 - val_loss: 1.0388 - val_acc: 0.7188\n",
            "Epoch 6/30\n",
            "100/100 [==============================] - 10s 103ms/step - loss: 0.0471 - acc: 0.9870 - val_loss: 0.7218 - val_acc: 0.6875\n",
            "Epoch 7/30\n",
            "100/100 [==============================] - 11s 108ms/step - loss: 0.0490 - acc: 0.9881 - val_loss: 1.4416 - val_acc: 0.8125\n",
            "Epoch 8/30\n",
            "100/100 [==============================] - 11s 114ms/step - loss: 0.0096 - acc: 0.9989 - val_loss: 1.9165 - val_acc: 0.6875\n",
            "Epoch 9/30\n",
            "100/100 [==============================] - 10s 105ms/step - loss: 0.0306 - acc: 0.9881 - val_loss: 3.0693 - val_acc: 0.6562\n",
            "Epoch 10/30\n",
            "100/100 [==============================] - 11s 109ms/step - loss: 0.0155 - acc: 0.9962 - val_loss: 2.5212 - val_acc: 0.6875\n",
            "Epoch 11/30\n",
            "100/100 [==============================] - 10s 99ms/step - loss: 0.0215 - acc: 0.9957 - val_loss: 0.3182 - val_acc: 0.6562\n",
            "Epoch 12/30\n",
            "100/100 [==============================] - 10s 104ms/step - loss: 0.0212 - acc: 0.9962 - val_loss: 0.6931 - val_acc: 0.6562\n",
            "Epoch 13/30\n",
            "100/100 [==============================] - 10s 96ms/step - loss: 1.8876e-04 - acc: 1.0000 - val_loss: 4.5183 - val_acc: 0.5625\n",
            "Epoch 14/30\n",
            "100/100 [==============================] - 10s 100ms/step - loss: 0.0263 - acc: 0.9962 - val_loss: 3.4565 - val_acc: 0.6562\n",
            "Epoch 15/30\n",
            "100/100 [==============================] - 10s 102ms/step - loss: 0.0307 - acc: 0.9951 - val_loss: 4.5342 - val_acc: 0.6562\n",
            "Epoch 16/30\n",
            "100/100 [==============================] - 10s 101ms/step - loss: 0.0197 - acc: 0.9930 - val_loss: 1.5415 - val_acc: 0.7812\n",
            "Epoch 17/30\n",
            "100/100 [==============================] - 9s 94ms/step - loss: 4.6627e-05 - acc: 1.0000 - val_loss: 4.2565 - val_acc: 0.7188\n",
            "Epoch 18/30\n",
            "100/100 [==============================] - 10s 101ms/step - loss: 0.0097 - acc: 0.9957 - val_loss: 4.6585 - val_acc: 0.7812\n",
            "Epoch 19/30\n",
            "100/100 [==============================] - 10s 101ms/step - loss: 0.0206 - acc: 0.9941 - val_loss: 4.4193 - val_acc: 0.6875\n",
            "Epoch 20/30\n",
            "100/100 [==============================] - 10s 96ms/step - loss: 9.9015e-06 - acc: 1.0000 - val_loss: 3.3249 - val_acc: 0.6875\n",
            "Epoch 21/30\n",
            "100/100 [==============================] - 9s 95ms/step - loss: 0.0238 - acc: 0.9946 - val_loss: 7.8197 - val_acc: 0.6875\n",
            "Epoch 22/30\n",
            "100/100 [==============================] - 10s 104ms/step - loss: 7.4188e-05 - acc: 1.0000 - val_loss: 2.9433 - val_acc: 0.6875\n",
            "Epoch 23/30\n",
            "100/100 [==============================] - 9s 95ms/step - loss: 0.0333 - acc: 0.9962 - val_loss: 3.2964 - val_acc: 0.6875\n",
            "Epoch 24/30\n",
            "100/100 [==============================] - 10s 97ms/step - loss: 3.7408e-05 - acc: 1.0000 - val_loss: 0.5912 - val_acc: 0.6562\n",
            "Epoch 25/30\n",
            "100/100 [==============================] - 10s 99ms/step - loss: 8.7447e-07 - acc: 1.0000 - val_loss: 6.0348 - val_acc: 0.6562\n",
            "Epoch 26/30\n",
            "100/100 [==============================] - 10s 104ms/step - loss: 0.0306 - acc: 0.9952 - val_loss: 7.7512 - val_acc: 0.6562\n",
            "Epoch 27/30\n",
            "100/100 [==============================] - 10s 95ms/step - loss: 1.7021e-06 - acc: 1.0000 - val_loss: 1.9042 - val_acc: 0.6562\n",
            "Epoch 28/30\n",
            "100/100 [==============================] - 10s 98ms/step - loss: 0.0064 - acc: 0.9973 - val_loss: 3.2348 - val_acc: 0.7500\n",
            "Epoch 29/30\n",
            "100/100 [==============================] - 9s 93ms/step - loss: 4.5082e-07 - acc: 1.0000 - val_loss: 0.9439 - val_acc: 0.7500\n",
            "Epoch 30/30\n",
            "100/100 [==============================] - 10s 100ms/step - loss: 0.0079 - acc: 0.9973 - val_loss: 2.8037 - val_acc: 0.7188\n"
          ],
          "name": "stdout"
        }
      ]
    },
    {
      "cell_type": "code",
      "metadata": {
        "id": "AmvUCu48qQQl",
        "colab_type": "code",
        "colab": {}
      },
      "source": [
        "model.save('clean_and_messy_1.h5')"
      ],
      "execution_count": null,
      "outputs": []
    },
    {
      "cell_type": "code",
      "metadata": {
        "id": "hbYe4ULuFz_G",
        "colab_type": "code",
        "colab": {
          "base_uri": "https://localhost:8080/",
          "height": 545
        },
        "outputId": "87a9ac05-b562-489e-c557-ca5374ca937e"
      },
      "source": [
        "import matplotlib.pyplot as plt\n",
        "\n",
        "acc = history.history['acc']\n",
        "val_acc = history.history['val_acc']\n",
        "loss = history.history['loss']\n",
        "val_loss = history.history['val_loss']\n",
        "\n",
        "epochs = range(len(acc))\n",
        "\n",
        "plt.plot(epochs, acc, 'bo', label='Training acc')\n",
        "plt.plot(epochs, val_acc, 'b', label='Validation acc')\n",
        "plt.title('Training and validation accuracy')\n",
        "plt.legend()\n",
        "\n",
        "plt.figure()\n",
        "\n",
        "plt.plot(epochs, loss, 'bo', label='Training loss')\n",
        "plt.plot(epochs, val_loss, 'b', label='Validation loss')\n",
        "plt.title('Training and validation loss')\n",
        "plt.legend()\n",
        "\n",
        "plt.show()"
      ],
      "execution_count": null,
      "outputs": [
        {
          "output_type": "display_data",
          "data": {
            "image/png": "[encoded data removed]",
            "text/plain": [
              "<Figure size 432x288 with 1 Axes>"
            ]
          },
          "metadata": {
            "tags": [],
            "needs_background": "light"
          }
        },
        {
          "output_type": "display_data",
          "data": {
            "image/png": "[encoded data removed]",
            "text/plain": [
              "<Figure size 432x288 with 1 Axes>"
            ]
          },
          "metadata": {
            "tags": [],
            "needs_background": "light"
          }
        }
      ]
    },
    {
      "cell_type": "code",
      "metadata": {
        "id": "97SRjMnTdIBa",
        "colab_type": "code",
        "colab": {}
      },
      "source": [
        "test_generator = test_datagen.flow_from_directory(\n",
        "        test_dir,\n",
        "        target_size=(150, 150),\n",
        "        batch_size=20,\n",
        "        class_mode='binary')\n",
        "\n",
        "test_loss, test_acc = model.evaluate_generator(test_generator, steps=50)\n",
        "print('test acc:', test_acc)"
      ],
      "execution_count": null,
      "outputs": []
    },
    {
      "cell_type": "markdown",
      "metadata": {
        "id": "OHAO9Ms-PBgU",
        "colab_type": "text"
      },
      "source": [
        "The result shows that the model has overfitting problems, so we use data augmentation to expand our dataset."
      ]
    },
    {
      "cell_type": "code",
      "metadata": {
        "id": "UEAiUmRtKvcV",
        "colab_type": "code",
        "colab": {}
      },
      "source": [
        "datagen = ImageDataGenerator(\n",
        "      rotation_range=40,\n",
        "      width_shift_range=0.2,\n",
        "      height_shift_range=0.2,\n",
        "      shear_range=0.2,\n",
        "      zoom_range=0.2,\n",
        "      horizontal_flip=True,\n",
        "      fill_mode='nearest')"
      ],
      "execution_count": null,
      "outputs": []
    },
    {
      "cell_type": "markdown",
      "metadata": {
        "id": "EdrKTVDDPoKz",
        "colab_type": "text"
      },
      "source": [
        "We train the second model again, but we use dropout this time to improve the validation rate."
      ]
    },
    {
      "cell_type": "code",
      "metadata": {
        "id": "td329wQGLFKY",
        "colab_type": "code",
        "colab": {}
      },
      "source": [
        "model = models.Sequential()\n",
        "model.add(layers.Conv2D(32, (3, 3), activation='relu',\n",
        "                        input_shape=(150, 150, 3)))\n",
        "model.add(layers.MaxPooling2D((2, 2)))\n",
        "model.add(layers.Conv2D(64, (3, 3), activation='relu'))\n",
        "model.add(layers.MaxPooling2D((2, 2)))\n",
        "model.add(layers.Conv2D(128, (3, 3), activation='relu'))\n",
        "model.add(layers.MaxPooling2D((2, 2)))\n",
        "model.add(layers.Conv2D(128, (3, 3), activation='relu'))\n",
        "model.add(layers.MaxPooling2D((2, 2)))\n",
        "model.add(layers.Flatten())\n",
        "model.add(layers.Dropout(0.5))\n",
        "model.add(layers.Dense(512, activation='relu'))\n",
        "model.add(layers.Dense(1, activation='sigmoid'))\n",
        "\n",
        "model.compile(loss='binary_crossentropy',\n",
        "              optimizer=optimizers.RMSprop(lr=2e-5),\n",
        "              metrics=['acc'])"
      ],
      "execution_count": null,
      "outputs": []
    },
    {
      "cell_type": "code",
      "metadata": {
        "id": "AByAllPfTRHK",
        "colab_type": "code",
        "colab": {
          "base_uri": "https://localhost:8080/",
          "height": 580
        },
        "outputId": "d9615300-6cd2-4d26-f360-6c629941c769"
      },
      "source": [
        "model.summary()"
      ],
      "execution_count": null,
      "outputs": [
        {
          "output_type": "stream",
          "text": [
            "Model: \"sequential_4\"\n",
            "_________________________________________________________________\n",
            "Layer (type)                 Output Shape              Param #   \n",
            "=================================================================\n",
            "conv2d_9 (Conv2D)            (None, 148, 148, 32)      896       \n",
            "_________________________________________________________________\n",
            "max_pooling2d_9 (MaxPooling2 (None, 74, 74, 32)        0         \n",
            "_________________________________________________________________\n",
            "conv2d_10 (Conv2D)           (None, 72, 72, 64)        18496     \n",
            "_________________________________________________________________\n",
            "max_pooling2d_10 (MaxPooling (None, 36, 36, 64)        0         \n",
            "_________________________________________________________________\n",
            "conv2d_11 (Conv2D)           (None, 34, 34, 128)       73856     \n",
            "_________________________________________________________________\n",
            "max_pooling2d_11 (MaxPooling (None, 17, 17, 128)       0         \n",
            "_________________________________________________________________\n",
            "conv2d_12 (Conv2D)           (None, 15, 15, 128)       147584    \n",
            "_________________________________________________________________\n",
            "max_pooling2d_12 (MaxPooling (None, 7, 7, 128)         0         \n",
            "_________________________________________________________________\n",
            "flatten_4 (Flatten)          (None, 6272)              0         \n",
            "_________________________________________________________________\n",
            "dropout_1 (Dropout)          (None, 6272)              0         \n",
            "_________________________________________________________________\n",
            "dense_7 (Dense)              (None, 512)               3211776   \n",
            "_________________________________________________________________\n",
            "dense_8 (Dense)              (None, 1)                 513       \n",
            "=================================================================\n",
            "Total params: 3,453,121\n",
            "Trainable params: 3,453,121\n",
            "Non-trainable params: 0\n",
            "_________________________________________________________________\n"
          ],
          "name": "stdout"
        }
      ]
    },
    {
      "cell_type": "code",
      "metadata": {
        "id": "AkQCvVhTLERJ",
        "colab_type": "code",
        "colab": {
          "base_uri": "https://localhost:8080/",
          "height": 1000
        },
        "outputId": "362c4f72-c77f-4ad9-d0ca-1da23f28b2bd"
      },
      "source": [
        "train_datagen = ImageDataGenerator(\n",
        "    rescale=1./255,\n",
        "    rotation_range=40,\n",
        "    width_shift_range=0.2,\n",
        "    height_shift_range=0.2,\n",
        "    shear_range=0.2,\n",
        "    zoom_range=0.2,\n",
        "    horizontal_flip=True,)\n",
        "\n",
        "# Note that the validation data should not be augmented!\n",
        "test_datagen = ImageDataGenerator(rescale=1./255)\n",
        "\n",
        "train_generator = train_datagen.flow_from_directory(\n",
        "        # This is the target directory\n",
        "        train_dir,\n",
        "        # All images will be resized to 150x150\n",
        "        target_size=(150, 150),\n",
        "        batch_size=32,\n",
        "        # Since we use binary_crossentropy loss, we need binary labels\n",
        "        class_mode='binary')\n",
        "\n",
        "validation_generator = test_datagen.flow_from_directory(\n",
        "        validation_dir,\n",
        "        target_size=(150, 150),\n",
        "        batch_size=32,\n",
        "        class_mode='binary')\n",
        "\n",
        "history = model.fit_generator(\n",
        "      train_generator,\n",
        "      steps_per_epoch=100,\n",
        "      epochs=30,\n",
        "      validation_data=validation_generator,\n",
        "      validation_steps=50)"
      ],
      "execution_count": null,
      "outputs": [
        {
          "output_type": "stream",
          "text": [
            "Found 148 images belonging to 2 classes.\n",
            "Found 32 images belonging to 2 classes.\n",
            "Epoch 1/30\n",
            "100/100 [==============================] - 29s 294ms/step - loss: 0.3713 - acc: 0.8358 - val_loss: 0.7610 - val_acc: 0.7188\n",
            "Epoch 2/30\n",
            "100/100 [==============================] - 29s 288ms/step - loss: 0.3814 - acc: 0.8358 - val_loss: 0.4863 - val_acc: 0.7812\n",
            "Epoch 3/30\n",
            "100/100 [==============================] - 29s 289ms/step - loss: 0.3451 - acc: 0.8551 - val_loss: 0.7489 - val_acc: 0.7188\n",
            "Epoch 4/30\n",
            "100/100 [==============================] - 29s 288ms/step - loss: 0.3187 - acc: 0.8733 - val_loss: 0.4863 - val_acc: 0.7500\n",
            "Epoch 5/30\n",
            "100/100 [==============================] - 28s 285ms/step - loss: 0.3149 - acc: 0.8706 - val_loss: 0.5379 - val_acc: 0.7812\n",
            "Epoch 6/30\n",
            "100/100 [==============================] - 29s 294ms/step - loss: 0.2977 - acc: 0.8682 - val_loss: 0.5615 - val_acc: 0.7500\n",
            "Epoch 7/30\n",
            "100/100 [==============================] - 32s 317ms/step - loss: 0.2857 - acc: 0.8804 - val_loss: 0.5290 - val_acc: 0.8125\n",
            "Epoch 8/30\n",
            "100/100 [==============================] - 32s 316ms/step - loss: 0.2584 - acc: 0.8939 - val_loss: 0.5767 - val_acc: 0.7500\n",
            "Epoch 9/30\n",
            "100/100 [==============================] - 30s 298ms/step - loss: 0.2705 - acc: 0.8865 - val_loss: 0.5613 - val_acc: 0.8438\n",
            "Epoch 10/30\n",
            "100/100 [==============================] - 30s 295ms/step - loss: 0.2495 - acc: 0.8892 - val_loss: 0.7024 - val_acc: 0.8438\n",
            "Epoch 11/30\n",
            "100/100 [==============================] - 29s 294ms/step - loss: 0.2496 - acc: 0.9044 - val_loss: 0.5985 - val_acc: 0.7500\n",
            "Epoch 12/30\n",
            "100/100 [==============================] - 29s 293ms/step - loss: 0.2368 - acc: 0.9030 - val_loss: 0.6247 - val_acc: 0.7500\n",
            "Epoch 13/30\n",
            "100/100 [==============================] - 29s 289ms/step - loss: 0.2201 - acc: 0.9152 - val_loss: 0.5318 - val_acc: 0.7812\n",
            "Epoch 14/30\n",
            "100/100 [==============================] - 30s 298ms/step - loss: 0.2141 - acc: 0.9196 - val_loss: 0.5956 - val_acc: 0.8438\n",
            "Epoch 15/30\n",
            "100/100 [==============================] - 31s 306ms/step - loss: 0.2066 - acc: 0.9216 - val_loss: 0.5492 - val_acc: 0.8125\n",
            "Epoch 16/30\n",
            "100/100 [==============================] - 29s 293ms/step - loss: 0.2004 - acc: 0.9209 - val_loss: 0.7594 - val_acc: 0.7812\n",
            "Epoch 17/30\n",
            "100/100 [==============================] - 29s 292ms/step - loss: 0.1930 - acc: 0.9199 - val_loss: 0.8496 - val_acc: 0.7812\n",
            "Epoch 18/30\n",
            "100/100 [==============================] - 30s 297ms/step - loss: 0.1779 - acc: 0.9321 - val_loss: 0.7042 - val_acc: 0.7812\n",
            "Epoch 19/30\n",
            "100/100 [==============================] - 29s 290ms/step - loss: 0.1734 - acc: 0.9304 - val_loss: 0.7661 - val_acc: 0.8125\n",
            "Epoch 20/30\n",
            "100/100 [==============================] - 30s 295ms/step - loss: 0.1567 - acc: 0.9409 - val_loss: 1.0961 - val_acc: 0.6250\n",
            "Epoch 21/30\n",
            "100/100 [==============================] - 31s 310ms/step - loss: 0.1519 - acc: 0.9405 - val_loss: 0.6280 - val_acc: 0.8125\n",
            "Epoch 22/30\n",
            "100/100 [==============================] - 31s 308ms/step - loss: 0.1540 - acc: 0.9416 - val_loss: 1.3521 - val_acc: 0.7188\n",
            "Epoch 23/30\n",
            "100/100 [==============================] - 31s 306ms/step - loss: 0.1329 - acc: 0.9507 - val_loss: 0.6915 - val_acc: 0.8125\n",
            "Epoch 24/30\n",
            "100/100 [==============================] - 30s 303ms/step - loss: 0.1341 - acc: 0.9503 - val_loss: 0.7928 - val_acc: 0.8125\n",
            "Epoch 25/30\n",
            "100/100 [==============================] - 29s 289ms/step - loss: 0.1226 - acc: 0.9497 - val_loss: 0.7721 - val_acc: 0.8125\n",
            "Epoch 26/30\n",
            "100/100 [==============================] - 29s 292ms/step - loss: 0.1315 - acc: 0.9514 - val_loss: 0.8322 - val_acc: 0.7500\n",
            "Epoch 27/30\n",
            "100/100 [==============================] - 29s 291ms/step - loss: 0.1185 - acc: 0.9530 - val_loss: 0.8317 - val_acc: 0.8125\n",
            "Epoch 28/30\n",
            "100/100 [==============================] - 29s 288ms/step - loss: 0.1177 - acc: 0.9497 - val_loss: 0.7934 - val_acc: 0.8125\n",
            "Epoch 29/30\n",
            "100/100 [==============================] - 29s 291ms/step - loss: 0.1081 - acc: 0.9581 - val_loss: 1.1553 - val_acc: 0.7188\n",
            "Epoch 30/30\n",
            "100/100 [==============================] - 29s 289ms/step - loss: 0.1097 - acc: 0.9551 - val_loss: 1.0025 - val_acc: 0.8125\n"
          ],
          "name": "stdout"
        }
      ]
    },
    {
      "cell_type": "code",
      "metadata": {
        "id": "dgf8G7uxqiK1",
        "colab_type": "code",
        "colab": {}
      },
      "source": [
        "model.save('clean_and_messy_aug.h5')"
      ],
      "execution_count": null,
      "outputs": []
    },
    {
      "cell_type": "code",
      "metadata": {
        "id": "fJ6cAz47SnqM",
        "colab_type": "code",
        "colab": {
          "base_uri": "https://localhost:8080/",
          "height": 545
        },
        "outputId": "6367d603-37ca-4e59-83c8-f3eb0909832b"
      },
      "source": [
        "import matplotlib.pyplot as plt\n",
        "\n",
        "acc = history.history['acc']\n",
        "val_acc = history.history['val_acc']\n",
        "loss = history.history['loss']\n",
        "val_loss = history.history['val_loss']\n",
        "\n",
        "epochs = range(len(acc))\n",
        "\n",
        "plt.plot(epochs, acc, 'bo', label='Training acc')\n",
        "plt.plot(epochs, val_acc, 'b', label='Validation acc')\n",
        "plt.title('Training and validation accuracy')\n",
        "plt.legend()\n",
        "\n",
        "plt.figure()\n",
        "\n",
        "plt.plot(epochs, loss, 'bo', label='Training loss')\n",
        "plt.plot(epochs, val_loss, 'b', label='Validation loss')\n",
        "plt.title('Training and validation loss')\n",
        "plt.legend()\n",
        "\n",
        "plt.show()"
      ],
      "execution_count": null,
      "outputs": [
        {
          "output_type": "display_data",
          "data": {
            "image/png": "[encoded data removed]",
            "text/plain": [
              "<Figure size 432x288 with 1 Axes>"
            ]
          },
          "metadata": {
            "tags": [],
            "needs_background": "light"
          }
        },
        {
          "output_type": "display_data",
          "data": {
            "image/png": "[encoded data removed]",
            "text/plain": [
              "<Figure size 432x288 with 1 Axes>"
            ]
          },
          "metadata": {
            "tags": [],
            "needs_background": "light"
          }
        }
      ]
    },
    {
      "cell_type": "markdown",
      "metadata": {
        "id": "fM_6HF9wQYCC",
        "colab_type": "text"
      },
      "source": [
        "We remove two layers this time."
      ]
    },
    {
      "cell_type": "code",
      "metadata": {
        "id": "A_bRqA51Ga5T",
        "colab_type": "code",
        "colab": {}
      },
      "source": [
        "# remove 2 layers\n",
        "smaller_model = models.Sequential()\n",
        "smaller_model.add(layers.Conv2D(32, (3, 3), activation='relu',\n",
        "                        input_shape=(150, 150, 3)))\n",
        "smaller_model.add(layers.MaxPooling2D((2, 2)))\n",
        "smaller_model.add(layers.Conv2D(32, (3, 3), activation='relu'))\n",
        "smaller_model.add(layers.MaxPooling2D((2, 2)))\n",
        "smaller_model.add(layers.Conv2D(32, (3, 3), activation='relu'))\n",
        "smaller_model.add(layers.MaxPooling2D((2, 2)))\n",
        "#smaller_model.add(layers.Conv2D(128, (3, 3), activation='relu'))\n",
        "#smaller_model.add(layers.MaxPooling2D((2, 2)))\n",
        "smaller_model.add(layers.Flatten())\n",
        "smaller_model.add(layers.Dropout(0.5))\n",
        "smaller_model.add(layers.Dense(64, activation='relu'))\n",
        "smaller_model.add(layers.Dense(1, activation='sigmoid'))\n",
        "\n",
        "smaller_model.compile(loss='binary_crossentropy',\n",
        "              optimizer=optimizers.RMSprop(lr=1e-4),\n",
        "              metrics=['acc'])"
      ],
      "execution_count": null,
      "outputs": []
    },
    {
      "cell_type": "code",
      "metadata": {
        "id": "AtmicGOfRvmk",
        "colab_type": "code",
        "colab": {
          "base_uri": "https://localhost:8080/",
          "height": 510
        },
        "outputId": "2071e52d-97aa-4165-d4b9-800ccd1d4f8c"
      },
      "source": [
        "smaller_model.summary()"
      ],
      "execution_count": null,
      "outputs": [
        {
          "output_type": "stream",
          "text": [
            "Model: \"sequential_11\"\n",
            "_________________________________________________________________\n",
            "Layer (type)                 Output Shape              Param #   \n",
            "=================================================================\n",
            "conv2d_31 (Conv2D)           (None, 148, 148, 32)      896       \n",
            "_________________________________________________________________\n",
            "max_pooling2d_31 (MaxPooling (None, 74, 74, 32)        0         \n",
            "_________________________________________________________________\n",
            "conv2d_32 (Conv2D)           (None, 72, 72, 32)        9248      \n",
            "_________________________________________________________________\n",
            "max_pooling2d_32 (MaxPooling (None, 36, 36, 32)        0         \n",
            "_________________________________________________________________\n",
            "conv2d_33 (Conv2D)           (None, 34, 34, 32)        9248      \n",
            "_________________________________________________________________\n",
            "max_pooling2d_33 (MaxPooling (None, 17, 17, 32)        0         \n",
            "_________________________________________________________________\n",
            "flatten_11 (Flatten)         (None, 9248)              0         \n",
            "_________________________________________________________________\n",
            "dropout_8 (Dropout)          (None, 9248)              0         \n",
            "_________________________________________________________________\n",
            "dense_21 (Dense)             (None, 64)                591936    \n",
            "_________________________________________________________________\n",
            "dense_22 (Dense)             (None, 1)                 65        \n",
            "=================================================================\n",
            "Total params: 611,393\n",
            "Trainable params: 611,393\n",
            "Non-trainable params: 0\n",
            "_________________________________________________________________\n"
          ],
          "name": "stdout"
        }
      ]
    },
    {
      "cell_type": "code",
      "metadata": {
        "id": "34L8LgtHG7i8",
        "colab_type": "code",
        "colab": {
          "base_uri": "https://localhost:8080/",
          "height": 1000
        },
        "outputId": "d0f4929d-a248-4cfa-dfaf-25f74d867d2e"
      },
      "source": [
        "train_datagen = ImageDataGenerator(\n",
        "    rescale=1./255,\n",
        "    rotation_range=40,\n",
        "    width_shift_range=0.2,\n",
        "    height_shift_range=0.2,\n",
        "    shear_range=0.2,\n",
        "    zoom_range=0.2,\n",
        "    horizontal_flip=True,)\n",
        "\n",
        "# Note that the validation data should not be augmented!\n",
        "test_datagen = ImageDataGenerator(rescale=1./255)\n",
        "\n",
        "train_generator = train_datagen.flow_from_directory(\n",
        "        # This is the target directory\n",
        "        train_dir,\n",
        "        # All images will be resized to 150x150\n",
        "        target_size=(150, 150),\n",
        "        batch_size=32,\n",
        "        # Since we use binary_crossentropy loss, we need binary labels\n",
        "        class_mode='binary')\n",
        "\n",
        "validation_generator = test_datagen.flow_from_directory(\n",
        "        validation_dir,\n",
        "        target_size=(150, 150),\n",
        "        batch_size=32,\n",
        "        class_mode='binary')\n",
        "\n",
        "history = smaller_model.fit_generator(\n",
        "      train_generator,\n",
        "      steps_per_epoch=100,\n",
        "      epochs=30,\n",
        "      validation_data=validation_generator,\n",
        "      validation_steps=50)"
      ],
      "execution_count": null,
      "outputs": [
        {
          "output_type": "stream",
          "text": [
            "Found 148 images belonging to 2 classes.\n",
            "Found 32 images belonging to 2 classes.\n",
            "Epoch 1/30\n",
            "100/100 [==============================] - 30s 303ms/step - loss: 0.5874 - acc: 0.7115 - val_loss: 0.5397 - val_acc: 0.7500\n",
            "Epoch 2/30\n",
            "100/100 [==============================] - 29s 293ms/step - loss: 0.4737 - acc: 0.7814 - val_loss: 0.4854 - val_acc: 0.8125\n",
            "Epoch 3/30\n",
            "100/100 [==============================] - 29s 292ms/step - loss: 0.4612 - acc: 0.7892 - val_loss: 0.4847 - val_acc: 0.7812\n",
            "Epoch 4/30\n",
            "100/100 [==============================] - 30s 297ms/step - loss: 0.4407 - acc: 0.8027 - val_loss: 0.4977 - val_acc: 0.7812\n",
            "Epoch 5/30\n",
            "100/100 [==============================] - 30s 303ms/step - loss: 0.4374 - acc: 0.8122 - val_loss: 0.6100 - val_acc: 0.7812\n",
            "Epoch 6/30\n",
            "100/100 [==============================] - 30s 298ms/step - loss: 0.4377 - acc: 0.8074 - val_loss: 0.4927 - val_acc: 0.7812\n",
            "Epoch 7/30\n",
            "100/100 [==============================] - 30s 295ms/step - loss: 0.4106 - acc: 0.8186 - val_loss: 0.7265 - val_acc: 0.6562\n",
            "Epoch 8/30\n",
            "100/100 [==============================] - 29s 293ms/step - loss: 0.4150 - acc: 0.8209 - val_loss: 0.5232 - val_acc: 0.7500\n",
            "Epoch 9/30\n",
            "100/100 [==============================] - 30s 299ms/step - loss: 0.4043 - acc: 0.8213 - val_loss: 0.5299 - val_acc: 0.7812\n",
            "Epoch 10/30\n",
            "100/100 [==============================] - 29s 292ms/step - loss: 0.3971 - acc: 0.8280 - val_loss: 0.6091 - val_acc: 0.8125\n",
            "Epoch 11/30\n",
            "100/100 [==============================] - 30s 297ms/step - loss: 0.3918 - acc: 0.8389 - val_loss: 0.5616 - val_acc: 0.7500\n",
            "Epoch 12/30\n",
            "100/100 [==============================] - 29s 294ms/step - loss: 0.3739 - acc: 0.8419 - val_loss: 0.6362 - val_acc: 0.8125\n",
            "Epoch 13/30\n",
            "100/100 [==============================] - 29s 294ms/step - loss: 0.3742 - acc: 0.8470 - val_loss: 0.5537 - val_acc: 0.7500\n",
            "Epoch 14/30\n",
            "100/100 [==============================] - 30s 297ms/step - loss: 0.3704 - acc: 0.8432 - val_loss: 0.6058 - val_acc: 0.8125\n",
            "Epoch 15/30\n",
            "100/100 [==============================] - 30s 295ms/step - loss: 0.3642 - acc: 0.8480 - val_loss: 0.5786 - val_acc: 0.8125\n",
            "Epoch 16/30\n",
            "100/100 [==============================] - 30s 301ms/step - loss: 0.3616 - acc: 0.8554 - val_loss: 0.7454 - val_acc: 0.7500\n",
            "Epoch 17/30\n",
            "100/100 [==============================] - 30s 301ms/step - loss: 0.3609 - acc: 0.8459 - val_loss: 0.5901 - val_acc: 0.7500\n",
            "Epoch 18/30\n",
            "100/100 [==============================] - 29s 292ms/step - loss: 0.3622 - acc: 0.8534 - val_loss: 0.5855 - val_acc: 0.7500\n",
            "Epoch 19/30\n",
            "100/100 [==============================] - 30s 298ms/step - loss: 0.3561 - acc: 0.8466 - val_loss: 0.5586 - val_acc: 0.7188\n",
            "Epoch 20/30\n",
            "100/100 [==============================] - 30s 296ms/step - loss: 0.3445 - acc: 0.8598 - val_loss: 0.6293 - val_acc: 0.7812\n",
            "Epoch 21/30\n",
            "100/100 [==============================] - 29s 292ms/step - loss: 0.3429 - acc: 0.8601 - val_loss: 0.5603 - val_acc: 0.7500\n",
            "Epoch 22/30\n",
            "100/100 [==============================] - 29s 289ms/step - loss: 0.3381 - acc: 0.8578 - val_loss: 0.5795 - val_acc: 0.7500\n",
            "Epoch 23/30\n",
            "100/100 [==============================] - 30s 298ms/step - loss: 0.3424 - acc: 0.8571 - val_loss: 0.5792 - val_acc: 0.7500\n",
            "Epoch 24/30\n",
            "100/100 [==============================] - 30s 295ms/step - loss: 0.3233 - acc: 0.8669 - val_loss: 0.5910 - val_acc: 0.7812\n",
            "Epoch 25/30\n",
            "100/100 [==============================] - 30s 298ms/step - loss: 0.3234 - acc: 0.8689 - val_loss: 0.7275 - val_acc: 0.7188\n",
            "Epoch 26/30\n",
            "100/100 [==============================] - 30s 302ms/step - loss: 0.3019 - acc: 0.8730 - val_loss: 0.5734 - val_acc: 0.7500\n",
            "Epoch 27/30\n",
            "100/100 [==============================] - 32s 320ms/step - loss: 0.3083 - acc: 0.8764 - val_loss: 0.6379 - val_acc: 0.7500\n",
            "Epoch 28/30\n",
            "100/100 [==============================] - 32s 317ms/step - loss: 0.2967 - acc: 0.8784 - val_loss: 0.6677 - val_acc: 0.8125\n",
            "Epoch 29/30\n",
            "100/100 [==============================] - 32s 315ms/step - loss: 0.2891 - acc: 0.8804 - val_loss: 0.5641 - val_acc: 0.7500\n",
            "Epoch 30/30\n",
            "100/100 [==============================] - 32s 315ms/step - loss: 0.3084 - acc: 0.8726 - val_loss: 0.6159 - val_acc: 0.7812\n"
          ],
          "name": "stdout"
        }
      ]
    },
    {
      "cell_type": "code",
      "metadata": {
        "id": "Cmr06nWXb1lk",
        "colab_type": "code",
        "colab": {}
      },
      "source": [
        "smaller_model.save('clean_and_messy_smaller.h5')"
      ],
      "execution_count": null,
      "outputs": []
    },
    {
      "cell_type": "code",
      "metadata": {
        "id": "ZiLD7BAlIcZX",
        "colab_type": "code",
        "colab": {
          "base_uri": "https://localhost:8080/",
          "height": 545
        },
        "outputId": "b28a0472-0c8c-45a7-ac77-abb29a53b0d1"
      },
      "source": [
        "import matplotlib.pyplot as plt\n",
        "\n",
        "acc = history.history['acc']\n",
        "val_acc = history.history['val_acc']\n",
        "loss = history.history['loss']\n",
        "val_loss = history.history['val_loss']\n",
        "\n",
        "epochs = range(len(acc))\n",
        "\n",
        "plt.plot(epochs, acc, 'bo', label='Training acc')\n",
        "plt.plot(epochs, val_acc, 'b', label='Validation acc')\n",
        "plt.title('Training and validation accuracy')\n",
        "plt.legend()\n",
        "\n",
        "plt.figure()\n",
        "\n",
        "plt.plot(epochs, loss, 'bo', label='Training loss')\n",
        "plt.plot(epochs, val_loss, 'b', label='Validation loss')\n",
        "plt.title('Training and validation loss')\n",
        "plt.legend()\n",
        "\n",
        "plt.show()"
      ],
      "execution_count": null,
      "outputs": [
        {
          "output_type": "display_data",
          "data": {
            "image/png": "[encoded data removed]",
            "text/plain": [
              "<Figure size 432x288 with 1 Axes>"
            ]
          },
          "metadata": {
            "tags": [],
            "needs_background": "light"
          }
        },
        {
          "output_type": "display_data",
          "data": {
            "image/png": "[encoded data removed]",
            "text/plain": [
              "<Figure size 432x288 with 1 Axes>"
            ]
          },
          "metadata": {
            "tags": [],
            "needs_background": "light"
          }
        }
      ]
    },
    {
      "cell_type": "code",
      "metadata": {
        "id": "9TWj2S5PYBal",
        "colab_type": "code",
        "colab": {
          "base_uri": "https://localhost:8080/",
          "height": 52
        },
        "outputId": "52c241a4-4791-4dd7-9c3a-a14a384d545f"
      },
      "source": [
        "test_generator = test_datagen.flow_from_directory(\n",
        "        test_dir,\n",
        "        target_size=(150, 150),\n",
        "        batch_size=20,\n",
        "        class_mode='binary')\n",
        "\n",
        "test_loss, test_acc = smaller_model.evaluate_generator(test_generator, steps=50)\n",
        "print('test acc:', test_acc)"
      ],
      "execution_count": null,
      "outputs": [
        {
          "output_type": "stream",
          "text": [
            "Found 32 images belonging to 2 classes.\n",
            "test acc: 0.78125\n"
          ],
          "name": "stdout"
        }
      ]
    },
    {
      "cell_type": "markdown",
      "metadata": {
        "id": "TC6qu9BXZooJ",
        "colab_type": "text"
      },
      "source": [
        "We use VGG16 model this time to improve the performance of our model."
      ]
    },
    {
      "cell_type": "code",
      "metadata": {
        "id": "CTgSIOTbZnxt",
        "colab_type": "code",
        "colab": {
          "base_uri": "https://localhost:8080/",
          "height": 52
        },
        "outputId": "263c9aff-f3ec-4a17-a66c-35b06121177e"
      },
      "source": [
        "from keras.applications import VGG16\n",
        "\n",
        "conv_base = VGG16(weights='imagenet',\n",
        "                  include_top=False,\n",
        "                  input_shape=(150, 150, 3))"
      ],
      "execution_count": null,
      "outputs": [
        {
          "output_type": "stream",
          "text": [
            "Downloading data from https://github.com/fchollet/deep-learning-models/releases/download/v0.1/vgg16_weights_tf_dim_ordering_tf_kernels_notop.h5\n",
            "58892288/58889256 [==============================] - 1s 0us/step\n"
          ],
          "name": "stdout"
        }
      ]
    },
    {
      "cell_type": "code",
      "metadata": {
        "id": "t6vQziIIZ_eN",
        "colab_type": "code",
        "colab": {
          "base_uri": "https://localhost:8080/",
          "height": 827
        },
        "outputId": "1d77da5b-4204-4dd5-9a56-c46820dd6d05"
      },
      "source": [
        "conv_base.summary()"
      ],
      "execution_count": null,
      "outputs": [
        {
          "output_type": "stream",
          "text": [
            "Model: \"vgg16\"\n",
            "_________________________________________________________________\n",
            "Layer (type)                 Output Shape              Param #   \n",
            "=================================================================\n",
            "input_1 (InputLayer)         (None, 150, 150, 3)       0         \n",
            "_________________________________________________________________\n",
            "block1_conv1 (Conv2D)        (None, 150, 150, 64)      1792      \n",
            "_________________________________________________________________\n",
            "block1_conv2 (Conv2D)        (None, 150, 150, 64)      36928     \n",
            "_________________________________________________________________\n",
            "block1_pool (MaxPooling2D)   (None, 75, 75, 64)        0         \n",
            "_________________________________________________________________\n",
            "block2_conv1 (Conv2D)        (None, 75, 75, 128)       73856     \n",
            "_________________________________________________________________\n",
            "block2_conv2 (Conv2D)        (None, 75, 75, 128)       147584    \n",
            "_________________________________________________________________\n",
            "block2_pool (MaxPooling2D)   (None, 37, 37, 128)       0         \n",
            "_________________________________________________________________\n",
            "block3_conv1 (Conv2D)        (None, 37, 37, 256)       295168    \n",
            "_________________________________________________________________\n",
            "block3_conv2 (Conv2D)        (None, 37, 37, 256)       590080    \n",
            "_________________________________________________________________\n",
            "block3_conv3 (Conv2D)        (None, 37, 37, 256)       590080    \n",
            "_________________________________________________________________\n",
            "block3_pool (MaxPooling2D)   (None, 18, 18, 256)       0         \n",
            "_________________________________________________________________\n",
            "block4_conv1 (Conv2D)        (None, 18, 18, 512)       1180160   \n",
            "_________________________________________________________________\n",
            "block4_conv2 (Conv2D)        (None, 18, 18, 512)       2359808   \n",
            "_________________________________________________________________\n",
            "block4_conv3 (Conv2D)        (None, 18, 18, 512)       2359808   \n",
            "_________________________________________________________________\n",
            "block4_pool (MaxPooling2D)   (None, 9, 9, 512)         0         \n",
            "_________________________________________________________________\n",
            "block5_conv1 (Conv2D)        (None, 9, 9, 512)         2359808   \n",
            "_________________________________________________________________\n",
            "block5_conv2 (Conv2D)        (None, 9, 9, 512)         2359808   \n",
            "_________________________________________________________________\n",
            "block5_conv3 (Conv2D)        (None, 9, 9, 512)         2359808   \n",
            "_________________________________________________________________\n",
            "block5_pool (MaxPooling2D)   (None, 4, 4, 512)         0         \n",
            "=================================================================\n",
            "Total params: 14,714,688\n",
            "Trainable params: 14,714,688\n",
            "Non-trainable params: 0\n",
            "_________________________________________________________________\n"
          ],
          "name": "stdout"
        }
      ]
    },
    {
      "cell_type": "code",
      "metadata": {
        "id": "2jZKPheoaxkh",
        "colab_type": "code",
        "colab": {}
      },
      "source": [
        "from keras import models\n",
        "from keras import layers\n",
        "\n",
        "VGG16_model = models.Sequential()\n",
        "VGG16_model.add(conv_base)\n",
        "VGG16_model.add(layers.Flatten())\n",
        "VGG16_model.add(layers.Dense(256, activation='relu'))\n",
        "VGG16_model.add(layers.Dense(1, activation='sigmoid'))"
      ],
      "execution_count": null,
      "outputs": []
    },
    {
      "cell_type": "code",
      "metadata": {
        "id": "KdAJ_jXRa5aO",
        "colab_type": "code",
        "colab": {
          "base_uri": "https://localhost:8080/",
          "height": 299
        },
        "outputId": "fd771f1e-d96b-4678-bd42-dc812dd0119b"
      },
      "source": [
        "VGG16_model.summary()"
      ],
      "execution_count": null,
      "outputs": [
        {
          "output_type": "stream",
          "text": [
            "Model: \"sequential_1\"\n",
            "_________________________________________________________________\n",
            "Layer (type)                 Output Shape              Param #   \n",
            "=================================================================\n",
            "vgg16 (Model)                (None, 4, 4, 512)         14714688  \n",
            "_________________________________________________________________\n",
            "flatten_1 (Flatten)          (None, 8192)              0         \n",
            "_________________________________________________________________\n",
            "dense_1 (Dense)              (None, 256)               2097408   \n",
            "_________________________________________________________________\n",
            "dense_2 (Dense)              (None, 1)                 257       \n",
            "=================================================================\n",
            "Total params: 16,812,353\n",
            "Trainable params: 16,812,353\n",
            "Non-trainable params: 0\n",
            "_________________________________________________________________\n"
          ],
          "name": "stdout"
        }
      ]
    },
    {
      "cell_type": "code",
      "metadata": {
        "id": "fhdCrKZRbOOY",
        "colab_type": "code",
        "colab": {
          "base_uri": "https://localhost:8080/",
          "height": 35
        },
        "outputId": "f78cfa17-d73d-4f5e-a157-c714f62f05f2"
      },
      "source": [
        "print('This is the number of trainable weights '\n",
        "      'before freezing the conv base:', len(VGG16_model.trainable_weights))"
      ],
      "execution_count": null,
      "outputs": [
        {
          "output_type": "stream",
          "text": [
            "This is the number of trainable weights before freezing the conv base: 30\n"
          ],
          "name": "stdout"
        }
      ]
    },
    {
      "cell_type": "code",
      "metadata": {
        "id": "ioBKQBd6bJWW",
        "colab_type": "code",
        "colab": {}
      },
      "source": [
        "conv_base.trainable = False"
      ],
      "execution_count": null,
      "outputs": []
    },
    {
      "cell_type": "code",
      "metadata": {
        "id": "3rCMmjO7bNgB",
        "colab_type": "code",
        "colab": {
          "base_uri": "https://localhost:8080/",
          "height": 35
        },
        "outputId": "88337584-f1fc-49c0-c5da-bbb028dd0b2c"
      },
      "source": [
        "print('This is the number of trainable weights '\n",
        "      'after freezing the conv base:', len(VGG16_model.trainable_weights))"
      ],
      "execution_count": null,
      "outputs": [
        {
          "output_type": "stream",
          "text": [
            "This is the number of trainable weights after freezing the conv base: 4\n"
          ],
          "name": "stdout"
        }
      ]
    },
    {
      "cell_type": "code",
      "metadata": {
        "id": "n0JtuFJLbh2L",
        "colab_type": "code",
        "colab": {
          "base_uri": "https://localhost:8080/",
          "height": 1000
        },
        "outputId": "d57e4685-9e1b-41f8-c50f-a8860fbc3230"
      },
      "source": [
        "from keras.preprocessing.image import ImageDataGenerator\n",
        "from keras import optimizers\n",
        "train_datagen = ImageDataGenerator(\n",
        "      rescale=1./255,\n",
        "      rotation_range=40,\n",
        "      width_shift_range=0.2,\n",
        "      height_shift_range=0.2,\n",
        "      shear_range=0.2,\n",
        "      zoom_range=0.2,\n",
        "      horizontal_flip=True,\n",
        "      fill_mode='nearest')\n",
        "\n",
        "test_datagen = ImageDataGenerator(rescale=1./255)\n",
        "train_generator = train_datagen.flow_from_directory(\n",
        "        # This is the target directory\n",
        "        train_dir,\n",
        "        # All images will be resized to 150x150\n",
        "        target_size=(150, 150),\n",
        "        batch_size=20,\n",
        "        # Since we use binary_crossentropy loss, we need binary labels\n",
        "        class_mode='binary')\n",
        "\n",
        "validation_generator = test_datagen.flow_from_directory(\n",
        "        validation_dir,\n",
        "        target_size=(150, 150),\n",
        "        batch_size=20,\n",
        "        class_mode='binary')\n",
        "\n",
        "VGG16_model.compile(loss='binary_crossentropy',\n",
        "              optimizer=optimizers.RMSprop(lr=2e-5),\n",
        "              metrics=['acc'])\n",
        "\n",
        "history = VGG16_model.fit_generator(\n",
        "      train_generator,\n",
        "      steps_per_epoch=100,\n",
        "      epochs=30,\n",
        "      validation_data=validation_generator,\n",
        "      validation_steps=50,\n",
        "      verbose=2)"
      ],
      "execution_count": null,
      "outputs": [
        {
          "output_type": "stream",
          "text": [
            "Found 148 images belonging to 2 classes.\n",
            "Found 32 images belonging to 2 classes.\n",
            "Epoch 1/30\n",
            " - 35s - loss: 0.3727 - acc: 0.8726 - val_loss: 0.3252 - val_acc: 0.9062\n",
            "Epoch 2/30\n",
            " - 26s - loss: 0.1941 - acc: 0.9472 - val_loss: 0.3999 - val_acc: 0.9062\n",
            "Epoch 3/30\n",
            " - 26s - loss: 0.1580 - acc: 0.9490 - val_loss: 0.2427 - val_acc: 0.9062\n",
            "Epoch 4/30\n",
            " - 26s - loss: 0.1243 - acc: 0.9666 - val_loss: 0.3524 - val_acc: 0.9375\n",
            "Epoch 5/30\n",
            " - 26s - loss: 0.1133 - acc: 0.9628 - val_loss: 0.0677 - val_acc: 0.9375\n",
            "Epoch 6/30\n",
            " - 26s - loss: 0.0835 - acc: 0.9745 - val_loss: 0.2308 - val_acc: 0.9375\n",
            "Epoch 7/30\n",
            " - 26s - loss: 0.0832 - acc: 0.9725 - val_loss: 0.3256 - val_acc: 0.9062\n",
            "Epoch 8/30\n",
            " - 26s - loss: 0.0797 - acc: 0.9783 - val_loss: 0.2916 - val_acc: 0.9375\n",
            "Epoch 9/30\n",
            " - 26s - loss: 0.0712 - acc: 0.9751 - val_loss: 0.2454 - val_acc: 0.9062\n",
            "Epoch 10/30\n",
            " - 26s - loss: 0.0679 - acc: 0.9795 - val_loss: 0.1050 - val_acc: 0.9062\n",
            "Epoch 11/30\n",
            " - 26s - loss: 0.0619 - acc: 0.9821 - val_loss: 0.4610 - val_acc: 0.9062\n",
            "Epoch 12/30\n",
            " - 26s - loss: 0.0530 - acc: 0.9865 - val_loss: 0.4340 - val_acc: 0.9062\n",
            "Epoch 13/30\n",
            " - 26s - loss: 0.0499 - acc: 0.9833 - val_loss: 0.0762 - val_acc: 0.9062\n",
            "Epoch 14/30\n",
            " - 26s - loss: 0.0477 - acc: 0.9881 - val_loss: 0.2374 - val_acc: 0.9062\n",
            "Epoch 15/30\n",
            " - 26s - loss: 0.0451 - acc: 0.9854 - val_loss: 0.4281 - val_acc: 0.9062\n",
            "Epoch 16/30\n",
            " - 26s - loss: 0.0383 - acc: 0.9898 - val_loss: 0.2233 - val_acc: 0.9062\n",
            "Epoch 17/30\n",
            " - 26s - loss: 0.0400 - acc: 0.9908 - val_loss: 0.1050 - val_acc: 0.9062\n",
            "Epoch 18/30\n",
            " - 26s - loss: 0.0356 - acc: 0.9887 - val_loss: 0.3508 - val_acc: 0.9375\n",
            "Epoch 19/30\n",
            " - 26s - loss: 0.0327 - acc: 0.9898 - val_loss: 0.1624 - val_acc: 0.9375\n",
            "Epoch 20/30\n",
            " - 26s - loss: 0.0315 - acc: 0.9913 - val_loss: 0.5709 - val_acc: 0.9375\n",
            "Epoch 21/30\n",
            " - 26s - loss: 0.0360 - acc: 0.9898 - val_loss: 0.3019 - val_acc: 0.9062\n",
            "Epoch 22/30\n",
            " - 26s - loss: 0.0283 - acc: 0.9930 - val_loss: 0.0538 - val_acc: 0.9062\n",
            "Epoch 23/30\n",
            " - 26s - loss: 0.0237 - acc: 0.9946 - val_loss: 0.3428 - val_acc: 0.9375\n",
            "Epoch 24/30\n",
            " - 26s - loss: 0.0388 - acc: 0.9881 - val_loss: 0.3078 - val_acc: 0.9062\n",
            "Epoch 25/30\n",
            " - 26s - loss: 0.0262 - acc: 0.9930 - val_loss: 0.2490 - val_acc: 0.9062\n",
            "Epoch 26/30\n",
            " - 26s - loss: 0.0296 - acc: 0.9951 - val_loss: 0.3599 - val_acc: 0.9062\n",
            "Epoch 27/30\n",
            " - 26s - loss: 0.0290 - acc: 0.9898 - val_loss: 0.2499 - val_acc: 0.9062\n",
            "Epoch 28/30\n",
            " - 26s - loss: 0.0237 - acc: 0.9919 - val_loss: 0.5859 - val_acc: 0.9062\n",
            "Epoch 29/30\n",
            " - 26s - loss: 0.0252 - acc: 0.9913 - val_loss: 0.0745 - val_acc: 0.9062\n",
            "Epoch 30/30\n",
            " - 26s - loss: 0.0182 - acc: 0.9957 - val_loss: 0.3428 - val_acc: 0.9375\n"
          ],
          "name": "stdout"
        }
      ]
    },
    {
      "cell_type": "code",
      "metadata": {
        "id": "R8Ju66jucN9h",
        "colab_type": "code",
        "colab": {}
      },
      "source": [
        "VGG16_model.save('clean_and_messy_VGG16.h5')"
      ],
      "execution_count": null,
      "outputs": []
    },
    {
      "cell_type": "code",
      "metadata": {
        "id": "JocgdOpnboH2",
        "colab_type": "code",
        "colab": {
          "base_uri": "https://localhost:8080/",
          "height": 545
        },
        "outputId": "835a0e58-9ef4-4f4e-dde4-95f0885ffc5c"
      },
      "source": [
        "acc = history.history['acc']\n",
        "val_acc = history.history['val_acc']\n",
        "loss = history.history['loss']\n",
        "val_loss = history.history['val_loss']\n",
        "\n",
        "epochs = range(len(acc))\n",
        "\n",
        "plt.plot(epochs, acc, 'bo', label='Training acc')\n",
        "plt.plot(epochs, val_acc, 'b', label='Validation acc')\n",
        "plt.title('Training and validation accuracy')\n",
        "plt.legend()\n",
        "\n",
        "plt.figure()\n",
        "\n",
        "plt.plot(epochs, loss, 'bo', label='Training loss')\n",
        "plt.plot(epochs, val_loss, 'b', label='Validation loss')\n",
        "plt.title('Training and validation loss')\n",
        "plt.legend()\n",
        "\n",
        "plt.show()"
      ],
      "execution_count": null,
      "outputs": [
        {
          "output_type": "display_data",
          "data": {
            "image/png": "[encoded data removed]",
            "text/plain": [
              "<Figure size 432x288 with 1 Axes>"
            ]
          },
          "metadata": {
            "tags": [],
            "needs_background": "light"
          }
        },
        {
          "output_type": "display_data",
          "data": {
            "image/png": "[encoded data removed]",
            "text/plain": [
              "<Figure size 432x288 with 1 Axes>"
            ]
          },
          "metadata": {
            "tags": [],
            "needs_background": "light"
          }
        }
      ]
    },
    {
      "cell_type": "code",
      "metadata": {
        "id": "M8yCybRtckRB",
        "colab_type": "code",
        "colab": {
          "base_uri": "https://localhost:8080/",
          "height": 52
        },
        "outputId": "72cd4cbc-7e0e-4560-f02e-acf927d2b1ed"
      },
      "source": [
        "test_generator = test_datagen.flow_from_directory(\n",
        "        test_dir,\n",
        "        target_size=(150, 150),\n",
        "        batch_size=20,\n",
        "        class_mode='binary')\n",
        "\n",
        "test_loss, test_acc = VGG16_model.evaluate_generator(test_generator, steps=50)\n",
        "print('test acc:', test_acc)"
      ],
      "execution_count": null,
      "outputs": [
        {
          "output_type": "stream",
          "text": [
            "Found 32 images belonging to 2 classes.\n",
            "test acc: 0.96875\n"
          ],
          "name": "stdout"
        }
      ]
    },
    {
      "cell_type": "markdown",
      "metadata": {
        "id": "t8hZVC20fNGJ",
        "colab_type": "text"
      },
      "source": [
        "---"
      ]
    },
    {
      "cell_type": "code",
      "metadata": {
        "id": "shatxC7bfM1U",
        "colab_type": "code",
        "colab": {}
      },
      "source": [
        "conv_base.trainable = True\n",
        "\n",
        "set_trainable = False\n",
        "for layer in conv_base.layers:\n",
        "    if layer.name == 'block5_conv1':\n",
        "        set_trainable = True\n",
        "    if set_trainable:\n",
        "        layer.trainable = True\n",
        "    else:\n",
        "        layer.trainable = False"
      ],
      "execution_count": null,
      "outputs": []
    },
    {
      "cell_type": "code",
      "metadata": {
        "id": "3msrsCEwglE3",
        "colab_type": "code",
        "colab": {}
      },
      "source": [
        "from keras import models\n",
        "from keras import layers\n",
        "\n",
        "VGG16_FT_model = models.Sequential()\n",
        "VGG16_FT_model.add(conv_base)\n",
        "VGG16_FT_model.add(layers.Flatten())\n",
        "VGG16_FT_model.add(layers.Dense(256, activation='relu'))\n",
        "VGG16_FT_model.add(layers.Dense(1, activation='sigmoid'))"
      ],
      "execution_count": null,
      "outputs": []
    },
    {
      "cell_type": "code",
      "metadata": {
        "id": "IZRl9dxHgWEI",
        "colab_type": "code",
        "colab": {
          "base_uri": "https://localhost:8080/",
          "height": 1000
        },
        "outputId": "88334e78-ca9b-4edc-904e-07a1cdbaad65"
      },
      "source": [
        "from keras.preprocessing.image import ImageDataGenerator\n",
        "\n",
        "train_datagen = ImageDataGenerator(\n",
        "      rescale=1./255,\n",
        "      rotation_range=40,\n",
        "      width_shift_range=0.2,\n",
        "      height_shift_range=0.2,\n",
        "      shear_range=0.2,\n",
        "      zoom_range=0.2,\n",
        "      horizontal_flip=True,\n",
        "      fill_mode='nearest')\n",
        "\n",
        "test_datagen = ImageDataGenerator(rescale=1./255)\n",
        "train_generator = train_datagen.flow_from_directory(\n",
        "        train_dir,\n",
        "        # All images will be resized to 150x150\n",
        "        target_size=(150, 150),\n",
        "        batch_size=20,\n",
        "        # Since we use binary_crossentropy loss, we need binary labels\n",
        "        class_mode='binary')\n",
        "\n",
        "validation_generator = test_datagen.flow_from_directory(\n",
        "        validation_dir,\n",
        "        target_size=(150, 150),\n",
        "        batch_size=20,\n",
        "        class_mode='binary')\n",
        "\n",
        "VGG16_FT_model.compile(loss='binary_crossentropy',\n",
        "              optimizer=optimizers.RMSprop(lr=1e-5),\n",
        "              metrics=['acc'])\n",
        "\n",
        "history = VGG16_FT_model.fit_generator(\n",
        "      train_generator,\n",
        "      steps_per_epoch=100,\n",
        "      epochs=30,\n",
        "      validation_data=validation_generator,\n",
        "      validation_steps=50)"
      ],
      "execution_count": null,
      "outputs": [
        {
          "output_type": "stream",
          "text": [
            "Found 148 images belonging to 2 classes.\n",
            "Found 32 images belonging to 2 classes.\n",
            "Epoch 1/30\n",
            "100/100 [==============================] - 22s 215ms/step - loss: 0.0631 - acc: 0.9817 - val_loss: 0.4494 - val_acc: 0.9062\n",
            "Epoch 2/30\n",
            "100/100 [==============================] - 21s 208ms/step - loss: 0.0079 - acc: 0.9978 - val_loss: 0.1541 - val_acc: 0.8750\n",
            "Epoch 3/30\n",
            "100/100 [==============================] - 20s 203ms/step - loss: 0.0041 - acc: 0.9989 - val_loss: 0.7673 - val_acc: 0.9062\n",
            "Epoch 4/30\n",
            "100/100 [==============================] - 21s 208ms/step - loss: 0.0028 - acc: 0.9984 - val_loss: 1.3237 - val_acc: 0.8750\n",
            "Epoch 5/30\n",
            "100/100 [==============================] - 20s 205ms/step - loss: 0.0012 - acc: 0.9995 - val_loss: 0.5445 - val_acc: 0.8750\n",
            "Epoch 6/30\n",
            "100/100 [==============================] - 21s 208ms/step - loss: 0.0034 - acc: 0.9989 - val_loss: 0.0712 - val_acc: 0.9375\n",
            "Epoch 7/30\n",
            "100/100 [==============================] - 20s 204ms/step - loss: 0.0093 - acc: 0.9978 - val_loss: 0.4627 - val_acc: 0.8750\n",
            "Epoch 8/30\n",
            "100/100 [==============================] - 21s 208ms/step - loss: 0.0072 - acc: 0.9989 - val_loss: 1.0850 - val_acc: 0.8750\n",
            "Epoch 9/30\n",
            "100/100 [==============================] - 20s 203ms/step - loss: 3.2352e-04 - acc: 1.0000 - val_loss: 1.0725 - val_acc: 0.8750\n",
            "Epoch 10/30\n",
            "100/100 [==============================] - 21s 208ms/step - loss: 3.3653e-04 - acc: 1.0000 - val_loss: 1.0298 - val_acc: 0.8750\n",
            "Epoch 11/30\n",
            "100/100 [==============================] - 20s 205ms/step - loss: 0.0015 - acc: 0.9995 - val_loss: 1.0310 - val_acc: 0.8750\n",
            "Epoch 12/30\n",
            "100/100 [==============================] - 21s 208ms/step - loss: 0.0029 - acc: 0.9995 - val_loss: 1.2508 - val_acc: 0.8750\n",
            "Epoch 13/30\n",
            "100/100 [==============================] - 20s 204ms/step - loss: 7.6754e-04 - acc: 0.9995 - val_loss: 1.6062e-06 - val_acc: 0.8750\n",
            "Epoch 14/30\n",
            "100/100 [==============================] - 21s 208ms/step - loss: 0.0017 - acc: 0.9995 - val_loss: 0.4954 - val_acc: 0.8750\n",
            "Epoch 15/30\n",
            "100/100 [==============================] - 21s 209ms/step - loss: 0.0022 - acc: 0.9995 - val_loss: 0.9491 - val_acc: 0.8750\n",
            "Epoch 16/30\n",
            "100/100 [==============================] - 21s 209ms/step - loss: 6.2089e-04 - acc: 1.0000 - val_loss: 0.9494 - val_acc: 0.8750\n",
            "Epoch 17/30\n",
            "100/100 [==============================] - 20s 203ms/step - loss: 8.4630e-05 - acc: 1.0000 - val_loss: 1.0568 - val_acc: 0.8750\n",
            "Epoch 18/30\n",
            "100/100 [==============================] - 21s 208ms/step - loss: 6.5978e-04 - acc: 1.0000 - val_loss: 1.0609 - val_acc: 0.9062\n",
            "Epoch 19/30\n",
            "100/100 [==============================] - 20s 204ms/step - loss: 5.3462e-04 - acc: 0.9995 - val_loss: 1.2852 - val_acc: 0.8750\n",
            "Epoch 20/30\n",
            "100/100 [==============================] - 21s 207ms/step - loss: 1.0870e-04 - acc: 1.0000 - val_loss: 0.3043 - val_acc: 0.9062\n",
            "Epoch 21/30\n",
            "100/100 [==============================] - 20s 204ms/step - loss: 1.1841e-04 - acc: 1.0000 - val_loss: 1.5883 - val_acc: 0.8750\n",
            "Epoch 22/30\n",
            "100/100 [==============================] - 21s 208ms/step - loss: 0.0012 - acc: 0.9995 - val_loss: 1.1276 - val_acc: 0.8750\n",
            "Epoch 23/30\n",
            "100/100 [==============================] - 20s 202ms/step - loss: 5.4458e-04 - acc: 1.0000 - val_loss: 1.5816 - val_acc: 0.9375\n",
            "Epoch 24/30\n",
            "100/100 [==============================] - 21s 211ms/step - loss: 1.6014e-04 - acc: 1.0000 - val_loss: 1.0369 - val_acc: 0.9062\n",
            "Epoch 25/30\n",
            "100/100 [==============================] - 20s 203ms/step - loss: 7.1676e-04 - acc: 0.9995 - val_loss: 8.1810e-05 - val_acc: 0.8750\n",
            "Epoch 26/30\n",
            "100/100 [==============================] - 21s 209ms/step - loss: 0.0011 - acc: 0.9995 - val_loss: 2.1869 - val_acc: 0.8750\n",
            "Epoch 27/30\n",
            "100/100 [==============================] - 20s 205ms/step - loss: 0.0010 - acc: 0.9995 - val_loss: 0.7943 - val_acc: 0.8750\n",
            "Epoch 28/30\n",
            "100/100 [==============================] - 21s 209ms/step - loss: 0.0020 - acc: 0.9995 - val_loss: 1.5652 - val_acc: 0.9375\n",
            "Epoch 29/30\n",
            "100/100 [==============================] - 20s 204ms/step - loss: 2.1491e-04 - acc: 1.0000 - val_loss: 0.6637 - val_acc: 0.8750\n",
            "Epoch 30/30\n",
            "100/100 [==============================] - 21s 208ms/step - loss: 6.5560e-04 - acc: 1.0000 - val_loss: 2.0906 - val_acc: 0.8750\n"
          ],
          "name": "stdout"
        }
      ]
    },
    {
      "cell_type": "code",
      "metadata": {
        "id": "2uNqKEQbfzd9",
        "colab_type": "code",
        "colab": {}
      },
      "source": [
        "VGG16_FT_model.save('clean_and_messy_VGG16_FT.h5')"
      ],
      "execution_count": null,
      "outputs": []
    },
    {
      "cell_type": "code",
      "metadata": {
        "id": "c5I0gN_9ujJ9",
        "colab_type": "code",
        "colab": {
          "base_uri": "https://localhost:8080/",
          "height": 545
        },
        "outputId": "e32696d0-ccba-4cf1-b7e3-71c330e0abe5"
      },
      "source": [
        "acc = history.history['acc']\n",
        "val_acc = history.history['val_acc']\n",
        "loss = history.history['loss']\n",
        "val_loss = history.history['val_loss']\n",
        "\n",
        "epochs = range(len(acc))\n",
        "\n",
        "plt.plot(epochs, acc, 'bo', label='Training acc')\n",
        "plt.plot(epochs, val_acc, 'b', label='Validation acc')\n",
        "plt.title('Training and validation accuracy')\n",
        "plt.legend()\n",
        "\n",
        "plt.figure()\n",
        "\n",
        "plt.plot(epochs, loss, 'bo', label='Training loss')\n",
        "plt.plot(epochs, val_loss, 'b', label='Validation loss')\n",
        "plt.title('Training and validation loss')\n",
        "plt.legend()\n",
        "\n",
        "plt.show()"
      ],
      "execution_count": null,
      "outputs": [
        {
          "output_type": "display_data",
          "data": {
            "image/png": "[encoded data removed]",
            "text/plain": [
              "<Figure size 432x288 with 1 Axes>"
            ]
          },
          "metadata": {
            "tags": [],
            "needs_background": "light"
          }
        },
        {
          "output_type": "display_data",
          "data": {
            "image/png": "[encoded data removed]",
            "text/plain": [
              "<Figure size 432x288 with 1 Axes>"
            ]
          },
          "metadata": {
            "tags": [],
            "needs_background": "light"
          }
        }
      ]
    },
    {
      "cell_type": "code",
      "metadata": {
        "id": "cA_-J3vsf5fc",
        "colab_type": "code",
        "colab": {
          "base_uri": "https://localhost:8080/",
          "height": 545
        },
        "outputId": "687127e7-5649-4692-8066-dcecd7f6e667"
      },
      "source": [
        "def smooth_curve(points, factor=0.8):\n",
        "  smoothed_points = []\n",
        "  for point in points:\n",
        "    if smoothed_points:\n",
        "      previous = smoothed_points[-1]\n",
        "      smoothed_points.append(previous * factor + point * (1 - factor))\n",
        "    else:\n",
        "      smoothed_points.append(point)\n",
        "  return smoothed_points\n",
        "\n",
        "plt.plot(epochs,\n",
        "         smooth_curve(acc), 'bo', label='Smoothed training acc')\n",
        "plt.plot(epochs,\n",
        "         smooth_curve(val_acc), 'b', label='Smoothed validation acc')\n",
        "plt.title('Training and validation accuracy')\n",
        "plt.legend()\n",
        "\n",
        "plt.figure()\n",
        "\n",
        "plt.plot(epochs,\n",
        "         smooth_curve(loss), 'bo', label='Smoothed training loss')\n",
        "plt.plot(epochs,\n",
        "         smooth_curve(val_loss), 'b', label='Smoothed validation loss')\n",
        "plt.title('Training and validation loss')\n",
        "plt.legend()\n",
        "\n",
        "plt.show()"
      ],
      "execution_count": null,
      "outputs": [
        {
          "output_type": "display_data",
          "data": {
            "image/png": "[encoded data removed]",
            "text/plain": [
              "<Figure size 432x288 with 1 Axes>"
            ]
          },
          "metadata": {
            "tags": [],
            "needs_background": "light"
          }
        },
        {
          "output_type": "display_data",
          "data": {
            "image/png": "[encoded data removed]",
            "text/plain": [
              "<Figure size 432x288 with 1 Axes>"
            ]
          },
          "metadata": {
            "tags": [],
            "needs_background": "light"
          }
        }
      ]
    },
    {
      "cell_type": "code",
      "metadata": {
        "id": "4e056I4_gDxZ",
        "colab_type": "code",
        "colab": {
          "base_uri": "https://localhost:8080/",
          "height": 52
        },
        "outputId": "fa99e58c-0770-40c4-9b49-f25d0e5c7fe2"
      },
      "source": [
        "test_generator = test_datagen.flow_from_directory(\n",
        "        test_dir,\n",
        "        target_size=(150, 150),\n",
        "        batch_size=20,\n",
        "        class_mode='binary')\n",
        "\n",
        "test_loss, test_acc = VGG16_FT_model.evaluate_generator(test_generator, steps=50)\n",
        "print('test acc:', test_acc)"
      ],
      "execution_count": null,
      "outputs": [
        {
          "output_type": "stream",
          "text": [
            "Found 32 images belonging to 2 classes.\n",
            "test acc: 0.96875\n"
          ],
          "name": "stdout"
        }
      ]
    },
    {
      "cell_type": "code",
      "metadata": {
        "id": "2tS4-O4GjrWM",
        "colab_type": "code",
        "colab": {}
      },
      "source": [
        ""
      ],
      "execution_count": null,
      "outputs": []
    },
    {
      "cell_type": "code",
      "metadata": {
        "id": "SrjnuLT2jw05",
        "colab_type": "code",
        "colab": {
          "base_uri": "https://localhost:8080/",
          "height": 125
        },
        "outputId": "ea0ea72e-50ea-4697-ead0-0cbf972d6397"
      },
      "source": [
        "from google.colab import drive\n",
        "drive.mount('/gdrive')"
      ],
      "execution_count": null,
      "outputs": [
        {
          "output_type": "stream",
          "text": [
            "Go to this URL in a browser: https://accounts.google.com/o/oauth2/auth?client_id=947318989803-6bn6qk8qdgf4n4g3pfee6491hc0brc4i.apps.googleusercontent.com&redirect_uri=urn%3aietf%3awg%3aoauth%3a2.0%3aoob&response_type=code&scope=email%20https%3a%2f%2fwww.googleapis.com%2fauth%2fdocs.test%20https%3a%2f%2fwww.googleapis.com%2fauth%2fdrive%20https%3a%2f%2fwww.googleapis.com%2fauth%2fdrive.photos.readonly%20https%3a%2f%2fwww.googleapis.com%2fauth%2fpeopleapi.readonly\n",
            "\n",
            "Enter your authorization code:\n",
            "··········\n",
            "Mounted at /gdrive\n"
          ],
          "name": "stdout"
        }
      ]
    },
    {
      "cell_type": "code",
      "metadata": {
        "id": "UwGNIDnckVoP",
        "colab_type": "code",
        "colab": {
          "base_uri": "https://localhost:8080/",
          "height": 35
        },
        "outputId": "fed829ba-4f10-4ca6-ea03-ffb1e13f596f"
      },
      "source": [
        "from google.colab import drive\n",
        "drive.mount('/content/drive')"
      ],
      "execution_count": null,
      "outputs": [
        {
          "output_type": "stream",
          "text": [
            "Mounted at /content/drive\n"
          ],
          "name": "stdout"
        }
      ]
    },
    {
      "cell_type": "code",
      "metadata": {
        "id": "07Qc7gkcYPki",
        "colab_type": "code",
        "colab": {}
      },
      "source": [
        "import numpy as np"
      ],
      "execution_count": null,
      "outputs": []
    },
    {
      "cell_type": "code",
      "metadata": {
        "id": "mPmSnDl32BYh",
        "colab_type": "code",
        "colab": {
          "base_uri": "https://localhost:8080/",
          "height": 70
        },
        "outputId": "bb64cada-419b-484d-abc8-7c8263370cf6"
      },
      "source": [
        "ytest_dir = '/content/messy_vs_clean_room/ytest'\n",
        "from keras.preprocessing.image import ImageDataGenerator\n",
        "ytest_datagen = ImageDataGenerator(rescale=1./255)\n",
        "ytest_generator = test_datagen.flow_from_directory(\n",
        "        ytest_dir,\n",
        "        target_size=(150, 150),\n",
        "        batch_size=1,\n",
        "        class_mode='binary')\n",
        "\n",
        "pred = VGG16_model.predict_generator(ytest_generator, verbose=1)\n",
        "\n",
        "predicted_class_indices = np.argmax(pred, axis=1)\n",
        "labels = (train_generator.class_indices)\n",
        "label = dict((v,k) for k,v in labels.items())\n",
        "\n",
        "# 建立代码标签与真实标签的关系\n",
        "predictions = [label[i] for i in predicted_class_indices]\n",
        "predictions\n",
        "#VGG16_model.predict_classes(ytest_generator, batch_size=len(ytest_generator), verbose=0)\n",
        "#ytest_loss, ytest_acc = VGG16_model.evaluate_generator(ytest_generator, steps=50)\n",
        "#print('ytest acc:', ytest_acc)"
      ],
      "execution_count": null,
      "outputs": [
        {
          "output_type": "stream",
          "text": [
            "Found 3 images belonging to 2 classes.\n",
            "3/3 [==============================] - 0s 25ms/step\n"
          ],
          "name": "stdout"
        },
        {
          "output_type": "execute_result",
          "data": {
            "text/plain": [
              "['clean', 'clean', 'clean']"
            ]
          },
          "metadata": {
            "tags": []
          },
          "execution_count": 42
        }
      ]
    },
    {
      "cell_type": "code",
      "metadata": {
        "id": "vOknC3xvV4ni",
        "colab_type": "code",
        "colab": {}
      },
      "source": [
        "![picture]()"
      ],
      "execution_count": null,
      "outputs": []
    }
  ]
}