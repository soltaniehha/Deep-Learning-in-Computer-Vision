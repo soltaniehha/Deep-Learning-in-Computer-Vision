{
  "nbformat": 4,
  "nbformat_minor": 0,
  "metadata": {
    "kernelspec": {
      "display_name": "Python 3",
      "language": "python",
      "name": "python3"
    },
    "language_info": {
      "codemirror_mode": {
        "name": "ipython",
        "version": 3
      },
      "file_extension": ".py",
      "mimetype": "text/x-python",
      "name": "python",
      "nbconvert_exporter": "python",
      "pygments_lexer": "ipython3",
      "version": "3.5.2"
    },
    "colab": {
      "name": "German-Traffic-Sign-Recognition-v3-VGG16.ipynb",
      "provenance": [],
      "collapsed_sections": []
    },
    "accelerator": "GPU"
  },
  "cells": [
    {
      "cell_type": "code",
      "metadata": {
        "id": "18pFn7sBWVQL",
        "colab_type": "code",
        "colab": {
          "base_uri": "https://localhost:8080/",
          "height": 53
        },
        "outputId": "5e88d352-54e0-49f0-91b7-be4135cfabf3"
      },
      "source": [
        "import keras\n",
        "keras.__version__"
      ],
      "execution_count": null,
      "outputs": [
        {
          "output_type": "stream",
          "text": [
            "Using TensorFlow backend.\n"
          ],
          "name": "stderr"
        },
        {
          "output_type": "execute_result",
          "data": {
            "application/vnd.google.colaboratory.intrinsic+json": {
              "type": "string"
            },
            "text/plain": [
              "'2.3.1'"
            ]
          },
          "metadata": {
            "tags": []
          },
          "execution_count": 1
        }
      ]
    },
    {
      "cell_type": "code",
      "metadata": {
        "id": "jQWml8rVWWFE",
        "colab_type": "code",
        "colab": {
          "base_uri": "https://localhost:8080/",
          "height": 34
        },
        "outputId": "28b736d6-506e-45fc-b83d-62352c0deb66"
      },
      "source": [
        "import tensorflow as tf\n",
        "print(\"GPU Available: \", tf.config.list_physical_devices('GPU'))"
      ],
      "execution_count": null,
      "outputs": [
        {
          "output_type": "stream",
          "text": [
            "GPU Available:  [PhysicalDevice(name='/physical_device:GPU:0', device_type='GPU')]\n"
          ],
          "name": "stdout"
        }
      ]
    },
    {
      "cell_type": "markdown",
      "metadata": {
        "id": "QL_RnTvoWVQR",
        "colab_type": "text"
      },
      "source": [
        "## Downloading the data\n",
        "\n"
      ]
    },
    {
      "cell_type": "markdown",
      "metadata": {
        "id": "7MKAsjKGWVQR",
        "colab_type": "text"
      },
      "source": [
        "Follow these steps to download and prepare the data:\n",
        "1. Download the train dataset file from https://www.kaggle.com/meowmeowmeowmeowmeow/gtsrb-german-traffic-sign? \n",
        "2. Upload it to your Colab environment. After you upload you should be able to see the file by running the `ls` command.\n",
        "3. Unzip it (use the code below)"
      ]
    },
    {
      "cell_type": "code",
      "metadata": {
        "id": "RAt38H4Fmghl",
        "colab_type": "code",
        "colab": {
          "base_uri": "https://localhost:8080/",
          "height": 459
        },
        "outputId": "50dfa441-fec3-4678-bb44-335586614b54"
      },
      "source": [
        "# Use this code to upload the data as a backup\n",
        "FILEID='1p7K1Aw-fZUxha-aLczwZ6Z6cHvu1pEN1'\n",
        "FILENAME='train.zip'\n",
        "!wget --load-cookies /tmp/cookies.txt \"https://docs.google.com/uc?export=download&confirm=$(wget --quiet --save-cookies /tmp/cookies.txt --keep-session-cookies --no-check-certificate 'https://docs.google.com/uc?export=download&id=$FILEID' -O- | sed -rn 's/.*confirm=([0-9A-Za-z_]+).*/\\1\\n/p')&id=$FILEID\" -O $FILENAME && rm -rf /tmp/cookies.txt"
      ],
      "execution_count": null,
      "outputs": [
        {
          "output_type": "stream",
          "text": [
            "--2020-07-24 00:05:43--  https://docs.google.com/uc?export=download&confirm=DIJ2&id=1p7K1Aw-fZUxha-aLczwZ6Z6cHvu1pEN1\n",
            "Resolving docs.google.com (docs.google.com)... 74.125.20.101, 74.125.20.102, 74.125.20.138, ...\n",
            "Connecting to docs.google.com (docs.google.com)|74.125.20.101|:443... connected.\n",
            "HTTP request sent, awaiting response... 302 Moved Temporarily\n",
            "Location: https://doc-00-24-docs.googleusercontent.com/docs/securesc/njcjg437lpc5hol8e8glsqpm4u739buo/aqk0qvj2vsq1knjkk28hnu15au1mjt79/1595549100000/12308918870841825745/14400122945262588673Z/1p7K1Aw-fZUxha-aLczwZ6Z6cHvu1pEN1?e=download [following]\n",
            "--2020-07-24 00:05:43--  https://doc-00-24-docs.googleusercontent.com/docs/securesc/njcjg437lpc5hol8e8glsqpm4u739buo/aqk0qvj2vsq1knjkk28hnu15au1mjt79/1595549100000/12308918870841825745/14400122945262588673Z/1p7K1Aw-fZUxha-aLczwZ6Z6cHvu1pEN1?e=download\n",
            "Resolving doc-00-24-docs.googleusercontent.com (doc-00-24-docs.googleusercontent.com)... 74.125.195.132, 2607:f8b0:400e:c09::84\n",
            "Connecting to doc-00-24-docs.googleusercontent.com (doc-00-24-docs.googleusercontent.com)|74.125.195.132|:443... connected.\n",
            "HTTP request sent, awaiting response... 302 Found\n",
            "Location: https://docs.google.com/nonceSigner?nonce=9s7vh8kpriook&continue=https://doc-00-24-docs.googleusercontent.com/docs/securesc/njcjg437lpc5hol8e8glsqpm4u739buo/aqk0qvj2vsq1knjkk28hnu15au1mjt79/1595549100000/12308918870841825745/14400122945262588673Z/1p7K1Aw-fZUxha-aLczwZ6Z6cHvu1pEN1?e%3Ddownload&hash=jus6329b1btghupuv5m9au2bso53k735 [following]\n",
            "--2020-07-24 00:05:43--  https://docs.google.com/nonceSigner?nonce=9s7vh8kpriook&continue=https://doc-00-24-docs.googleusercontent.com/docs/securesc/njcjg437lpc5hol8e8glsqpm4u739buo/aqk0qvj2vsq1knjkk28hnu15au1mjt79/1595549100000/12308918870841825745/14400122945262588673Z/1p7K1Aw-fZUxha-aLczwZ6Z6cHvu1pEN1?e%3Ddownload&hash=jus6329b1btghupuv5m9au2bso53k735\n",
            "Connecting to docs.google.com (docs.google.com)|74.125.20.101|:443... connected.\n",
            "HTTP request sent, awaiting response... 302 Found\n",
            "Location: https://doc-00-24-docs.googleusercontent.com/docs/securesc/njcjg437lpc5hol8e8glsqpm4u739buo/aqk0qvj2vsq1knjkk28hnu15au1mjt79/1595549100000/12308918870841825745/14400122945262588673Z/1p7K1Aw-fZUxha-aLczwZ6Z6cHvu1pEN1?e=download&nonce=9s7vh8kpriook&user=14400122945262588673Z&hash=31mppa99msrqbvsboepliptgebpdqc7v [following]\n",
            "--2020-07-24 00:05:43--  https://doc-00-24-docs.googleusercontent.com/docs/securesc/njcjg437lpc5hol8e8glsqpm4u739buo/aqk0qvj2vsq1knjkk28hnu15au1mjt79/1595549100000/12308918870841825745/14400122945262588673Z/1p7K1Aw-fZUxha-aLczwZ6Z6cHvu1pEN1?e=download&nonce=9s7vh8kpriook&user=14400122945262588673Z&hash=31mppa99msrqbvsboepliptgebpdqc7v\n",
            "Connecting to doc-00-24-docs.googleusercontent.com (doc-00-24-docs.googleusercontent.com)|74.125.195.132|:443... connected.\n",
            "HTTP request sent, awaiting response... 200 OK\n",
            "Length: unspecified [application/zip]\n",
            "Saving to: ‘train.zip’\n",
            "\n",
            "train.zip               [         <=>        ] 249.52M   118MB/s    in 2.1s    \n",
            "\n",
            "2020-07-24 00:05:46 (118 MB/s) - ‘train.zip’ saved [261637948]\n",
            "\n"
          ],
          "name": "stdout"
        }
      ]
    },
    {
      "cell_type": "code",
      "metadata": {
        "id": "6uyKGqmjZR3G",
        "colab_type": "code",
        "colab": {
          "base_uri": "https://localhost:8080/",
          "height": 70
        },
        "outputId": "672448ef-a14d-4512-c34d-812533818e74"
      },
      "source": [
        "ls -lh"
      ],
      "execution_count": null,
      "outputs": [
        {
          "output_type": "stream",
          "text": [
            "total 250M\n",
            "drwxr-xr-x 1 root root 4.0K Jul 10 16:29 \u001b[0m\u001b[01;34msample_data\u001b[0m/\n",
            "-rw-r--r-- 1 root root 250M Jul 24 00:05 train.zip\n"
          ],
          "name": "stdout"
        }
      ]
    },
    {
      "cell_type": "markdown",
      "metadata": {
        "id": "VWYRS9M6B4PA",
        "colab_type": "text"
      },
      "source": [
        "The dataset size above should be 250M otherwise it wasn't downloaded properly. Try running the download cell again!"
      ]
    },
    {
      "cell_type": "code",
      "metadata": {
        "id": "mAxK5x8xA_Bg",
        "colab_type": "code",
        "colab": {}
      },
      "source": [
        "!unzip -q train.zip -d kaggle_original_data"
      ],
      "execution_count": null,
      "outputs": []
    },
    {
      "cell_type": "code",
      "metadata": {
        "id": "3_95pNVUZa7x",
        "colab_type": "code",
        "colab": {}
      },
      "source": [
        "!rm -r kaggle_original_data/__MACOSX/\n",
        "!mv kaggle_original_data/82373_191501_upload_Train/* kaggle_original_data\n",
        "!rm -r kaggle_original_data/82373_191501_upload_Train"
      ],
      "execution_count": null,
      "outputs": []
    },
    {
      "cell_type": "code",
      "metadata": {
        "id": "DUqNbKrK1pBS",
        "colab_type": "code",
        "colab": {
          "base_uri": "https://localhost:8080/",
          "height": 193
        },
        "outputId": "ba638427-2761-4635-da33-fddd61647316"
      },
      "source": [
        "!ls -l kaggle_original_data | head"
      ],
      "execution_count": null,
      "outputs": [
        {
          "output_type": "stream",
          "text": [
            "total 2044\n",
            "drwxrwxrwx 2 root root  12288 Nov 25  2018 0\n",
            "drwxrwxrwx 2 root root 118784 Nov 25  2018 1\n",
            "drwxrwxrwx 2 root root  98304 Nov 25  2018 10\n",
            "drwxrwxrwx 2 root root  69632 Nov 25  2018 11\n",
            "drwxrwxrwx 2 root root 110592 Nov 25  2018 12\n",
            "drwxrwxrwx 2 root root 110592 Nov 25  2018 13\n",
            "drwxrwxrwx 2 root root  36864 Nov 25  2018 14\n",
            "drwxrwxrwx 2 root root  36864 Nov 25  2018 15\n",
            "drwxrwxrwx 2 root root  20480 Nov 25  2018 16\n"
          ],
          "name": "stdout"
        }
      ]
    },
    {
      "cell_type": "code",
      "metadata": {
        "id": "gEy-j9X_2OUi",
        "colab_type": "code",
        "colab": {}
      },
      "source": [
        "from random import shuffle\n",
        "import os, shutil\n",
        "\n",
        "# list all labels\n",
        "label_dirs = [str(label) for label in range(0,43)]\n",
        "\n",
        "# The path to the directory where the original\n",
        "# dataset was uncompressed\n",
        "original_dataset_dir = '/content/kaggle_original_data'\n",
        "\n",
        "# The directory where we will\n",
        "# store our smaller dataset\n",
        "base_dir = '/content/german_traffic_sign'\n",
        "os.mkdir(base_dir)\n",
        "\n",
        "# Directories for our training,\n",
        "# validation and test splits\n",
        "train_dir = os.path.join(base_dir, 'train')\n",
        "os.mkdir(train_dir)\n",
        "validation_dir = os.path.join(base_dir, 'validation')\n",
        "os.mkdir(validation_dir)\n",
        "test_dir = os.path.join(base_dir, 'test')\n",
        "os.mkdir(test_dir)\n",
        "\n",
        "# Directory with our training/validation/test label pictures\n",
        "for target_dir in [train_dir, validation_dir, test_dir]:\n",
        "    for label in label_dirs:\n",
        "        dir = os.path.join(target_dir, label)\n",
        "        os.mkdir(dir)\n",
        "\n",
        "# Copy 70% of each label to train, 15% to valid, and 15% to test directories\n",
        "for label in label_dirs:\n",
        "    fnames = os.listdir(os.path.join(original_dataset_dir, label))\n",
        "    shuffle(fnames)  # shuffling the list\n",
        "    n_img_start_valid = int(len(fnames)*0.7)\n",
        "    n_img_start_test  = int(len(fnames)*0.85)\n",
        "    for fname in fnames[:n_img_start_valid]:  # train\n",
        "        src = os.path.join(original_dataset_dir, label, fname)\n",
        "        dst = os.path.join(train_dir, label, fname)\n",
        "        shutil.copyfile(src, dst)\n",
        "    for fname in fnames[n_img_start_valid:n_img_start_test]:  # valid\n",
        "        src = os.path.join(original_dataset_dir, label, fname)\n",
        "        dst = os.path.join(validation_dir, label, fname)\n",
        "        shutil.copyfile(src, dst)\n",
        "    for fname in fnames[n_img_start_test:]:  # test\n",
        "        src = os.path.join(original_dataset_dir, label, fname)\n",
        "        dst = os.path.join(test_dir, label, fname)\n",
        "        shutil.copyfile(src, dst)"
      ],
      "execution_count": null,
      "outputs": []
    },
    {
      "cell_type": "markdown",
      "metadata": {
        "id": "lz_EVN0jWVQW",
        "colab_type": "text"
      },
      "source": [
        "As a sanity check, let's count how many pictures we have in each training split (train / validation / test):"
      ]
    },
    {
      "cell_type": "code",
      "metadata": {
        "id": "arkT9J1cCj6S",
        "colab_type": "code",
        "colab": {
          "base_uri": "https://localhost:8080/",
          "height": 773
        },
        "outputId": "3c3aabf9-aab6-42ad-fb80-bd6fcef7c85a"
      },
      "source": [
        "total_train_imgs = 0\n",
        "total_valid_imgs = 0\n",
        "for label in label_dirs:\n",
        "    print('total images for label', label, 'in training:', len(os.listdir(os.path.join(train_dir, label))),\n",
        "                                           'in valid:', len(os.listdir(os.path.join(validation_dir, label))),\n",
        "                                            'in test:', len(os.listdir(os.path.join(test_dir, label))))\n",
        "    total_train_imgs += len(os.listdir(os.path.join(train_dir, label)))\n",
        "    total_valid_imgs += len(os.listdir(os.path.join(validation_dir, label)))"
      ],
      "execution_count": null,
      "outputs": [
        {
          "output_type": "stream",
          "text": [
            "total images for label 0 in training: 147 in valid: 31 in test: 32\n",
            "total images for label 1 in training: 1554 in valid: 333 in test: 333\n",
            "total images for label 2 in training: 1575 in valid: 337 in test: 338\n",
            "total images for label 3 in training: 986 in valid: 212 in test: 212\n",
            "total images for label 4 in training: 1386 in valid: 297 in test: 297\n",
            "total images for label 5 in training: 1302 in valid: 279 in test: 279\n",
            "total images for label 6 in training: 294 in valid: 63 in test: 63\n",
            "total images for label 7 in training: 1007 in valid: 217 in test: 216\n",
            "total images for label 8 in training: 986 in valid: 212 in test: 212\n",
            "total images for label 9 in training: 1029 in valid: 220 in test: 221\n",
            "total images for label 10 in training: 1407 in valid: 301 in test: 302\n",
            "total images for label 11 in training: 923 in valid: 199 in test: 198\n",
            "total images for label 12 in training: 1470 in valid: 315 in test: 315\n",
            "total images for label 13 in training: 1512 in valid: 324 in test: 324\n",
            "total images for label 14 in training: 546 in valid: 117 in test: 117\n",
            "total images for label 15 in training: 441 in valid: 94 in test: 95\n",
            "total images for label 16 in training: 294 in valid: 63 in test: 63\n",
            "total images for label 17 in training: 777 in valid: 166 in test: 167\n",
            "total images for label 18 in training: 840 in valid: 180 in test: 180\n",
            "total images for label 19 in training: 147 in valid: 31 in test: 32\n",
            "total images for label 20 in training: 251 in valid: 55 in test: 54\n",
            "total images for label 21 in training: 230 in valid: 50 in test: 50\n",
            "total images for label 22 in training: 273 in valid: 58 in test: 59\n",
            "total images for label 23 in training: 357 in valid: 76 in test: 77\n",
            "total images for label 24 in training: 189 in valid: 40 in test: 41\n",
            "total images for label 25 in training: 1050 in valid: 225 in test: 225\n",
            "total images for label 26 in training: 420 in valid: 90 in test: 90\n",
            "total images for label 27 in training: 168 in valid: 36 in test: 36\n",
            "total images for label 28 in training: 378 in valid: 81 in test: 81\n",
            "total images for label 29 in training: 189 in valid: 40 in test: 41\n",
            "total images for label 30 in training: 315 in valid: 67 in test: 68\n",
            "total images for label 31 in training: 546 in valid: 117 in test: 117\n",
            "total images for label 32 in training: 168 in valid: 36 in test: 36\n",
            "total images for label 33 in training: 482 in valid: 103 in test: 104\n",
            "total images for label 34 in training: 294 in valid: 63 in test: 63\n",
            "total images for label 35 in training: 840 in valid: 180 in test: 180\n",
            "total images for label 36 in training: 273 in valid: 58 in test: 59\n",
            "total images for label 37 in training: 147 in valid: 31 in test: 32\n",
            "total images for label 38 in training: 1449 in valid: 310 in test: 311\n",
            "total images for label 39 in training: 210 in valid: 45 in test: 45\n",
            "total images for label 40 in training: 251 in valid: 55 in test: 54\n",
            "total images for label 41 in training: 168 in valid: 36 in test: 36\n",
            "total images for label 42 in training: 168 in valid: 36 in test: 36\n"
          ],
          "name": "stdout"
        }
      ]
    },
    {
      "cell_type": "code",
      "metadata": {
        "id": "u6OM__a-HEtN",
        "colab_type": "code",
        "colab": {
          "base_uri": "https://localhost:8080/",
          "height": 52
        },
        "outputId": "4634c731-662a-4216-b2da-9ca618fb9d2a"
      },
      "source": [
        "print('Total number of training images:', total_train_imgs)\n",
        "print('Total number of validation images:', total_valid_imgs)"
      ],
      "execution_count": null,
      "outputs": [
        {
          "output_type": "stream",
          "text": [
            "Total number of training images: 27439\n",
            "Total number of validation images: 5879\n"
          ],
          "name": "stdout"
        }
      ]
    },
    {
      "cell_type": "markdown",
      "metadata": {
        "id": "nILJEVrsWVQj",
        "colab_type": "text"
      },
      "source": [
        "## Building our network\n",
        "\n",
        "We've already built a small convnet for MNIST in the previous example, so you should be familiar with them. We will reuse the same \n",
        "general structure: our convnet will be a stack of alternated `Conv2D` (with `relu` activation) and `MaxPooling2D` layers.\n",
        "\n",
        "However, since we are dealing with bigger images and a more complex problem, we will make our network accordingly larger: it will have one \n",
        "more `Conv2D` + `MaxPooling2D` stage. This serves both to augment the capacity of the network, and to further reduce the size of the \n",
        "feature maps, so that they aren't overly large when we reach the `Flatten` layer. Here, since we start from inputs of size 150x150 (a \n",
        "somewhat arbitrary choice), we end up with feature maps of size 7x7 right before the `Flatten` layer.\n",
        "\n",
        "Note that the depth of the feature maps is progressively increasing in the network (from 32 to 128), while the size of the feature maps is \n",
        "decreasing (from 148x148 to 7x7). This is a pattern that you will see in almost all convnets.\n",
        "\n",
        "Since we are attacking a binary classification problem, we are ending the network with a single unit (a `Dense` layer of size 43) and a \n",
        "`softmax` activation. This unit will encode the probability that the network is looking at one class or the other."
      ]
    },
    {
      "cell_type": "code",
      "metadata": {
        "id": "FcicBb0OjJHY",
        "colab_type": "code",
        "colab": {
          "base_uri": "https://localhost:8080/",
          "height": 72
        },
        "outputId": "155d3584-aa7b-40fd-9d75-a7e12edace2f"
      },
      "source": [
        "from keras.applications import VGG16\n",
        "\n",
        "conv_base = VGG16(weights='imagenet',\n",
        "                  include_top=False,\n",
        "                  input_shape=(50, 50, 3))\n",
        "from keras import models\n",
        "from keras import layers\n",
        "\n",
        "model = models.Sequential()\n",
        "model.add(conv_base)\n",
        "model.add(layers.Flatten())\n",
        "model.add(layers.Dense(128, activation='relu'))\n",
        "model.add(layers.Dense(43, activation='softmax'))\n",
        "\n",
        "conv_base.trainable = False"
      ],
      "execution_count": null,
      "outputs": [
        {
          "output_type": "stream",
          "text": [
            "Downloading data from https://github.com/fchollet/deep-learning-models/releases/download/v0.1/vgg16_weights_tf_dim_ordering_tf_kernels_notop.h5\n",
            "58892288/58889256 [==============================] - 2s 0us/step\n"
          ],
          "name": "stdout"
        }
      ]
    },
    {
      "cell_type": "code",
      "metadata": {
        "id": "k9zCkX6YjJ_8",
        "colab_type": "code",
        "colab": {
          "base_uri": "https://localhost:8080/",
          "height": 1000
        },
        "outputId": "967e4af2-baff-4bd0-ffa2-49e567876a10"
      },
      "source": [
        "from keras.preprocessing.image import ImageDataGenerator\n",
        "\n",
        "train_datagen = ImageDataGenerator(rescale=1./255)\n",
        "\n",
        "test_datagen = ImageDataGenerator(rescale=1./255)\n",
        "\n",
        "train_generator = train_datagen.flow_from_directory(\n",
        "        # This is the target directory\n",
        "        train_dir,\n",
        "        # All images will be resized to 150x150\n",
        "        target_size=(50, 50),\n",
        "        batch_size=100,\n",
        "        # Since we use binary_crossentropy loss, we need binary labels\n",
        "        class_mode='categorical')\n",
        "\n",
        "validation_generator = test_datagen.flow_from_directory(\n",
        "        validation_dir,\n",
        "        target_size=(50, 50),\n",
        "        batch_size=100,\n",
        "        class_mode='categorical')\n",
        "\n",
        "model.compile(loss='categorical_crossentropy',\n",
        "              optimizer='rmsprop',\n",
        "              metrics=['acc'])\n",
        "\n",
        "history = model.fit_generator(\n",
        "      train_generator,\n",
        "      steps_per_epoch=100,\n",
        "      epochs=30,\n",
        "      validation_data=validation_generator,\n",
        "      validation_steps=50,\n",
        "      verbose=2)"
      ],
      "execution_count": null,
      "outputs": [
        {
          "output_type": "stream",
          "text": [
            "Found 27439 images belonging to 43 classes.\n",
            "Found 5879 images belonging to 43 classes.\n",
            "Epoch 1/30\n",
            " - 12s - loss: 2.5925 - acc: 0.3107 - val_loss: 1.9614 - val_acc: 0.4062\n",
            "Epoch 2/30\n",
            " - 6s - loss: 1.8835 - acc: 0.4466 - val_loss: 1.5161 - val_acc: 0.4880\n",
            "Epoch 3/30\n",
            " - 6s - loss: 1.6425 - acc: 0.5149 - val_loss: 1.3803 - val_acc: 0.5200\n",
            "Epoch 4/30\n",
            " - 6s - loss: 1.5082 - acc: 0.5436 - val_loss: 1.4360 - val_acc: 0.5668\n",
            "Epoch 5/30\n",
            " - 6s - loss: 1.3878 - acc: 0.5799 - val_loss: 1.2861 - val_acc: 0.5843\n",
            "Epoch 6/30\n",
            " - 6s - loss: 1.3043 - acc: 0.5955 - val_loss: 1.1372 - val_acc: 0.6057\n",
            "Epoch 7/30\n",
            " - 6s - loss: 1.2350 - acc: 0.6230 - val_loss: 1.2631 - val_acc: 0.6336\n",
            "Epoch 8/30\n",
            " - 6s - loss: 1.1860 - acc: 0.6358 - val_loss: 1.0076 - val_acc: 0.6258\n",
            "Epoch 9/30\n",
            " - 6s - loss: 1.1383 - acc: 0.6459 - val_loss: 1.2419 - val_acc: 0.6576\n",
            "Epoch 10/30\n",
            " - 6s - loss: 1.0821 - acc: 0.6669 - val_loss: 1.1952 - val_acc: 0.6614\n",
            "Epoch 11/30\n",
            " - 6s - loss: 1.0476 - acc: 0.6807 - val_loss: 1.2219 - val_acc: 0.6650\n",
            "Epoch 12/30\n",
            " - 6s - loss: 1.0141 - acc: 0.6895 - val_loss: 1.1863 - val_acc: 0.6778\n",
            "Epoch 13/30\n",
            " - 6s - loss: 0.9813 - acc: 0.6967 - val_loss: 1.1452 - val_acc: 0.6833\n",
            "Epoch 14/30\n",
            " - 6s - loss: 0.9411 - acc: 0.7118 - val_loss: 1.2541 - val_acc: 0.6786\n",
            "Epoch 15/30\n",
            " - 6s - loss: 0.9184 - acc: 0.7180 - val_loss: 0.8618 - val_acc: 0.7070\n",
            "Epoch 16/30\n",
            " - 6s - loss: 0.9013 - acc: 0.7270 - val_loss: 0.9496 - val_acc: 0.7023\n",
            "Epoch 17/30\n",
            " - 6s - loss: 0.8736 - acc: 0.7265 - val_loss: 0.9666 - val_acc: 0.7084\n",
            "Epoch 18/30\n",
            " - 6s - loss: 0.8372 - acc: 0.7392 - val_loss: 0.8686 - val_acc: 0.7321\n",
            "Epoch 19/30\n",
            " - 6s - loss: 0.8312 - acc: 0.7407 - val_loss: 0.9340 - val_acc: 0.7176\n",
            "Epoch 20/30\n",
            " - 6s - loss: 0.8089 - acc: 0.7523 - val_loss: 0.8861 - val_acc: 0.7258\n",
            "Epoch 21/30\n",
            " - 6s - loss: 0.7950 - acc: 0.7572 - val_loss: 0.7667 - val_acc: 0.7363\n",
            "Epoch 22/30\n",
            " - 6s - loss: 0.7841 - acc: 0.7544 - val_loss: 0.8191 - val_acc: 0.7461\n",
            "Epoch 23/30\n",
            " - 6s - loss: 0.7513 - acc: 0.7724 - val_loss: 0.9166 - val_acc: 0.7479\n",
            "Epoch 24/30\n",
            " - 6s - loss: 0.7479 - acc: 0.7702 - val_loss: 0.8335 - val_acc: 0.7479\n",
            "Epoch 25/30\n",
            " - 6s - loss: 0.7159 - acc: 0.7754 - val_loss: 0.9423 - val_acc: 0.7524\n",
            "Epoch 26/30\n",
            " - 6s - loss: 0.6966 - acc: 0.7866 - val_loss: 0.7615 - val_acc: 0.7441\n",
            "Epoch 27/30\n",
            " - 6s - loss: 0.7070 - acc: 0.7794 - val_loss: 0.8583 - val_acc: 0.7478\n",
            "Epoch 28/30\n",
            " - 6s - loss: 0.6881 - acc: 0.7887 - val_loss: 0.8031 - val_acc: 0.7652\n",
            "Epoch 29/30\n",
            " - 6s - loss: 0.6716 - acc: 0.7907 - val_loss: 0.6756 - val_acc: 0.7708\n",
            "Epoch 30/30\n",
            " - 6s - loss: 0.6740 - acc: 0.7916 - val_loss: 0.7157 - val_acc: 0.7686\n"
          ],
          "name": "stdout"
        }
      ]
    },
    {
      "cell_type": "code",
      "metadata": {
        "id": "lhmRf8V-dyMj",
        "colab_type": "code",
        "colab": {
          "base_uri": "https://localhost:8080/",
          "height": 545
        },
        "outputId": "481bb4ca-cb2e-400c-a83c-a519c9ac49b2"
      },
      "source": [
        "import matplotlib.pyplot as plt\n",
        "\n",
        "acc = history.history['acc']\n",
        "val_acc = history.history['val_acc']\n",
        "loss = history.history['loss']\n",
        "val_loss = history.history['val_loss']\n",
        "\n",
        "epochs = range(len(acc))\n",
        "\n",
        "plt.plot(epochs, acc, 'bo', label='Training acc')\n",
        "plt.plot(epochs, val_acc, 'b', label='Validation acc')\n",
        "plt.title('Training and Validation accuracy')\n",
        "plt.legend() \n",
        "\n",
        "plt.figure()\n",
        "\n",
        "plt.plot(epochs, loss, 'bo', label='Training loss')\n",
        "plt.plot(epochs, val_loss, 'b', label='Validation loss')\n",
        "plt.title('Training and validation loss')\n",
        "plt.legend()\n",
        "\n",
        "plt.show()"
      ],
      "execution_count": null,
      "outputs": [
        {
          "output_type": "display_data",
          "data": {
            "image/png": "[encoded data removed]",
            "text/plain": [
              "<Figure size 432x288 with 1 Axes>"
            ]
          },
          "metadata": {
            "tags": [],
            "needs_background": "light"
          }
        },
        {
          "output_type": "display_data",
          "data": {
            "image/png": "[encoded data removed]",
            "text/plain": [
              "<Figure size 432x288 with 1 Axes>"
            ]
          },
          "metadata": {
            "tags": [],
            "needs_background": "light"
          }
        }
      ]
    },
    {
      "cell_type": "code",
      "metadata": {
        "id": "qPl7L4tbdtpf",
        "colab_type": "code",
        "colab": {
          "base_uri": "https://localhost:8080/",
          "height": 52
        },
        "outputId": "512a5adb-cabe-49f8-a878-79363122e54a"
      },
      "source": [
        "test_datagen = ImageDataGenerator(rescale=1./255)\n",
        "\n",
        "test_generator = train_datagen.flow_from_directory(test_dir, \n",
        "                                                    target_size = (50, 50),\n",
        "                                                    batch_size = 20,\n",
        "                                                    class_mode = 'categorical') \n",
        "test_loss, test_acc=model.evaluate_generator(test_generator, steps=294) #5879/20\n",
        "print('test accururacy:', test_acc)"
      ],
      "execution_count": null,
      "outputs": [
        {
          "output_type": "stream",
          "text": [
            "Found 5891 images belonging to 43 classes.\n",
            "test accururacy: 0.7651360630989075\n"
          ],
          "name": "stdout"
        }
      ]
    }
  ]
}