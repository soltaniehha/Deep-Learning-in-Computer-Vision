{
  "nbformat": 4,
  "nbformat_minor": 0,
  "metadata": {
    "kernelspec": {
      "display_name": "Python 3",
      "language": "python",
      "name": "python3"
    },
    "language_info": {
      "codemirror_mode": {
        "name": "ipython",
        "version": 3
      },
      "file_extension": ".py",
      "mimetype": "text/x-python",
      "name": "python",
      "nbconvert_exporter": "python",
      "pygments_lexer": "ipython3",
      "version": "3.5.2"
    },
    "colab": {
      "name": "German-Traffic-Sign-Recognition-v1.ipynb",
      "provenance": [],
      "collapsed_sections": []
    },
    "accelerator": "GPU"
  },
  "cells": [
    {
      "cell_type": "code",
      "metadata": {
        "id": "18pFn7sBWVQL",
        "colab_type": "code",
        "colab": {
          "base_uri": "https://localhost:8080/",
          "height": 52
        },
        "outputId": "bc62ea69-0ea3-49ed-8c13-902c176abba6"
      },
      "source": [
        "import keras\n",
        "keras.__version__"
      ],
      "execution_count": null,
      "outputs": [
        {
          "output_type": "stream",
          "text": [
            "Using TensorFlow backend.\n"
          ],
          "name": "stderr"
        },
        {
          "output_type": "execute_result",
          "data": {
            "application/vnd.google.colaboratory.intrinsic+json": {
              "type": "string"
            },
            "text/plain": [
              "'2.3.1'"
            ]
          },
          "metadata": {
            "tags": []
          },
          "execution_count": 1
        }
      ]
    },
    {
      "cell_type": "code",
      "metadata": {
        "id": "jQWml8rVWWFE",
        "colab_type": "code",
        "colab": {
          "base_uri": "https://localhost:8080/",
          "height": 34
        },
        "outputId": "1346fec5-74a4-45c2-b954-abf6be747058"
      },
      "source": [
        "import tensorflow as tf\n",
        "print(\"GPU Available: \", tf.config.list_physical_devices('GPU'))"
      ],
      "execution_count": null,
      "outputs": [
        {
          "output_type": "stream",
          "text": [
            "GPU Available:  [PhysicalDevice(name='/physical_device:GPU:0', device_type='GPU')]\n"
          ],
          "name": "stdout"
        }
      ]
    },
    {
      "cell_type": "markdown",
      "metadata": {
        "id": "QL_RnTvoWVQR",
        "colab_type": "text"
      },
      "source": [
        "## Downloading the data\n",
        "\n"
      ]
    },
    {
      "cell_type": "markdown",
      "metadata": {
        "id": "7MKAsjKGWVQR",
        "colab_type": "text"
      },
      "source": [
        "Follow these steps to download and prepare the data:\n",
        "1. Download the train dataset file from https://www.kaggle.com/meowmeowmeowmeowmeow/gtsrb-german-traffic-sign? \n",
        "2. Upload it to your Colab environment. After you upload you should be able to see the file by running the `ls` command.\n",
        "3. Unzip it (use the code below)"
      ]
    },
    {
      "cell_type": "code",
      "metadata": {
        "id": "RAt38H4Fmghl",
        "colab_type": "code",
        "colab": {
          "base_uri": "https://localhost:8080/",
          "height": 440
        },
        "outputId": "5251b128-5f8f-423a-c0a6-7eac749b6f66"
      },
      "source": [
        "# Use this code to upload the data as a backup\n",
        "FILEID='1p7K1Aw-fZUxha-aLczwZ6Z6cHvu1pEN1'\n",
        "FILENAME='train.zip'\n",
        "!wget --load-cookies /tmp/cookies.txt \"https://docs.google.com/uc?export=download&confirm=$(wget --quiet --save-cookies /tmp/cookies.txt --keep-session-cookies --no-check-certificate 'https://docs.google.com/uc?export=download&id=$FILEID' -O- | sed -rn 's/.*confirm=([0-9A-Za-z_]+).*/\\1\\n/p')&id=$FILEID\" -O $FILENAME && rm -rf /tmp/cookies.txt"
      ],
      "execution_count": null,
      "outputs": [
        {
          "output_type": "stream",
          "text": [
            "--2020-07-23 02:19:59--  https://docs.google.com/uc?export=download&confirm=vrR3&id=1p7K1Aw-fZUxha-aLczwZ6Z6cHvu1pEN1\n",
            "Resolving docs.google.com (docs.google.com)... 108.177.127.113, 108.177.127.102, 108.177.127.139, ...\n",
            "Connecting to docs.google.com (docs.google.com)|108.177.127.113|:443... connected.\n",
            "HTTP request sent, awaiting response... 302 Moved Temporarily\n",
            "Location: https://doc-0o-2c-docs.googleusercontent.com/docs/securesc/8u4g6f47pjm5j5asur89kh399h04t288/9grg3rfrm0j0o0uafarjjqfb4rv62de3/1595470725000/12308918870841825745/05788509776205416375Z/1p7K1Aw-fZUxha-aLczwZ6Z6cHvu1pEN1?e=download [following]\n",
            "--2020-07-23 02:19:59--  https://doc-0o-2c-docs.googleusercontent.com/docs/securesc/8u4g6f47pjm5j5asur89kh399h04t288/9grg3rfrm0j0o0uafarjjqfb4rv62de3/1595470725000/12308918870841825745/05788509776205416375Z/1p7K1Aw-fZUxha-aLczwZ6Z6cHvu1pEN1?e=download\n",
            "Resolving doc-0o-2c-docs.googleusercontent.com (doc-0o-2c-docs.googleusercontent.com)... 108.177.96.132, 2a00:1450:4013:c06::84\n",
            "Connecting to doc-0o-2c-docs.googleusercontent.com (doc-0o-2c-docs.googleusercontent.com)|108.177.96.132|:443... connected.\n",
            "HTTP request sent, awaiting response... 302 Found\n",
            "Location: https://docs.google.com/nonceSigner?nonce=unfdj71q13meg&continue=https://doc-0o-2c-docs.googleusercontent.com/docs/securesc/8u4g6f47pjm5j5asur89kh399h04t288/9grg3rfrm0j0o0uafarjjqfb4rv62de3/1595470725000/12308918870841825745/05788509776205416375Z/1p7K1Aw-fZUxha-aLczwZ6Z6cHvu1pEN1?e%3Ddownload&hash=v42n8075cohhhfvfplkrueodj80tfkfm [following]\n",
            "--2020-07-23 02:19:59--  https://docs.google.com/nonceSigner?nonce=unfdj71q13meg&continue=https://doc-0o-2c-docs.googleusercontent.com/docs/securesc/8u4g6f47pjm5j5asur89kh399h04t288/9grg3rfrm0j0o0uafarjjqfb4rv62de3/1595470725000/12308918870841825745/05788509776205416375Z/1p7K1Aw-fZUxha-aLczwZ6Z6cHvu1pEN1?e%3Ddownload&hash=v42n8075cohhhfvfplkrueodj80tfkfm\n",
            "Connecting to docs.google.com (docs.google.com)|108.177.127.113|:443... connected.\n",
            "HTTP request sent, awaiting response... 302 Found\n",
            "Location: https://doc-0o-2c-docs.googleusercontent.com/docs/securesc/8u4g6f47pjm5j5asur89kh399h04t288/9grg3rfrm0j0o0uafarjjqfb4rv62de3/1595470725000/12308918870841825745/05788509776205416375Z/1p7K1Aw-fZUxha-aLczwZ6Z6cHvu1pEN1?e=download&nonce=unfdj71q13meg&user=05788509776205416375Z&hash=ncq691tbap8qvj981ang871ebt3pb9bo [following]\n",
            "--2020-07-23 02:20:00--  https://doc-0o-2c-docs.googleusercontent.com/docs/securesc/8u4g6f47pjm5j5asur89kh399h04t288/9grg3rfrm0j0o0uafarjjqfb4rv62de3/1595470725000/12308918870841825745/05788509776205416375Z/1p7K1Aw-fZUxha-aLczwZ6Z6cHvu1pEN1?e=download&nonce=unfdj71q13meg&user=05788509776205416375Z&hash=ncq691tbap8qvj981ang871ebt3pb9bo\n",
            "Connecting to doc-0o-2c-docs.googleusercontent.com (doc-0o-2c-docs.googleusercontent.com)|108.177.96.132|:443... connected.\n",
            "HTTP request sent, awaiting response... 200 OK\n",
            "Length: unspecified [application/zip]\n",
            "Saving to: ‘train.zip’\n",
            "\n",
            "train.zip               [        <=>         ] 249.52M   145MB/s    in 1.7s    \n",
            "\n",
            "2020-07-23 02:20:02 (145 MB/s) - ‘train.zip’ saved [261637948]\n",
            "\n"
          ],
          "name": "stdout"
        }
      ]
    },
    {
      "cell_type": "code",
      "metadata": {
        "id": "6uyKGqmjZR3G",
        "colab_type": "code",
        "colab": {
          "base_uri": "https://localhost:8080/",
          "height": 67
        },
        "outputId": "a59920fa-4d19-46fe-f338-7cf05c3a03a9"
      },
      "source": [
        "ls -lh"
      ],
      "execution_count": null,
      "outputs": [
        {
          "output_type": "stream",
          "text": [
            "total 250M\n",
            "drwxr-xr-x 1 root root 4.0K Jul 10 16:29 \u001b[0m\u001b[01;34msample_data\u001b[0m/\n",
            "-rw-r--r-- 1 root root 250M Jul 23 02:20 train.zip\n"
          ],
          "name": "stdout"
        }
      ]
    },
    {
      "cell_type": "markdown",
      "metadata": {
        "id": "VWYRS9M6B4PA",
        "colab_type": "text"
      },
      "source": [
        "The dataset size above should be 250M otherwise it wasn't downloaded properly. Try running the download cell again!"
      ]
    },
    {
      "cell_type": "code",
      "metadata": {
        "id": "mAxK5x8xA_Bg",
        "colab_type": "code",
        "colab": {}
      },
      "source": [
        "!unzip -q train.zip -d kaggle_original_data"
      ],
      "execution_count": null,
      "outputs": []
    },
    {
      "cell_type": "code",
      "metadata": {
        "id": "3_95pNVUZa7x",
        "colab_type": "code",
        "colab": {}
      },
      "source": [
        "!rm -r kaggle_original_data/__MACOSX/\n",
        "!mv kaggle_original_data/82373_191501_upload_Train/* kaggle_original_data\n",
        "!rm -r kaggle_original_data/82373_191501_upload_Train"
      ],
      "execution_count": null,
      "outputs": []
    },
    {
      "cell_type": "code",
      "metadata": {
        "id": "DUqNbKrK1pBS",
        "colab_type": "code",
        "colab": {
          "base_uri": "https://localhost:8080/",
          "height": 185
        },
        "outputId": "886d250f-5fdb-4b07-c6e6-d41bea60987a"
      },
      "source": [
        "!ls -l kaggle_original_data | head"
      ],
      "execution_count": null,
      "outputs": [
        {
          "output_type": "stream",
          "text": [
            "total 2044\n",
            "drwxrwxrwx 2 root root  12288 Nov 25  2018 0\n",
            "drwxrwxrwx 2 root root 118784 Nov 25  2018 1\n",
            "drwxrwxrwx 2 root root  98304 Nov 25  2018 10\n",
            "drwxrwxrwx 2 root root  69632 Nov 25  2018 11\n",
            "drwxrwxrwx 2 root root 110592 Nov 25  2018 12\n",
            "drwxrwxrwx 2 root root 110592 Nov 25  2018 13\n",
            "drwxrwxrwx 2 root root  36864 Nov 25  2018 14\n",
            "drwxrwxrwx 2 root root  36864 Nov 25  2018 15\n",
            "drwxrwxrwx 2 root root  20480 Nov 25  2018 16\n"
          ],
          "name": "stdout"
        }
      ]
    },
    {
      "cell_type": "code",
      "metadata": {
        "id": "gEy-j9X_2OUi",
        "colab_type": "code",
        "colab": {}
      },
      "source": [
        "from random import shuffle\n",
        "import os, shutil\n",
        "\n",
        "# list all labels\n",
        "label_dirs = [str(label) for label in range(0,43)]\n",
        "\n",
        "# The path to the directory where the original\n",
        "# dataset was uncompressed\n",
        "original_dataset_dir = '/content/kaggle_original_data'\n",
        "\n",
        "# The directory where we will\n",
        "# store our smaller dataset\n",
        "base_dir = '/content/german_traffic_sign'\n",
        "os.mkdir(base_dir)\n",
        "\n",
        "# Directories for our training,\n",
        "# validation and test splits\n",
        "train_dir = os.path.join(base_dir, 'train')\n",
        "os.mkdir(train_dir)\n",
        "validation_dir = os.path.join(base_dir, 'validation')\n",
        "os.mkdir(validation_dir)\n",
        "test_dir = os.path.join(base_dir, 'test')\n",
        "os.mkdir(test_dir)\n",
        "\n",
        "# Directory with our training/validation/test label pictures\n",
        "for target_dir in [train_dir, validation_dir, test_dir]:\n",
        "    for label in label_dirs:\n",
        "        dir = os.path.join(target_dir, label)\n",
        "        os.mkdir(dir)\n",
        "\n",
        "# Copy 70% of each label to train, 15% to valid, and 15% to test directories\n",
        "for label in label_dirs:\n",
        "    fnames = os.listdir(os.path.join(original_dataset_dir, label))\n",
        "    shuffle(fnames)  # shuffling the list\n",
        "    n_img_start_valid = int(len(fnames)*0.7)\n",
        "    n_img_start_test  = int(len(fnames)*0.85)\n",
        "    for fname in fnames[:n_img_start_valid]:  # train\n",
        "        src = os.path.join(original_dataset_dir, label, fname)\n",
        "        dst = os.path.join(train_dir, label, fname)\n",
        "        shutil.copyfile(src, dst)\n",
        "    for fname in fnames[n_img_start_valid:n_img_start_test]:  # valid\n",
        "        src = os.path.join(original_dataset_dir, label, fname)\n",
        "        dst = os.path.join(validation_dir, label, fname)\n",
        "        shutil.copyfile(src, dst)\n",
        "    for fname in fnames[n_img_start_test:]:  # test\n",
        "        src = os.path.join(original_dataset_dir, label, fname)\n",
        "        dst = os.path.join(test_dir, label, fname)\n",
        "        shutil.copyfile(src, dst)"
      ],
      "execution_count": null,
      "outputs": []
    },
    {
      "cell_type": "markdown",
      "metadata": {
        "id": "lz_EVN0jWVQW",
        "colab_type": "text"
      },
      "source": [
        "As a sanity check, let's count how many pictures we have in each training split (train / validation / test):"
      ]
    },
    {
      "cell_type": "code",
      "metadata": {
        "id": "arkT9J1cCj6S",
        "colab_type": "code",
        "colab": {
          "base_uri": "https://localhost:8080/",
          "height": 739
        },
        "outputId": "b8eb710b-e252-40d1-e2a0-33a5b7f2c145"
      },
      "source": [
        "total_train_imgs = 0\n",
        "total_valid_imgs = 0\n",
        "for label in label_dirs:\n",
        "    print('total images for label', label, 'in training:', len(os.listdir(os.path.join(train_dir, label))),\n",
        "                                           'in valid:', len(os.listdir(os.path.join(validation_dir, label))),\n",
        "                                            'in test:', len(os.listdir(os.path.join(test_dir, label))))\n",
        "    total_train_imgs += len(os.listdir(os.path.join(train_dir, label)))\n",
        "    total_valid_imgs += len(os.listdir(os.path.join(validation_dir, label)))"
      ],
      "execution_count": null,
      "outputs": [
        {
          "output_type": "stream",
          "text": [
            "total images for label 0 in training: 147 in valid: 31 in test: 32\n",
            "total images for label 1 in training: 1554 in valid: 333 in test: 333\n",
            "total images for label 2 in training: 1575 in valid: 337 in test: 338\n",
            "total images for label 3 in training: 986 in valid: 212 in test: 212\n",
            "total images for label 4 in training: 1386 in valid: 297 in test: 297\n",
            "total images for label 5 in training: 1302 in valid: 279 in test: 279\n",
            "total images for label 6 in training: 294 in valid: 63 in test: 63\n",
            "total images for label 7 in training: 1007 in valid: 217 in test: 216\n",
            "total images for label 8 in training: 986 in valid: 212 in test: 212\n",
            "total images for label 9 in training: 1029 in valid: 220 in test: 221\n",
            "total images for label 10 in training: 1407 in valid: 301 in test: 302\n",
            "total images for label 11 in training: 923 in valid: 199 in test: 198\n",
            "total images for label 12 in training: 1470 in valid: 315 in test: 315\n",
            "total images for label 13 in training: 1512 in valid: 324 in test: 324\n",
            "total images for label 14 in training: 546 in valid: 117 in test: 117\n",
            "total images for label 15 in training: 441 in valid: 94 in test: 95\n",
            "total images for label 16 in training: 294 in valid: 63 in test: 63\n",
            "total images for label 17 in training: 777 in valid: 166 in test: 167\n",
            "total images for label 18 in training: 840 in valid: 180 in test: 180\n",
            "total images for label 19 in training: 147 in valid: 31 in test: 32\n",
            "total images for label 20 in training: 251 in valid: 55 in test: 54\n",
            "total images for label 21 in training: 230 in valid: 50 in test: 50\n",
            "total images for label 22 in training: 273 in valid: 58 in test: 59\n",
            "total images for label 23 in training: 357 in valid: 76 in test: 77\n",
            "total images for label 24 in training: 189 in valid: 40 in test: 41\n",
            "total images for label 25 in training: 1050 in valid: 225 in test: 225\n",
            "total images for label 26 in training: 420 in valid: 90 in test: 90\n",
            "total images for label 27 in training: 168 in valid: 36 in test: 36\n",
            "total images for label 28 in training: 378 in valid: 81 in test: 81\n",
            "total images for label 29 in training: 189 in valid: 40 in test: 41\n",
            "total images for label 30 in training: 315 in valid: 67 in test: 68\n",
            "total images for label 31 in training: 546 in valid: 117 in test: 117\n",
            "total images for label 32 in training: 168 in valid: 36 in test: 36\n",
            "total images for label 33 in training: 482 in valid: 103 in test: 104\n",
            "total images for label 34 in training: 294 in valid: 63 in test: 63\n",
            "total images for label 35 in training: 840 in valid: 180 in test: 180\n",
            "total images for label 36 in training: 273 in valid: 58 in test: 59\n",
            "total images for label 37 in training: 147 in valid: 31 in test: 32\n",
            "total images for label 38 in training: 1449 in valid: 310 in test: 311\n",
            "total images for label 39 in training: 210 in valid: 45 in test: 45\n",
            "total images for label 40 in training: 251 in valid: 55 in test: 54\n",
            "total images for label 41 in training: 168 in valid: 36 in test: 36\n",
            "total images for label 42 in training: 168 in valid: 36 in test: 36\n"
          ],
          "name": "stdout"
        }
      ]
    },
    {
      "cell_type": "code",
      "metadata": {
        "id": "u6OM__a-HEtN",
        "colab_type": "code",
        "colab": {
          "base_uri": "https://localhost:8080/",
          "height": 50
        },
        "outputId": "0bf2100c-5f35-4287-f507-a2f5c3c2fdc7"
      },
      "source": [
        "print('Total number of training images:', total_train_imgs)\n",
        "print('Total number of validation images:', total_valid_imgs)"
      ],
      "execution_count": null,
      "outputs": [
        {
          "output_type": "stream",
          "text": [
            "Total number of training images: 27439\n",
            "Total number of validation images: 5879\n"
          ],
          "name": "stdout"
        }
      ]
    },
    {
      "cell_type": "markdown",
      "metadata": {
        "id": "nILJEVrsWVQj",
        "colab_type": "text"
      },
      "source": [
        "## Building our network\n",
        "\n",
        "We've already built a small convnet for MNIST in the previous example, so you should be familiar with them. We will reuse the same \n",
        "general structure: our convnet will be a stack of alternated `Conv2D` (with `relu` activation) and `MaxPooling2D` layers.\n",
        "\n",
        "However, since we are dealing with bigger images and a more complex problem, we will make our network accordingly larger: it will have one \n",
        "more `Conv2D` + `MaxPooling2D` stage. This serves both to augment the capacity of the network, and to further reduce the size of the \n",
        "feature maps, so that they aren't overly large when we reach the `Flatten` layer. Here, since we start from inputs of size 150x150 (a \n",
        "somewhat arbitrary choice), we end up with feature maps of size 7x7 right before the `Flatten` layer.\n",
        "\n",
        "Note that the depth of the feature maps is progressively increasing in the network (from 32 to 128), while the size of the feature maps is \n",
        "decreasing (from 148x148 to 7x7). This is a pattern that you will see in almost all convnets.\n",
        "\n",
        "Since we are attacking a binary classification problem, we are ending the network with a single unit (a `Dense` layer of size 43) and a \n",
        "`softmax` activation. This unit will encode the probability that the network is looking at one class or the other."
      ]
    },
    {
      "cell_type": "code",
      "metadata": {
        "id": "iI8EzaelCxs9",
        "colab_type": "code",
        "colab": {}
      },
      "source": [
        "from keras import models\n",
        "from keras import layers\n",
        "\n",
        "model = models.Sequential()\n",
        "model.add(layers.Conv2D(32, (3, 3), activation='relu', input_shape=(50, 50, 3)))\n",
        "model.add(layers.MaxPooling2D((2, 2)))\n",
        "model.add(layers.Conv2D(64, (3,3), activation='relu'))\n",
        "model.add(layers.MaxPooling2D((2, 2)))\n",
        "model.add(layers.Conv2D(128, (3,3), activation='relu'))\n",
        "model.add(layers.MaxPooling2D((2, 2)))\n",
        "model.add(layers.Conv2D(128, (3,3), activation='relu'))\n",
        "model.add(layers.MaxPooling2D((2, 2)))\n",
        "model.add(layers.Flatten())\n",
        "model.add(layers.Dropout(0.5))\n",
        "model.add(layers.Dense(128, activation='relu'))\n",
        "model.add(layers.Dense(43, activation='softmax'))"
      ],
      "execution_count": null,
      "outputs": []
    },
    {
      "cell_type": "code",
      "metadata": {
        "id": "B8505vVIG_vT",
        "colab_type": "code",
        "colab": {
          "base_uri": "https://localhost:8080/",
          "height": 554
        },
        "outputId": "ad2634e6-95b4-47b9-9b76-4e56fc0f4194"
      },
      "source": [
        "model.summary()"
      ],
      "execution_count": null,
      "outputs": [
        {
          "output_type": "stream",
          "text": [
            "Model: \"sequential_1\"\n",
            "_________________________________________________________________\n",
            "Layer (type)                 Output Shape              Param #   \n",
            "=================================================================\n",
            "conv2d_1 (Conv2D)            (None, 48, 48, 32)        896       \n",
            "_________________________________________________________________\n",
            "max_pooling2d_1 (MaxPooling2 (None, 24, 24, 32)        0         \n",
            "_________________________________________________________________\n",
            "conv2d_2 (Conv2D)            (None, 22, 22, 64)        18496     \n",
            "_________________________________________________________________\n",
            "max_pooling2d_2 (MaxPooling2 (None, 11, 11, 64)        0         \n",
            "_________________________________________________________________\n",
            "conv2d_3 (Conv2D)            (None, 9, 9, 128)         73856     \n",
            "_________________________________________________________________\n",
            "max_pooling2d_3 (MaxPooling2 (None, 4, 4, 128)         0         \n",
            "_________________________________________________________________\n",
            "conv2d_4 (Conv2D)            (None, 2, 2, 128)         147584    \n",
            "_________________________________________________________________\n",
            "max_pooling2d_4 (MaxPooling2 (None, 1, 1, 128)         0         \n",
            "_________________________________________________________________\n",
            "flatten_1 (Flatten)          (None, 128)               0         \n",
            "_________________________________________________________________\n",
            "dropout_1 (Dropout)          (None, 128)               0         \n",
            "_________________________________________________________________\n",
            "dense_1 (Dense)              (None, 128)               16512     \n",
            "_________________________________________________________________\n",
            "dense_2 (Dense)              (None, 43)                5547      \n",
            "=================================================================\n",
            "Total params: 262,891\n",
            "Trainable params: 262,891\n",
            "Non-trainable params: 0\n",
            "_________________________________________________________________\n"
          ],
          "name": "stdout"
        }
      ]
    },
    {
      "cell_type": "code",
      "metadata": {
        "id": "Xf_u7iuaH84F",
        "colab_type": "code",
        "colab": {}
      },
      "source": [
        "from keras import optimizers\n",
        "\n",
        "model.compile(optimizer='rmsprop', \n",
        "              loss='categorical_crossentropy',\n",
        "              metrics=['accuracy'])"
      ],
      "execution_count": null,
      "outputs": []
    },
    {
      "cell_type": "code",
      "metadata": {
        "id": "HTy1Q__kJkbF",
        "colab_type": "code",
        "colab": {
          "base_uri": "https://localhost:8080/",
          "height": 50
        },
        "outputId": "2a2dcabb-086d-47fc-ce5f-7d876a7eba58"
      },
      "source": [
        "from keras.preprocessing.image import ImageDataGenerator\n",
        "\n",
        "train_datagen = ImageDataGenerator(rescale=1./255)\n",
        "test_datagen = ImageDataGenerator(rescale=1./255)\n",
        "\n",
        "train_generator = train_datagen.flow_from_directory(train_dir, \n",
        "                                                    target_size = (50, 50),\n",
        "                                                    batch_size = 100,\n",
        "                                                    class_mode = 'categorical') #two classes--class_mode = 'binary', more than two classes--class_mode='categorical'\n",
        "vaildation_generator = test_datagen.flow_from_directory(validation_dir,\n",
        "                                                        target_size = (50, 50),\n",
        "                                                        batch_size = 100,\n",
        "                                                        class_mode = 'categorical')"
      ],
      "execution_count": null,
      "outputs": [
        {
          "output_type": "stream",
          "text": [
            "Found 27439 images belonging to 43 classes.\n",
            "Found 5879 images belonging to 43 classes.\n"
          ],
          "name": "stdout"
        }
      ]
    },
    {
      "cell_type": "code",
      "metadata": {
        "id": "x_i9j8EiL7PQ",
        "colab_type": "code",
        "colab": {
          "base_uri": "https://localhost:8080/",
          "height": 1000
        },
        "outputId": "a5f997ed-b0c1-465e-e979-19d432959741"
      },
      "source": [
        "history = model.fit(train_generator, steps_per_epoch=100, epochs= 30, validation_data=vaildation_generator, validation_steps=50)"
      ],
      "execution_count": null,
      "outputs": [
        {
          "output_type": "stream",
          "text": [
            "Epoch 1/30\n",
            "100/100 [==============================] - 12s 122ms/step - loss: 3.3262 - accuracy: 0.1246 - val_loss: 2.5866 - val_accuracy: 0.3182\n",
            "Epoch 2/30\n",
            "100/100 [==============================] - 6s 57ms/step - loss: 2.3146 - accuracy: 0.3324 - val_loss: 1.7036 - val_accuracy: 0.4660\n",
            "Epoch 3/30\n",
            "100/100 [==============================] - 6s 55ms/step - loss: 1.7535 - accuracy: 0.4596 - val_loss: 1.1044 - val_accuracy: 0.5927\n",
            "Epoch 4/30\n",
            "100/100 [==============================] - 5s 53ms/step - loss: 1.2791 - accuracy: 0.5897 - val_loss: 0.6608 - val_accuracy: 0.7556\n",
            "Epoch 5/30\n",
            "100/100 [==============================] - 5s 52ms/step - loss: 0.9650 - accuracy: 0.6876 - val_loss: 0.4836 - val_accuracy: 0.8241\n",
            "Epoch 6/30\n",
            "100/100 [==============================] - 5s 51ms/step - loss: 0.7134 - accuracy: 0.7652 - val_loss: 0.3752 - val_accuracy: 0.8779\n",
            "Epoch 7/30\n",
            "100/100 [==============================] - 5s 52ms/step - loss: 0.5586 - accuracy: 0.8213 - val_loss: 0.2820 - val_accuracy: 0.9304\n",
            "Epoch 8/30\n",
            "100/100 [==============================] - 5s 49ms/step - loss: 0.4388 - accuracy: 0.8559 - val_loss: 0.1758 - val_accuracy: 0.9496\n",
            "Epoch 9/30\n",
            "100/100 [==============================] - 5s 51ms/step - loss: 0.3557 - accuracy: 0.8853 - val_loss: 0.1314 - val_accuracy: 0.9594\n",
            "Epoch 10/30\n",
            "100/100 [==============================] - 5s 51ms/step - loss: 0.3170 - accuracy: 0.8979 - val_loss: 0.1011 - val_accuracy: 0.9749\n",
            "Epoch 11/30\n",
            "100/100 [==============================] - 5s 53ms/step - loss: 0.2600 - accuracy: 0.9171 - val_loss: 0.0902 - val_accuracy: 0.9751\n",
            "Epoch 12/30\n",
            "100/100 [==============================] - 5s 52ms/step - loss: 0.2241 - accuracy: 0.9294 - val_loss: 0.1338 - val_accuracy: 0.9809\n",
            "Epoch 13/30\n",
            "100/100 [==============================] - 5s 53ms/step - loss: 0.1809 - accuracy: 0.9430 - val_loss: 0.0790 - val_accuracy: 0.9845\n",
            "Epoch 14/30\n",
            "100/100 [==============================] - 5s 52ms/step - loss: 0.1805 - accuracy: 0.9417 - val_loss: 0.0681 - val_accuracy: 0.9834\n",
            "Epoch 15/30\n",
            "100/100 [==============================] - 5s 53ms/step - loss: 0.1588 - accuracy: 0.9524 - val_loss: 0.0417 - val_accuracy: 0.9817\n",
            "Epoch 16/30\n",
            "100/100 [==============================] - 5s 53ms/step - loss: 0.1397 - accuracy: 0.9574 - val_loss: 0.0905 - val_accuracy: 0.9857\n",
            "Epoch 17/30\n",
            "100/100 [==============================] - 5s 53ms/step - loss: 0.1365 - accuracy: 0.9554 - val_loss: 0.0247 - val_accuracy: 0.9890\n",
            "Epoch 18/30\n",
            "100/100 [==============================] - 5s 52ms/step - loss: 0.1178 - accuracy: 0.9643 - val_loss: 0.1178 - val_accuracy: 0.9859\n",
            "Epoch 19/30\n",
            "100/100 [==============================] - 5s 52ms/step - loss: 0.1156 - accuracy: 0.9632 - val_loss: 0.0135 - val_accuracy: 0.9890\n",
            "Epoch 20/30\n",
            "100/100 [==============================] - 5s 51ms/step - loss: 0.0985 - accuracy: 0.9687 - val_loss: 0.0102 - val_accuracy: 0.9860\n",
            "Epoch 21/30\n",
            "100/100 [==============================] - 5s 49ms/step - loss: 0.0994 - accuracy: 0.9690 - val_loss: 0.0424 - val_accuracy: 0.9837\n",
            "Epoch 22/30\n",
            "100/100 [==============================] - 5s 51ms/step - loss: 0.0939 - accuracy: 0.9705 - val_loss: 0.0268 - val_accuracy: 0.9910\n",
            "Epoch 23/30\n",
            "100/100 [==============================] - 5s 51ms/step - loss: 0.0902 - accuracy: 0.9717 - val_loss: 0.0425 - val_accuracy: 0.9898\n",
            "Epoch 24/30\n",
            "100/100 [==============================] - 5s 51ms/step - loss: 0.0806 - accuracy: 0.9745 - val_loss: 0.0078 - val_accuracy: 0.9936\n",
            "Epoch 25/30\n",
            "100/100 [==============================] - 5s 52ms/step - loss: 0.0748 - accuracy: 0.9761 - val_loss: 0.0096 - val_accuracy: 0.9928\n",
            "Epoch 26/30\n",
            "100/100 [==============================] - 5s 52ms/step - loss: 0.0702 - accuracy: 0.9787 - val_loss: 0.0013 - val_accuracy: 0.9942\n",
            "Epoch 27/30\n",
            "100/100 [==============================] - 5s 53ms/step - loss: 0.0706 - accuracy: 0.9772 - val_loss: 0.0071 - val_accuracy: 0.9928\n",
            "Epoch 28/30\n",
            "100/100 [==============================] - 5s 52ms/step - loss: 0.0633 - accuracy: 0.9809 - val_loss: 9.9751e-04 - val_accuracy: 0.9944\n",
            "Epoch 29/30\n",
            "100/100 [==============================] - 5s 51ms/step - loss: 0.0627 - accuracy: 0.9795 - val_loss: 0.0038 - val_accuracy: 0.9936\n",
            "Epoch 30/30\n",
            "100/100 [==============================] - 5s 52ms/step - loss: 0.0639 - accuracy: 0.9785 - val_loss: 0.0377 - val_accuracy: 0.9954\n"
          ],
          "name": "stdout"
        }
      ]
    },
    {
      "cell_type": "code",
      "metadata": {
        "id": "Ap6ap1NQM7jq",
        "colab_type": "code",
        "colab": {}
      },
      "source": [
        "model.save('german_traffic_sign_1.h5')"
      ],
      "execution_count": null,
      "outputs": []
    },
    {
      "cell_type": "code",
      "metadata": {
        "id": "FOORZnEuNia-",
        "colab_type": "code",
        "colab": {
          "base_uri": "https://localhost:8080/",
          "height": 545
        },
        "outputId": "89e32ac6-2603-413d-e30e-6aed6ded4d77"
      },
      "source": [
        "import matplotlib.pyplot as plt\n",
        "\n",
        "acc = history.history['accuracy']\n",
        "val_acc = history.history['val_accuracy']\n",
        "loss = history.history['loss']\n",
        "val_loss = history.history['val_loss']\n",
        "\n",
        "epochs = range(len(acc))\n",
        "\n",
        "plt.plot(epochs, acc, 'bo', label='Training acc')\n",
        "plt.plot(epochs, val_acc, 'b', label='Validation acc')\n",
        "plt.title('Training and Validation accuracy')\n",
        "plt.legend() #旁邊圖例\n",
        "\n",
        "plt.figure()\n",
        "\n",
        "plt.plot(epochs, loss, 'bo', label='Training loss')\n",
        "plt.plot(epochs, val_loss, 'b', label='Validation loss')\n",
        "plt.title('Training and validation loss')\n",
        "plt.legend()\n",
        "\n",
        "plt.show()"
      ],
      "execution_count": null,
      "outputs": [
        {
          "output_type": "display_data",
          "data": {
            "image/png": "[encoded data removed]",
            "text/plain": [
              "<Figure size 432x288 with 1 Axes>"
            ]
          },
          "metadata": {
            "tags": [],
            "needs_background": "light"
          }
        },
        {
          "output_type": "display_data",
          "data": {
            "image/png": "[encoded data removed]",
            "text/plain": [
              "<Figure size 432x288 with 1 Axes>"
            ]
          },
          "metadata": {
            "tags": [],
            "needs_background": "light"
          }
        }
      ]
    },
    {
      "cell_type": "code",
      "metadata": {
        "id": "VYfoMN7cTXlf",
        "colab_type": "code",
        "colab": {
          "base_uri": "https://localhost:8080/",
          "height": 50
        },
        "outputId": "b8aa396c-50c3-4a56-dfbd-717968db3896"
      },
      "source": [
        "test_datagen = ImageDataGenerator(rescale=1./255)\n",
        "\n",
        "test_generator = train_datagen.flow_from_directory(test_dir, \n",
        "                                                    target_size = (50, 50),\n",
        "                                                    batch_size = 20,\n",
        "                                                    class_mode = 'categorical') \n",
        "test_loss, test_acc=model.evaluate_generator(test_generator, steps=294) #5879/20\n",
        "print('test accururacy:', test_acc)"
      ],
      "execution_count": null,
      "outputs": [
        {
          "output_type": "stream",
          "text": [
            "Found 5891 images belonging to 43 classes.\n",
            "test accururacy: 0.9938775300979614\n"
          ],
          "name": "stdout"
        }
      ]
    }
  ]
}