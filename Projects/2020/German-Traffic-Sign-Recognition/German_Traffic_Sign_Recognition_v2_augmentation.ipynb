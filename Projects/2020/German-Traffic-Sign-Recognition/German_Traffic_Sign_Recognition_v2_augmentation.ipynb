{
  "nbformat": 4,
  "nbformat_minor": 0,
  "metadata": {
    "kernelspec": {
      "display_name": "Python 3",
      "language": "python",
      "name": "python3"
    },
    "language_info": {
      "codemirror_mode": {
        "name": "ipython",
        "version": 3
      },
      "file_extension": ".py",
      "mimetype": "text/x-python",
      "name": "python",
      "nbconvert_exporter": "python",
      "pygments_lexer": "ipython3",
      "version": "3.5.2"
    },
    "colab": {
      "name": "German-Traffic-Sign-Recognition-v2-augmentation.ipynb",
      "provenance": [],
      "collapsed_sections": []
    },
    "accelerator": "GPU"
  },
  "cells": [
    {
      "cell_type": "code",
      "metadata": {
        "id": "18pFn7sBWVQL",
        "colab_type": "code",
        "colab": {
          "base_uri": "https://localhost:8080/",
          "height": 52
        },
        "outputId": "5e20d1d8-9e46-4bd6-afb6-3a5c41172689"
      },
      "source": [
        "import keras\n",
        "keras.__version__"
      ],
      "execution_count": null,
      "outputs": [
        {
          "output_type": "stream",
          "text": [
            "Using TensorFlow backend.\n"
          ],
          "name": "stderr"
        },
        {
          "output_type": "execute_result",
          "data": {
            "application/vnd.google.colaboratory.intrinsic+json": {
              "type": "string"
            },
            "text/plain": [
              "'2.3.1'"
            ]
          },
          "metadata": {
            "tags": []
          },
          "execution_count": 1
        }
      ]
    },
    {
      "cell_type": "code",
      "metadata": {
        "id": "jQWml8rVWWFE",
        "colab_type": "code",
        "colab": {
          "base_uri": "https://localhost:8080/",
          "height": 34
        },
        "outputId": "db366091-9966-42fc-ac39-0003d6ee0225"
      },
      "source": [
        "import tensorflow as tf\n",
        "print(\"GPU Available: \", tf.config.list_physical_devices('GPU'))"
      ],
      "execution_count": null,
      "outputs": [
        {
          "output_type": "stream",
          "text": [
            "GPU Available:  [PhysicalDevice(name='/physical_device:GPU:0', device_type='GPU')]\n"
          ],
          "name": "stdout"
        }
      ]
    },
    {
      "cell_type": "markdown",
      "metadata": {
        "id": "QL_RnTvoWVQR",
        "colab_type": "text"
      },
      "source": [
        "## Downloading the data\n",
        "\n"
      ]
    },
    {
      "cell_type": "markdown",
      "metadata": {
        "id": "7MKAsjKGWVQR",
        "colab_type": "text"
      },
      "source": [
        "Follow these steps to download and prepare the data:\n",
        "1. Download the train dataset file from https://www.kaggle.com/meowmeowmeowmeowmeow/gtsrb-german-traffic-sign? \n",
        "2. Upload it to your Colab environment. After you upload you should be able to see the file by running the `ls` command.\n",
        "3. Unzip it (use the code below)"
      ]
    },
    {
      "cell_type": "code",
      "metadata": {
        "id": "RAt38H4Fmghl",
        "colab_type": "code",
        "colab": {
          "base_uri": "https://localhost:8080/",
          "height": 440
        },
        "outputId": "8c6fba7c-79d1-4d1c-aff5-414b18ad40b1"
      },
      "source": [
        "# Use this code to upload the data as a backup\n",
        "FILEID='1p7K1Aw-fZUxha-aLczwZ6Z6cHvu1pEN1'\n",
        "FILENAME='train.zip'\n",
        "!wget --load-cookies /tmp/cookies.txt \"https://docs.google.com/uc?export=download&confirm=$(wget --quiet --save-cookies /tmp/cookies.txt --keep-session-cookies --no-check-certificate 'https://docs.google.com/uc?export=download&id=$FILEID' -O- | sed -rn 's/.*confirm=([0-9A-Za-z_]+).*/\\1\\n/p')&id=$FILEID\" -O $FILENAME && rm -rf /tmp/cookies.txt"
      ],
      "execution_count": null,
      "outputs": [
        {
          "output_type": "stream",
          "text": [
            "--2020-07-23 13:07:21--  https://docs.google.com/uc?export=download&confirm=EEa6&id=1p7K1Aw-fZUxha-aLczwZ6Z6cHvu1pEN1\n",
            "Resolving docs.google.com (docs.google.com)... 172.217.212.113, 172.217.212.100, 172.217.212.101, ...\n",
            "Connecting to docs.google.com (docs.google.com)|172.217.212.113|:443... connected.\n",
            "HTTP request sent, awaiting response... 302 Moved Temporarily\n",
            "Location: https://doc-0s-2c-docs.googleusercontent.com/docs/securesc/49c9aa0465ho9v71fkn4ng4pjv6rg1tk/1k0u2fjl3pmg52i1nrvggam626vb1ni1/1595509575000/12308918870841825745/14130193923695707780Z/1p7K1Aw-fZUxha-aLczwZ6Z6cHvu1pEN1?e=download [following]\n",
            "--2020-07-23 13:07:21--  https://doc-0s-2c-docs.googleusercontent.com/docs/securesc/49c9aa0465ho9v71fkn4ng4pjv6rg1tk/1k0u2fjl3pmg52i1nrvggam626vb1ni1/1595509575000/12308918870841825745/14130193923695707780Z/1p7K1Aw-fZUxha-aLczwZ6Z6cHvu1pEN1?e=download\n",
            "Resolving doc-0s-2c-docs.googleusercontent.com (doc-0s-2c-docs.googleusercontent.com)... 172.217.214.132, 2607:f8b0:4001:c05::84\n",
            "Connecting to doc-0s-2c-docs.googleusercontent.com (doc-0s-2c-docs.googleusercontent.com)|172.217.214.132|:443... connected.\n",
            "HTTP request sent, awaiting response... 302 Found\n",
            "Location: https://docs.google.com/nonceSigner?nonce=mdqcpk6ogs7js&continue=https://doc-0s-2c-docs.googleusercontent.com/docs/securesc/49c9aa0465ho9v71fkn4ng4pjv6rg1tk/1k0u2fjl3pmg52i1nrvggam626vb1ni1/1595509575000/12308918870841825745/14130193923695707780Z/1p7K1Aw-fZUxha-aLczwZ6Z6cHvu1pEN1?e%3Ddownload&hash=funki1c5tqlllig9d5uqbe5hj26fj2ap [following]\n",
            "--2020-07-23 13:07:21--  https://docs.google.com/nonceSigner?nonce=mdqcpk6ogs7js&continue=https://doc-0s-2c-docs.googleusercontent.com/docs/securesc/49c9aa0465ho9v71fkn4ng4pjv6rg1tk/1k0u2fjl3pmg52i1nrvggam626vb1ni1/1595509575000/12308918870841825745/14130193923695707780Z/1p7K1Aw-fZUxha-aLczwZ6Z6cHvu1pEN1?e%3Ddownload&hash=funki1c5tqlllig9d5uqbe5hj26fj2ap\n",
            "Connecting to docs.google.com (docs.google.com)|172.217.212.113|:443... connected.\n",
            "HTTP request sent, awaiting response... 302 Found\n",
            "Location: https://doc-0s-2c-docs.googleusercontent.com/docs/securesc/49c9aa0465ho9v71fkn4ng4pjv6rg1tk/1k0u2fjl3pmg52i1nrvggam626vb1ni1/1595509575000/12308918870841825745/14130193923695707780Z/1p7K1Aw-fZUxha-aLczwZ6Z6cHvu1pEN1?e=download&nonce=mdqcpk6ogs7js&user=14130193923695707780Z&hash=rhp8tvo7d5u4s87675gl4rt64mbk4c5v [following]\n",
            "--2020-07-23 13:07:21--  https://doc-0s-2c-docs.googleusercontent.com/docs/securesc/49c9aa0465ho9v71fkn4ng4pjv6rg1tk/1k0u2fjl3pmg52i1nrvggam626vb1ni1/1595509575000/12308918870841825745/14130193923695707780Z/1p7K1Aw-fZUxha-aLczwZ6Z6cHvu1pEN1?e=download&nonce=mdqcpk6ogs7js&user=14130193923695707780Z&hash=rhp8tvo7d5u4s87675gl4rt64mbk4c5v\n",
            "Connecting to doc-0s-2c-docs.googleusercontent.com (doc-0s-2c-docs.googleusercontent.com)|172.217.214.132|:443... connected.\n",
            "HTTP request sent, awaiting response... 200 OK\n",
            "Length: unspecified [application/zip]\n",
            "Saving to: ‘train.zip’\n",
            "\n",
            "train.zip               [         <=>        ] 249.52M   144MB/s    in 1.7s    \n",
            "\n",
            "2020-07-23 13:07:23 (144 MB/s) - ‘train.zip’ saved [261637948]\n",
            "\n"
          ],
          "name": "stdout"
        }
      ]
    },
    {
      "cell_type": "code",
      "metadata": {
        "id": "6uyKGqmjZR3G",
        "colab_type": "code",
        "colab": {
          "base_uri": "https://localhost:8080/",
          "height": 67
        },
        "outputId": "a7c29f93-1fca-4444-e85b-b7ba17e13f81"
      },
      "source": [
        "ls -lh"
      ],
      "execution_count": null,
      "outputs": [
        {
          "output_type": "stream",
          "text": [
            "total 250M\n",
            "drwxr-xr-x 1 root root 4.0K Jul 10 16:29 \u001b[0m\u001b[01;34msample_data\u001b[0m/\n",
            "-rw-r--r-- 1 root root 250M Jul 23 13:07 train.zip\n"
          ],
          "name": "stdout"
        }
      ]
    },
    {
      "cell_type": "markdown",
      "metadata": {
        "id": "VWYRS9M6B4PA",
        "colab_type": "text"
      },
      "source": [
        "The dataset size above should be 250M otherwise it wasn't downloaded properly. Try running the download cell again!"
      ]
    },
    {
      "cell_type": "code",
      "metadata": {
        "id": "mAxK5x8xA_Bg",
        "colab_type": "code",
        "colab": {}
      },
      "source": [
        "!unzip -q train.zip -d kaggle_original_data"
      ],
      "execution_count": null,
      "outputs": []
    },
    {
      "cell_type": "code",
      "metadata": {
        "id": "3_95pNVUZa7x",
        "colab_type": "code",
        "colab": {}
      },
      "source": [
        "!rm -r kaggle_original_data/__MACOSX/\n",
        "!mv kaggle_original_data/82373_191501_upload_Train/* kaggle_original_data\n",
        "!rm -r kaggle_original_data/82373_191501_upload_Train"
      ],
      "execution_count": null,
      "outputs": []
    },
    {
      "cell_type": "code",
      "metadata": {
        "id": "DUqNbKrK1pBS",
        "colab_type": "code",
        "colab": {
          "base_uri": "https://localhost:8080/",
          "height": 185
        },
        "outputId": "04260901-7844-41c4-e3f6-9b5c590bd28d"
      },
      "source": [
        "!ls -l kaggle_original_data | head"
      ],
      "execution_count": null,
      "outputs": [
        {
          "output_type": "stream",
          "text": [
            "total 2044\n",
            "drwxrwxrwx 2 root root  12288 Nov 25  2018 0\n",
            "drwxrwxrwx 2 root root 118784 Nov 25  2018 1\n",
            "drwxrwxrwx 2 root root  98304 Nov 25  2018 10\n",
            "drwxrwxrwx 2 root root  69632 Nov 25  2018 11\n",
            "drwxrwxrwx 2 root root 110592 Nov 25  2018 12\n",
            "drwxrwxrwx 2 root root 110592 Nov 25  2018 13\n",
            "drwxrwxrwx 2 root root  36864 Nov 25  2018 14\n",
            "drwxrwxrwx 2 root root  36864 Nov 25  2018 15\n",
            "drwxrwxrwx 2 root root  20480 Nov 25  2018 16\n"
          ],
          "name": "stdout"
        }
      ]
    },
    {
      "cell_type": "code",
      "metadata": {
        "id": "gEy-j9X_2OUi",
        "colab_type": "code",
        "colab": {}
      },
      "source": [
        "from random import shuffle\n",
        "import os, shutil\n",
        "\n",
        "# list all labels\n",
        "label_dirs = [str(label) for label in range(0,43)]\n",
        "\n",
        "# The path to the directory where the original\n",
        "# dataset was uncompressed\n",
        "original_dataset_dir = '/content/kaggle_original_data'\n",
        "\n",
        "# The directory where we will\n",
        "# store our smaller dataset\n",
        "base_dir = '/content/german_traffic_sign'\n",
        "os.mkdir(base_dir)\n",
        "\n",
        "# Directories for our training,\n",
        "# validation and test splits\n",
        "train_dir = os.path.join(base_dir, 'train')\n",
        "os.mkdir(train_dir)\n",
        "validation_dir = os.path.join(base_dir, 'validation')\n",
        "os.mkdir(validation_dir)\n",
        "test_dir = os.path.join(base_dir, 'test')\n",
        "os.mkdir(test_dir)\n",
        "\n",
        "# Directory with our training/validation/test label pictures\n",
        "for target_dir in [train_dir, validation_dir, test_dir]:\n",
        "    for label in label_dirs:\n",
        "        dir = os.path.join(target_dir, label)\n",
        "        os.mkdir(dir)\n",
        "\n",
        "# Copy 70% of each label to train, 15% to valid, and 15% to test directories\n",
        "for label in label_dirs:\n",
        "    fnames = os.listdir(os.path.join(original_dataset_dir, label))\n",
        "    shuffle(fnames)  # shuffling the list\n",
        "    n_img_start_valid = int(len(fnames)*0.7)\n",
        "    n_img_start_test  = int(len(fnames)*0.85)\n",
        "    for fname in fnames[:n_img_start_valid]:  # train\n",
        "        src = os.path.join(original_dataset_dir, label, fname)\n",
        "        dst = os.path.join(train_dir, label, fname)\n",
        "        shutil.copyfile(src, dst)\n",
        "    for fname in fnames[n_img_start_valid:n_img_start_test]:  # valid\n",
        "        src = os.path.join(original_dataset_dir, label, fname)\n",
        "        dst = os.path.join(validation_dir, label, fname)\n",
        "        shutil.copyfile(src, dst)\n",
        "    for fname in fnames[n_img_start_test:]:  # test\n",
        "        src = os.path.join(original_dataset_dir, label, fname)\n",
        "        dst = os.path.join(test_dir, label, fname)\n",
        "        shutil.copyfile(src, dst)"
      ],
      "execution_count": null,
      "outputs": []
    },
    {
      "cell_type": "markdown",
      "metadata": {
        "id": "lz_EVN0jWVQW",
        "colab_type": "text"
      },
      "source": [
        "As a sanity check, let's count how many pictures we have in each training split (train / validation / test):"
      ]
    },
    {
      "cell_type": "code",
      "metadata": {
        "id": "arkT9J1cCj6S",
        "colab_type": "code",
        "colab": {
          "base_uri": "https://localhost:8080/",
          "height": 739
        },
        "outputId": "fbc3b396-b507-4f24-8007-f88022ec8d0c"
      },
      "source": [
        "total_train_imgs = 0\n",
        "total_valid_imgs = 0\n",
        "for label in label_dirs:\n",
        "    print('total images for label', label, 'in training:', len(os.listdir(os.path.join(train_dir, label))),\n",
        "                                           'in valid:', len(os.listdir(os.path.join(validation_dir, label))),\n",
        "                                            'in test:', len(os.listdir(os.path.join(test_dir, label))))\n",
        "    total_train_imgs += len(os.listdir(os.path.join(train_dir, label)))\n",
        "    total_valid_imgs += len(os.listdir(os.path.join(validation_dir, label)))"
      ],
      "execution_count": null,
      "outputs": [
        {
          "output_type": "stream",
          "text": [
            "total images for label 0 in training: 147 in valid: 31 in test: 32\n",
            "total images for label 1 in training: 1554 in valid: 333 in test: 333\n",
            "total images for label 2 in training: 1575 in valid: 337 in test: 338\n",
            "total images for label 3 in training: 986 in valid: 212 in test: 212\n",
            "total images for label 4 in training: 1386 in valid: 297 in test: 297\n",
            "total images for label 5 in training: 1302 in valid: 279 in test: 279\n",
            "total images for label 6 in training: 294 in valid: 63 in test: 63\n",
            "total images for label 7 in training: 1007 in valid: 217 in test: 216\n",
            "total images for label 8 in training: 986 in valid: 212 in test: 212\n",
            "total images for label 9 in training: 1029 in valid: 220 in test: 221\n",
            "total images for label 10 in training: 1407 in valid: 301 in test: 302\n",
            "total images for label 11 in training: 923 in valid: 199 in test: 198\n",
            "total images for label 12 in training: 1470 in valid: 315 in test: 315\n",
            "total images for label 13 in training: 1512 in valid: 324 in test: 324\n",
            "total images for label 14 in training: 546 in valid: 117 in test: 117\n",
            "total images for label 15 in training: 441 in valid: 94 in test: 95\n",
            "total images for label 16 in training: 294 in valid: 63 in test: 63\n",
            "total images for label 17 in training: 777 in valid: 166 in test: 167\n",
            "total images for label 18 in training: 840 in valid: 180 in test: 180\n",
            "total images for label 19 in training: 147 in valid: 31 in test: 32\n",
            "total images for label 20 in training: 251 in valid: 55 in test: 54\n",
            "total images for label 21 in training: 230 in valid: 50 in test: 50\n",
            "total images for label 22 in training: 273 in valid: 58 in test: 59\n",
            "total images for label 23 in training: 357 in valid: 76 in test: 77\n",
            "total images for label 24 in training: 189 in valid: 40 in test: 41\n",
            "total images for label 25 in training: 1050 in valid: 225 in test: 225\n",
            "total images for label 26 in training: 420 in valid: 90 in test: 90\n",
            "total images for label 27 in training: 168 in valid: 36 in test: 36\n",
            "total images for label 28 in training: 378 in valid: 81 in test: 81\n",
            "total images for label 29 in training: 189 in valid: 40 in test: 41\n",
            "total images for label 30 in training: 315 in valid: 67 in test: 68\n",
            "total images for label 31 in training: 546 in valid: 117 in test: 117\n",
            "total images for label 32 in training: 168 in valid: 36 in test: 36\n",
            "total images for label 33 in training: 482 in valid: 103 in test: 104\n",
            "total images for label 34 in training: 294 in valid: 63 in test: 63\n",
            "total images for label 35 in training: 840 in valid: 180 in test: 180\n",
            "total images for label 36 in training: 273 in valid: 58 in test: 59\n",
            "total images for label 37 in training: 147 in valid: 31 in test: 32\n",
            "total images for label 38 in training: 1449 in valid: 310 in test: 311\n",
            "total images for label 39 in training: 210 in valid: 45 in test: 45\n",
            "total images for label 40 in training: 251 in valid: 55 in test: 54\n",
            "total images for label 41 in training: 168 in valid: 36 in test: 36\n",
            "total images for label 42 in training: 168 in valid: 36 in test: 36\n"
          ],
          "name": "stdout"
        }
      ]
    },
    {
      "cell_type": "code",
      "metadata": {
        "id": "u6OM__a-HEtN",
        "colab_type": "code",
        "colab": {
          "base_uri": "https://localhost:8080/",
          "height": 50
        },
        "outputId": "9bfa63d2-458b-44b2-9ff5-801494292b39"
      },
      "source": [
        "print('Total number of training images:', total_train_imgs)\n",
        "print('Total number of validation images:', total_valid_imgs)"
      ],
      "execution_count": null,
      "outputs": [
        {
          "output_type": "stream",
          "text": [
            "Total number of training images: 27439\n",
            "Total number of validation images: 5879\n"
          ],
          "name": "stdout"
        }
      ]
    },
    {
      "cell_type": "markdown",
      "metadata": {
        "id": "nILJEVrsWVQj",
        "colab_type": "text"
      },
      "source": [
        "## Building our network\n",
        "\n",
        "We've already built a small convnet for MNIST in the previous example, so you should be familiar with them. We will reuse the same \n",
        "general structure: our convnet will be a stack of alternated `Conv2D` (with `relu` activation) and `MaxPooling2D` layers.\n",
        "\n",
        "However, since we are dealing with bigger images and a more complex problem, we will make our network accordingly larger: it will have one \n",
        "more `Conv2D` + `MaxPooling2D` stage. This serves both to augment the capacity of the network, and to further reduce the size of the \n",
        "feature maps, so that they aren't overly large when we reach the `Flatten` layer. Here, since we start from inputs of size 150x150 (a \n",
        "somewhat arbitrary choice), we end up with feature maps of size 7x7 right before the `Flatten` layer.\n",
        "\n",
        "Note that the depth of the feature maps is progressively increasing in the network (from 32 to 128), while the size of the feature maps is \n",
        "decreasing (from 148x148 to 7x7). This is a pattern that you will see in almost all convnets.\n",
        "\n",
        "Since we are attacking a binary classification problem, we are ending the network with a single unit (a `Dense` layer of size 43) and a \n",
        "`softmax` activation. This unit will encode the probability that the network is looking at one class or the other."
      ]
    },
    {
      "cell_type": "code",
      "metadata": {
        "id": "VT3cy3AFbW8b",
        "colab_type": "code",
        "colab": {}
      },
      "source": [
        "from keras import models\n",
        "from keras import layers\n",
        "\n",
        "model = models.Sequential()\n",
        "model.add(layers.Conv2D(32, (3, 3), activation='relu', input_shape=(50, 50, 3)))\n",
        "model.add(layers.MaxPooling2D((2, 2)))\n",
        "model.add(layers.Conv2D(64, (3,3), activation='relu'))\n",
        "model.add(layers.MaxPooling2D((2, 2)))\n",
        "model.add(layers.Conv2D(128, (3,3), activation='relu'))\n",
        "model.add(layers.MaxPooling2D((2, 2)))\n",
        "model.add(layers.Conv2D(128, (3,3), activation='relu'))\n",
        "model.add(layers.MaxPooling2D((2, 2)))\n",
        "model.add(layers.Flatten())\n",
        "model.add(layers.Dropout(0.5))\n",
        "model.add(layers.Dense(128, activation='relu'))\n",
        "model.add(layers.Dense(43, activation='softmax'))\n",
        "\n",
        "model.compile(optimizer='rmsprop', \n",
        "              loss='categorical_crossentropy',\n",
        "              metrics=['accuracy'])"
      ],
      "execution_count": null,
      "outputs": []
    },
    {
      "cell_type": "code",
      "metadata": {
        "id": "AQrbC9SDbqWa",
        "colab_type": "code",
        "colab": {
          "base_uri": "https://localhost:8080/",
          "height": 1000
        },
        "outputId": "fa12de30-dee1-4f91-d95b-dc7023c8d1e9"
      },
      "source": [
        "from keras.preprocessing.image import ImageDataGenerator\n",
        "\n",
        "train_datagen = ImageDataGenerator(\n",
        "    rescale=1./255,\n",
        "    rotation_range=40,\n",
        "    width_shift_range=0.2,\n",
        "    height_shift_range=0.2,\n",
        "    shear_range=0.2,\n",
        "    zoom_range=0.2,\n",
        "    horizontal_flip=True)\n",
        "\n",
        "test_datagen = ImageDataGenerator(rescale=1./255)\n",
        "\n",
        "train_generator = train_datagen.flow_from_directory(\n",
        "        train_dir,\n",
        "        target_size=(50, 50),\n",
        "        batch_size=100,\n",
        "        class_mode='categorical')\n",
        "\n",
        "validation_generator = test_datagen.flow_from_directory(\n",
        "        validation_dir,\n",
        "        target_size=(50, 50),\n",
        "        batch_size=100,\n",
        "        class_mode='categorical')\n",
        "\n",
        "history = model.fit_generator(\n",
        "      train_generator,\n",
        "      steps_per_epoch=100,\n",
        "      epochs=100,\n",
        "      validation_data=validation_generator,\n",
        "      validation_steps=50)"
      ],
      "execution_count": null,
      "outputs": [
        {
          "output_type": "stream",
          "text": [
            "Found 27439 images belonging to 43 classes.\n",
            "Found 5879 images belonging to 43 classes.\n",
            "Epoch 1/100\n",
            "100/100 [==============================] - 24s 243ms/step - loss: 3.4294 - accuracy: 0.0837 - val_loss: 3.0156 - val_accuracy: 0.1432\n",
            "Epoch 2/100\n",
            "100/100 [==============================] - 19s 187ms/step - loss: 3.1078 - accuracy: 0.1356 - val_loss: 2.9907 - val_accuracy: 0.2165\n",
            "Epoch 3/100\n",
            "100/100 [==============================] - 19s 186ms/step - loss: 2.8183 - accuracy: 0.2038 - val_loss: 2.4657 - val_accuracy: 0.2621\n",
            "Epoch 4/100\n",
            "100/100 [==============================] - 18s 179ms/step - loss: 2.5552 - accuracy: 0.2590 - val_loss: 2.1856 - val_accuracy: 0.3722\n",
            "Epoch 5/100\n",
            "100/100 [==============================] - 18s 181ms/step - loss: 2.3153 - accuracy: 0.3119 - val_loss: 1.7586 - val_accuracy: 0.4270\n",
            "Epoch 6/100\n",
            "100/100 [==============================] - 18s 178ms/step - loss: 2.1007 - accuracy: 0.3588 - val_loss: 1.6476 - val_accuracy: 0.4698\n",
            "Epoch 7/100\n",
            "100/100 [==============================] - 18s 181ms/step - loss: 1.9142 - accuracy: 0.3993 - val_loss: 1.5014 - val_accuracy: 0.5044\n",
            "Epoch 8/100\n",
            "100/100 [==============================] - 18s 178ms/step - loss: 1.7680 - accuracy: 0.4302 - val_loss: 1.2690 - val_accuracy: 0.5523\n",
            "Epoch 9/100\n",
            "100/100 [==============================] - 18s 181ms/step - loss: 1.6506 - accuracy: 0.4607 - val_loss: 1.1152 - val_accuracy: 0.5979\n",
            "Epoch 10/100\n",
            "100/100 [==============================] - 18s 183ms/step - loss: 1.5396 - accuracy: 0.4926 - val_loss: 1.0637 - val_accuracy: 0.6497\n",
            "Epoch 11/100\n",
            "100/100 [==============================] - 18s 185ms/step - loss: 1.4463 - accuracy: 0.5174 - val_loss: 1.0455 - val_accuracy: 0.6610\n",
            "Epoch 12/100\n",
            "100/100 [==============================] - 18s 179ms/step - loss: 1.3829 - accuracy: 0.5430 - val_loss: 0.8794 - val_accuracy: 0.7130\n",
            "Epoch 13/100\n",
            "100/100 [==============================] - 18s 185ms/step - loss: 1.2847 - accuracy: 0.5700 - val_loss: 0.8469 - val_accuracy: 0.7070\n",
            "Epoch 14/100\n",
            "100/100 [==============================] - 19s 187ms/step - loss: 1.2435 - accuracy: 0.5844 - val_loss: 0.7296 - val_accuracy: 0.7376\n",
            "Epoch 15/100\n",
            "100/100 [==============================] - 18s 179ms/step - loss: 1.1655 - accuracy: 0.6098 - val_loss: 0.8988 - val_accuracy: 0.7250\n",
            "Epoch 16/100\n",
            "100/100 [==============================] - 18s 180ms/step - loss: 1.0995 - accuracy: 0.6308 - val_loss: 0.5431 - val_accuracy: 0.7773\n",
            "Epoch 17/100\n",
            "100/100 [==============================] - 18s 180ms/step - loss: 1.0756 - accuracy: 0.6403 - val_loss: 0.6283 - val_accuracy: 0.8042\n",
            "Epoch 18/100\n",
            "100/100 [==============================] - 18s 180ms/step - loss: 1.0025 - accuracy: 0.6652 - val_loss: 0.5450 - val_accuracy: 0.7947\n",
            "Epoch 19/100\n",
            "100/100 [==============================] - 18s 179ms/step - loss: 0.9669 - accuracy: 0.6727 - val_loss: 0.5046 - val_accuracy: 0.8263\n",
            "Epoch 20/100\n",
            "100/100 [==============================] - 18s 180ms/step - loss: 0.9207 - accuracy: 0.6866 - val_loss: 0.5412 - val_accuracy: 0.8258\n",
            "Epoch 21/100\n",
            "100/100 [==============================] - 18s 180ms/step - loss: 0.9088 - accuracy: 0.6943 - val_loss: 0.4653 - val_accuracy: 0.8433\n",
            "Epoch 22/100\n",
            "100/100 [==============================] - 18s 179ms/step - loss: 0.8531 - accuracy: 0.7127 - val_loss: 0.5210 - val_accuracy: 0.8703\n",
            "Epoch 23/100\n",
            "100/100 [==============================] - 19s 194ms/step - loss: 0.8161 - accuracy: 0.7223 - val_loss: 0.4237 - val_accuracy: 0.8437\n",
            "Epoch 24/100\n",
            "100/100 [==============================] - 18s 182ms/step - loss: 0.8084 - accuracy: 0.7311 - val_loss: 0.3568 - val_accuracy: 0.8564\n",
            "Epoch 25/100\n",
            "100/100 [==============================] - 18s 179ms/step - loss: 0.7690 - accuracy: 0.7451 - val_loss: 0.2454 - val_accuracy: 0.8620\n",
            "Epoch 26/100\n",
            "100/100 [==============================] - 18s 182ms/step - loss: 0.7394 - accuracy: 0.7534 - val_loss: 0.3382 - val_accuracy: 0.8998\n",
            "Epoch 27/100\n",
            "100/100 [==============================] - 18s 182ms/step - loss: 0.7183 - accuracy: 0.7647 - val_loss: 0.2022 - val_accuracy: 0.8886\n",
            "Epoch 28/100\n",
            "100/100 [==============================] - 18s 180ms/step - loss: 0.6946 - accuracy: 0.7697 - val_loss: 0.3088 - val_accuracy: 0.9038\n",
            "Epoch 29/100\n",
            "100/100 [==============================] - 18s 179ms/step - loss: 0.6593 - accuracy: 0.7782 - val_loss: 0.3204 - val_accuracy: 0.8903\n",
            "Epoch 30/100\n",
            "100/100 [==============================] - 18s 179ms/step - loss: 0.6315 - accuracy: 0.7890 - val_loss: 0.3218 - val_accuracy: 0.8811\n",
            "Epoch 31/100\n",
            "100/100 [==============================] - 18s 183ms/step - loss: 0.6298 - accuracy: 0.7930 - val_loss: 0.2455 - val_accuracy: 0.8869\n",
            "Epoch 32/100\n",
            "100/100 [==============================] - 18s 182ms/step - loss: 0.5990 - accuracy: 0.7972 - val_loss: 0.3098 - val_accuracy: 0.9154\n",
            "Epoch 33/100\n",
            "100/100 [==============================] - 18s 182ms/step - loss: 0.5939 - accuracy: 0.7993 - val_loss: 0.2823 - val_accuracy: 0.9202\n",
            "Epoch 34/100\n",
            "100/100 [==============================] - 18s 182ms/step - loss: 0.5748 - accuracy: 0.8084 - val_loss: 0.1615 - val_accuracy: 0.9291\n",
            "Epoch 35/100\n",
            "100/100 [==============================] - 18s 181ms/step - loss: 0.5715 - accuracy: 0.8104 - val_loss: 0.3320 - val_accuracy: 0.9006\n",
            "Epoch 36/100\n",
            "100/100 [==============================] - 18s 178ms/step - loss: 0.5601 - accuracy: 0.8124 - val_loss: 0.1700 - val_accuracy: 0.9327\n",
            "Epoch 37/100\n",
            "100/100 [==============================] - 18s 180ms/step - loss: 0.5181 - accuracy: 0.8261 - val_loss: 0.1586 - val_accuracy: 0.9227\n",
            "Epoch 38/100\n",
            "100/100 [==============================] - 18s 182ms/step - loss: 0.5441 - accuracy: 0.8219 - val_loss: 0.1201 - val_accuracy: 0.9233\n",
            "Epoch 39/100\n",
            "100/100 [==============================] - 18s 179ms/step - loss: 0.5333 - accuracy: 0.8299 - val_loss: 0.2659 - val_accuracy: 0.9166\n",
            "Epoch 40/100\n",
            "100/100 [==============================] - 18s 180ms/step - loss: 0.5106 - accuracy: 0.8320 - val_loss: 0.1928 - val_accuracy: 0.9284\n",
            "Epoch 41/100\n",
            "100/100 [==============================] - 18s 181ms/step - loss: 0.5054 - accuracy: 0.8346 - val_loss: 0.1477 - val_accuracy: 0.9341\n",
            "Epoch 42/100\n",
            "100/100 [==============================] - 18s 183ms/step - loss: 0.4984 - accuracy: 0.8319 - val_loss: 0.1412 - val_accuracy: 0.9355\n",
            "Epoch 43/100\n",
            "100/100 [==============================] - 18s 182ms/step - loss: 0.4833 - accuracy: 0.8417 - val_loss: 0.2235 - val_accuracy: 0.9403\n",
            "Epoch 44/100\n",
            "100/100 [==============================] - 19s 194ms/step - loss: 0.4763 - accuracy: 0.8427 - val_loss: 0.1739 - val_accuracy: 0.9353\n",
            "Epoch 45/100\n",
            "100/100 [==============================] - 18s 181ms/step - loss: 0.4475 - accuracy: 0.8489 - val_loss: 0.2056 - val_accuracy: 0.9430\n",
            "Epoch 46/100\n",
            "100/100 [==============================] - 18s 181ms/step - loss: 0.4644 - accuracy: 0.8497 - val_loss: 0.1241 - val_accuracy: 0.9432\n",
            "Epoch 47/100\n",
            "100/100 [==============================] - 18s 179ms/step - loss: 0.4498 - accuracy: 0.8532 - val_loss: 0.2781 - val_accuracy: 0.9341\n",
            "Epoch 48/100\n",
            "100/100 [==============================] - 18s 182ms/step - loss: 0.4534 - accuracy: 0.8522 - val_loss: 0.1576 - val_accuracy: 0.9484\n",
            "Epoch 49/100\n",
            "100/100 [==============================] - 18s 178ms/step - loss: 0.4294 - accuracy: 0.8621 - val_loss: 0.1271 - val_accuracy: 0.9474\n",
            "Epoch 50/100\n",
            "100/100 [==============================] - 18s 180ms/step - loss: 0.4263 - accuracy: 0.8599 - val_loss: 0.1719 - val_accuracy: 0.9444\n",
            "Epoch 51/100\n",
            "100/100 [==============================] - 18s 184ms/step - loss: 0.4331 - accuracy: 0.8557 - val_loss: 0.1516 - val_accuracy: 0.9387\n",
            "Epoch 52/100\n",
            "100/100 [==============================] - 18s 180ms/step - loss: 0.4316 - accuracy: 0.8589 - val_loss: 0.1452 - val_accuracy: 0.9395\n",
            "Epoch 53/100\n",
            "100/100 [==============================] - 19s 186ms/step - loss: 0.4203 - accuracy: 0.8598 - val_loss: 0.1554 - val_accuracy: 0.9384\n",
            "Epoch 54/100\n",
            "100/100 [==============================] - 18s 184ms/step - loss: 0.4090 - accuracy: 0.8658 - val_loss: 0.0630 - val_accuracy: 0.9464\n",
            "Epoch 55/100\n",
            "100/100 [==============================] - 18s 180ms/step - loss: 0.4196 - accuracy: 0.8635 - val_loss: 0.1235 - val_accuracy: 0.9436\n",
            "Epoch 56/100\n",
            "100/100 [==============================] - 18s 180ms/step - loss: 0.4094 - accuracy: 0.8681 - val_loss: 0.0926 - val_accuracy: 0.9474\n",
            "Epoch 57/100\n",
            "100/100 [==============================] - 18s 179ms/step - loss: 0.3839 - accuracy: 0.8703 - val_loss: 0.1801 - val_accuracy: 0.9496\n",
            "Epoch 58/100\n",
            "100/100 [==============================] - 18s 181ms/step - loss: 0.3851 - accuracy: 0.8737 - val_loss: 0.1970 - val_accuracy: 0.9295\n",
            "Epoch 59/100\n",
            "100/100 [==============================] - 18s 181ms/step - loss: 0.3997 - accuracy: 0.8713 - val_loss: 0.1717 - val_accuracy: 0.9446\n",
            "Epoch 60/100\n",
            "100/100 [==============================] - 18s 180ms/step - loss: 0.4115 - accuracy: 0.8714 - val_loss: 0.0957 - val_accuracy: 0.9396\n",
            "Epoch 61/100\n",
            "100/100 [==============================] - 18s 182ms/step - loss: 0.3940 - accuracy: 0.8721 - val_loss: 0.2047 - val_accuracy: 0.9399\n",
            "Epoch 62/100\n",
            "100/100 [==============================] - 19s 187ms/step - loss: 0.3943 - accuracy: 0.8694 - val_loss: 0.1014 - val_accuracy: 0.9564\n",
            "Epoch 63/100\n",
            "100/100 [==============================] - 18s 181ms/step - loss: 0.3883 - accuracy: 0.8731 - val_loss: 0.2077 - val_accuracy: 0.9506\n",
            "Epoch 64/100\n",
            "100/100 [==============================] - 18s 185ms/step - loss: 0.3695 - accuracy: 0.8787 - val_loss: 0.0895 - val_accuracy: 0.9488\n",
            "Epoch 65/100\n",
            "100/100 [==============================] - 19s 188ms/step - loss: 0.3824 - accuracy: 0.8739 - val_loss: 0.1343 - val_accuracy: 0.9530\n",
            "Epoch 66/100\n",
            "100/100 [==============================] - 18s 180ms/step - loss: 0.3779 - accuracy: 0.8804 - val_loss: 0.1903 - val_accuracy: 0.9486\n",
            "Epoch 67/100\n",
            "100/100 [==============================] - 18s 175ms/step - loss: 0.3661 - accuracy: 0.8796 - val_loss: 0.2047 - val_accuracy: 0.9538\n",
            "Epoch 68/100\n",
            "100/100 [==============================] - 18s 180ms/step - loss: 0.3684 - accuracy: 0.8825 - val_loss: 0.1776 - val_accuracy: 0.9544\n",
            "Epoch 69/100\n",
            "100/100 [==============================] - 18s 180ms/step - loss: 0.3714 - accuracy: 0.8793 - val_loss: 0.1024 - val_accuracy: 0.9512\n",
            "Epoch 70/100\n",
            "100/100 [==============================] - 18s 178ms/step - loss: 0.3718 - accuracy: 0.8836 - val_loss: 0.1329 - val_accuracy: 0.9410\n",
            "Epoch 71/100\n",
            "100/100 [==============================] - 18s 185ms/step - loss: 0.3422 - accuracy: 0.8866 - val_loss: 0.1812 - val_accuracy: 0.9303\n",
            "Epoch 72/100\n",
            "100/100 [==============================] - 18s 184ms/step - loss: 0.3390 - accuracy: 0.8922 - val_loss: 0.1488 - val_accuracy: 0.9468\n",
            "Epoch 73/100\n",
            "100/100 [==============================] - 18s 182ms/step - loss: 0.3609 - accuracy: 0.8826 - val_loss: 0.2300 - val_accuracy: 0.9272\n",
            "Epoch 74/100\n",
            "100/100 [==============================] - 18s 179ms/step - loss: 0.3518 - accuracy: 0.8827 - val_loss: 0.1213 - val_accuracy: 0.9482\n",
            "Epoch 75/100\n",
            "100/100 [==============================] - 18s 180ms/step - loss: 0.3454 - accuracy: 0.8874 - val_loss: 0.2877 - val_accuracy: 0.9399\n",
            "Epoch 76/100\n",
            "100/100 [==============================] - 18s 179ms/step - loss: 0.3508 - accuracy: 0.8897 - val_loss: 0.1907 - val_accuracy: 0.9665\n",
            "Epoch 77/100\n",
            "100/100 [==============================] - 18s 183ms/step - loss: 0.3565 - accuracy: 0.8821 - val_loss: 0.0757 - val_accuracy: 0.9480\n",
            "Epoch 78/100\n",
            "100/100 [==============================] - 18s 181ms/step - loss: 0.3342 - accuracy: 0.8897 - val_loss: 0.0668 - val_accuracy: 0.9506\n",
            "Epoch 79/100\n",
            "100/100 [==============================] - 18s 179ms/step - loss: 0.3520 - accuracy: 0.8849 - val_loss: 0.1080 - val_accuracy: 0.9520\n",
            "Epoch 80/100\n",
            "100/100 [==============================] - 18s 182ms/step - loss: 0.3572 - accuracy: 0.8879 - val_loss: 0.1013 - val_accuracy: 0.9626\n",
            "Epoch 81/100\n",
            "100/100 [==============================] - 18s 182ms/step - loss: 0.3346 - accuracy: 0.8961 - val_loss: 0.1176 - val_accuracy: 0.9357\n",
            "Epoch 82/100\n",
            "100/100 [==============================] - 18s 183ms/step - loss: 0.3453 - accuracy: 0.8925 - val_loss: 0.1143 - val_accuracy: 0.9588\n",
            "Epoch 83/100\n",
            "100/100 [==============================] - 18s 182ms/step - loss: 0.3415 - accuracy: 0.8917 - val_loss: 0.0718 - val_accuracy: 0.9642\n",
            "Epoch 84/100\n",
            "100/100 [==============================] - 18s 180ms/step - loss: 0.3501 - accuracy: 0.8913 - val_loss: 0.0941 - val_accuracy: 0.9526\n",
            "Epoch 85/100\n",
            "100/100 [==============================] - 18s 178ms/step - loss: 0.3299 - accuracy: 0.8932 - val_loss: 0.1634 - val_accuracy: 0.9377\n",
            "Epoch 86/100\n",
            "100/100 [==============================] - 18s 180ms/step - loss: 0.3380 - accuracy: 0.8944 - val_loss: 0.0871 - val_accuracy: 0.9570\n",
            "Epoch 87/100\n",
            "100/100 [==============================] - 18s 183ms/step - loss: 0.3386 - accuracy: 0.8896 - val_loss: 0.0825 - val_accuracy: 0.9572\n",
            "Epoch 88/100\n",
            "100/100 [==============================] - 18s 179ms/step - loss: 0.3380 - accuracy: 0.8952 - val_loss: 0.2565 - val_accuracy: 0.9520\n",
            "Epoch 89/100\n",
            "100/100 [==============================] - 18s 180ms/step - loss: 0.3249 - accuracy: 0.8999 - val_loss: 0.1119 - val_accuracy: 0.9642\n",
            "Epoch 90/100\n",
            "100/100 [==============================] - 18s 178ms/step - loss: 0.3227 - accuracy: 0.8972 - val_loss: 0.1331 - val_accuracy: 0.9522\n",
            "Epoch 91/100\n",
            "100/100 [==============================] - 19s 186ms/step - loss: 0.3446 - accuracy: 0.8945 - val_loss: 0.1366 - val_accuracy: 0.9393\n",
            "Epoch 92/100\n",
            "100/100 [==============================] - 18s 179ms/step - loss: 0.3270 - accuracy: 0.8956 - val_loss: 0.1572 - val_accuracy: 0.9534\n",
            "Epoch 93/100\n",
            "100/100 [==============================] - 18s 184ms/step - loss: 0.3087 - accuracy: 0.8993 - val_loss: 0.0689 - val_accuracy: 0.9592\n",
            "Epoch 94/100\n",
            "100/100 [==============================] - 18s 184ms/step - loss: 0.3424 - accuracy: 0.8939 - val_loss: 0.0793 - val_accuracy: 0.9558\n",
            "Epoch 95/100\n",
            "100/100 [==============================] - 18s 179ms/step - loss: 0.3168 - accuracy: 0.9012 - val_loss: 0.0816 - val_accuracy: 0.9594\n",
            "Epoch 96/100\n",
            "100/100 [==============================] - 18s 184ms/step - loss: 0.3339 - accuracy: 0.8952 - val_loss: 0.0764 - val_accuracy: 0.9626\n",
            "Epoch 97/100\n",
            "100/100 [==============================] - 18s 177ms/step - loss: 0.3240 - accuracy: 0.9026 - val_loss: 0.0852 - val_accuracy: 0.9584\n",
            "Epoch 98/100\n",
            "100/100 [==============================] - 18s 181ms/step - loss: 0.3236 - accuracy: 0.8978 - val_loss: 0.0972 - val_accuracy: 0.9596\n",
            "Epoch 99/100\n",
            "100/100 [==============================] - 18s 181ms/step - loss: 0.3299 - accuracy: 0.8953 - val_loss: 0.1050 - val_accuracy: 0.9592\n",
            "Epoch 100/100\n",
            "100/100 [==============================] - 18s 178ms/step - loss: 0.3131 - accuracy: 0.9011 - val_loss: 0.0850 - val_accuracy: 0.9647\n"
          ],
          "name": "stdout"
        }
      ]
    },
    {
      "cell_type": "code",
      "metadata": {
        "id": "bm2uLX_ycNlo",
        "colab_type": "code",
        "colab": {}
      },
      "source": [
        "model.save('german_traffic_sign_2.h5')"
      ],
      "execution_count": null,
      "outputs": []
    },
    {
      "cell_type": "code",
      "metadata": {
        "id": "_Eg-hLIqcYf8",
        "colab_type": "code",
        "colab": {
          "base_uri": "https://localhost:8080/",
          "height": 545
        },
        "outputId": "8289e3d1-6d3d-447c-f2a0-d9ef16e3ebe1"
      },
      "source": [
        "import matplotlib.pyplot as plt\n",
        "\n",
        "acc = history.history['accuracy']\n",
        "val_acc = history.history['val_accuracy']\n",
        "loss = history.history['loss']\n",
        "val_loss = history.history['val_loss']\n",
        "\n",
        "epochs = range(len(acc))\n",
        "\n",
        "plt.plot(epochs, acc, 'bo', label='Training acc')\n",
        "plt.plot(epochs, val_acc, 'b', label='Validation acc')\n",
        "plt.title('Training and Validation accuracy')\n",
        "plt.legend() #旁邊圖例\n",
        "\n",
        "plt.figure()\n",
        "\n",
        "plt.plot(epochs, loss, 'bo', label='Training loss')\n",
        "plt.plot(epochs, val_loss, 'b', label='Validation loss')\n",
        "plt.title('Training and validation loss')\n",
        "plt.legend()\n",
        "\n",
        "plt.show()"
      ],
      "execution_count": null,
      "outputs": [
        {
          "output_type": "display_data",
          "data": {
            "image/png": "[encoded data removed]",
            "text/plain": [
              "<Figure size 432x288 with 1 Axes>"
            ]
          },
          "metadata": {
            "tags": [],
            "needs_background": "light"
          }
        },
        {
          "output_type": "display_data",
          "data": {
            "image/png": "[encoded data removed]",
            "text/plain": [
              "<Figure size 432x288 with 1 Axes>"
            ]
          },
          "metadata": {
            "tags": [],
            "needs_background": "light"
          }
        }
      ]
    },
    {
      "cell_type": "code",
      "metadata": {
        "id": "o6ZiwEw5dWF_",
        "colab_type": "code",
        "colab": {
          "base_uri": "https://localhost:8080/",
          "height": 50
        },
        "outputId": "d6248172-eb99-4dcf-efee-8499089d50e8"
      },
      "source": [
        "test_datagen = ImageDataGenerator(rescale=1./255)\n",
        "\n",
        "test_generator = train_datagen.flow_from_directory(test_dir, \n",
        "                                                    target_size = (50, 50),\n",
        "                                                    batch_size = 20,\n",
        "                                                    class_mode = 'categorical') \n",
        "test_loss, test_acc=model.evaluate_generator(test_generator, steps=294) #5879/20\n",
        "print('test accururacy:', test_acc)"
      ],
      "execution_count": null,
      "outputs": [
        {
          "output_type": "stream",
          "text": [
            "Found 5891 images belonging to 43 classes.\n",
            "test accururacy: 0.9338435530662537\n"
          ],
          "name": "stdout"
        }
      ]
    }
  ]
}